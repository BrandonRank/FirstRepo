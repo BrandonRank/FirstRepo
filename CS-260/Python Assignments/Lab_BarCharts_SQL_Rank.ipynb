{
  "cells": [
    {
      "cell_type": "markdown",
      "id": "4d28e2cd-0250-4d00-9e5a-5b8f56a46bf9",
      "metadata": {
        "id": "4d28e2cd-0250-4d00-9e5a-5b8f56a46bf9"
      },
      "source": [
        "### *“At the end of the day, we can endure much more than we think we can.”*\n",
        "*-Frida Kahlo, 20th-century Mexican painter*"
      ]
    },
    {
      "cell_type": "markdown",
      "id": "56356715-efe8-46c3-9b44-b31efe7f0ded",
      "metadata": {
        "id": "56356715-efe8-46c3-9b44-b31efe7f0ded"
      },
      "source": [
        "----\n",
        "\n",
        "YOUR NAME HERE: Brandon Rank\n",
        "\n",
        "----"
      ]
    },
    {
      "cell_type": "markdown",
      "id": "b42e88cc-6126-48a0-9633-9abce9a79105",
      "metadata": {
        "id": "b42e88cc-6126-48a0-9633-9abce9a79105"
      },
      "source": [
        "# Lab L: Bar Graphs and Group By\n",
        "\n",
        "---"
      ]
    },
    {
      "cell_type": "markdown",
      "id": "ca218b08-1dd1-47a5-98d0-16e8a111be05",
      "metadata": {
        "id": "ca218b08-1dd1-47a5-98d0-16e8a111be05"
      },
      "source": [
        "Begin by importing the new plotting package below."
      ]
    },
    {
      "cell_type": "code",
      "execution_count": null,
      "id": "85829008-1a1b-46eb-ad75-4dff2ccfab20",
      "metadata": {
        "id": "85829008-1a1b-46eb-ad75-4dff2ccfab20"
      },
      "outputs": [],
      "source": [
        "import numpy as np\n",
        "import pandas as pd\n",
        "import sqlite3 as sql  #SQL!\n",
        "import matplotlib.pyplot as plt #picture making!\n",
        "plt.style.use('fivethirtyeight') #A helpful style package"
      ]
    },
    {
      "cell_type": "markdown",
      "id": "d5def6a4-db6f-4029-925d-cb8299d61a35",
      "metadata": {
        "id": "d5def6a4-db6f-4029-925d-cb8299d61a35"
      },
      "source": [
        "### Visualizing Categorical Distributions ###\n",
        "\n",
        "Data come in many forms that are not numerical. Data can be pieces of music, or places on a map. They can also be categories into which you can place individuals. Here are some examples of *categorical* variables.\n",
        "\n",
        "- The individuals are cartons of ice-cream, and the variable is the flavor in the carton.\n",
        "- The individuals are professional basketball players, and the variable is the player's team.\n",
        "- The individuals are years, and the variable is the genre of the highest grossing movie of the year.\n",
        "- The individuals are survey respondents, and the variable is the response they choose from among \"Not at all satisfied,\" \"Somewhat satisfied,\" and \"Very satisfied.\""
      ]
    },
    {
      "cell_type": "markdown",
      "id": "77d5ad6b-aac3-4249-a2f3-67f0857432ba",
      "metadata": {
        "id": "77d5ad6b-aac3-4249-a2f3-67f0857432ba"
      },
      "source": [
        "Below I set up an  `icecream` dataframe that contains data on 30 cartons of ice-cream."
      ]
    },
    {
      "cell_type": "code",
      "execution_count": null,
      "id": "9946a502-8747-43e6-82aa-b4368a145f8b",
      "metadata": {
        "jupyter": {
          "outputs_hidden": false
        },
        "colab": {
          "base_uri": "https://localhost:8080/",
          "height": 143
        },
        "id": "9946a502-8747-43e6-82aa-b4368a145f8b",
        "outputId": "5c3540ca-d8ba-4a5d-a00b-300288e617e8"
      },
      "outputs": [
        {
          "output_type": "execute_result",
          "data": {
            "text/plain": [
              "       Flavor  Number of Cartons\n",
              "0   Chocolate                 16\n",
              "1  Strawberry                  5\n",
              "2     Vanilla                  9"
            ],
            "text/html": [
              "\n",
              "  <div id=\"df-c86e74f3-1b36-4fa2-8d64-32b29e503876\">\n",
              "    <div class=\"colab-df-container\">\n",
              "      <div>\n",
              "<style scoped>\n",
              "    .dataframe tbody tr th:only-of-type {\n",
              "        vertical-align: middle;\n",
              "    }\n",
              "\n",
              "    .dataframe tbody tr th {\n",
              "        vertical-align: top;\n",
              "    }\n",
              "\n",
              "    .dataframe thead th {\n",
              "        text-align: right;\n",
              "    }\n",
              "</style>\n",
              "<table border=\"1\" class=\"dataframe\">\n",
              "  <thead>\n",
              "    <tr style=\"text-align: right;\">\n",
              "      <th></th>\n",
              "      <th>Flavor</th>\n",
              "      <th>Number of Cartons</th>\n",
              "    </tr>\n",
              "  </thead>\n",
              "  <tbody>\n",
              "    <tr>\n",
              "      <th>0</th>\n",
              "      <td>Chocolate</td>\n",
              "      <td>16</td>\n",
              "    </tr>\n",
              "    <tr>\n",
              "      <th>1</th>\n",
              "      <td>Strawberry</td>\n",
              "      <td>5</td>\n",
              "    </tr>\n",
              "    <tr>\n",
              "      <th>2</th>\n",
              "      <td>Vanilla</td>\n",
              "      <td>9</td>\n",
              "    </tr>\n",
              "  </tbody>\n",
              "</table>\n",
              "</div>\n",
              "      <button class=\"colab-df-convert\" onclick=\"convertToInteractive('df-c86e74f3-1b36-4fa2-8d64-32b29e503876')\"\n",
              "              title=\"Convert this dataframe to an interactive table.\"\n",
              "              style=\"display:none;\">\n",
              "        \n",
              "  <svg xmlns=\"http://www.w3.org/2000/svg\" height=\"24px\"viewBox=\"0 0 24 24\"\n",
              "       width=\"24px\">\n",
              "    <path d=\"M0 0h24v24H0V0z\" fill=\"none\"/>\n",
              "    <path d=\"M18.56 5.44l.94 2.06.94-2.06 2.06-.94-2.06-.94-.94-2.06-.94 2.06-2.06.94zm-11 1L8.5 8.5l.94-2.06 2.06-.94-2.06-.94L8.5 2.5l-.94 2.06-2.06.94zm10 10l.94 2.06.94-2.06 2.06-.94-2.06-.94-.94-2.06-.94 2.06-2.06.94z\"/><path d=\"M17.41 7.96l-1.37-1.37c-.4-.4-.92-.59-1.43-.59-.52 0-1.04.2-1.43.59L10.3 9.45l-7.72 7.72c-.78.78-.78 2.05 0 2.83L4 21.41c.39.39.9.59 1.41.59.51 0 1.02-.2 1.41-.59l7.78-7.78 2.81-2.81c.8-.78.8-2.07 0-2.86zM5.41 20L4 18.59l7.72-7.72 1.47 1.35L5.41 20z\"/>\n",
              "  </svg>\n",
              "      </button>\n",
              "      \n",
              "  <style>\n",
              "    .colab-df-container {\n",
              "      display:flex;\n",
              "      flex-wrap:wrap;\n",
              "      gap: 12px;\n",
              "    }\n",
              "\n",
              "    .colab-df-convert {\n",
              "      background-color: #E8F0FE;\n",
              "      border: none;\n",
              "      border-radius: 50%;\n",
              "      cursor: pointer;\n",
              "      display: none;\n",
              "      fill: #1967D2;\n",
              "      height: 32px;\n",
              "      padding: 0 0 0 0;\n",
              "      width: 32px;\n",
              "    }\n",
              "\n",
              "    .colab-df-convert:hover {\n",
              "      background-color: #E2EBFA;\n",
              "      box-shadow: 0px 1px 2px rgba(60, 64, 67, 0.3), 0px 1px 3px 1px rgba(60, 64, 67, 0.15);\n",
              "      fill: #174EA6;\n",
              "    }\n",
              "\n",
              "    [theme=dark] .colab-df-convert {\n",
              "      background-color: #3B4455;\n",
              "      fill: #D2E3FC;\n",
              "    }\n",
              "\n",
              "    [theme=dark] .colab-df-convert:hover {\n",
              "      background-color: #434B5C;\n",
              "      box-shadow: 0px 1px 3px 1px rgba(0, 0, 0, 0.15);\n",
              "      filter: drop-shadow(0px 1px 2px rgba(0, 0, 0, 0.3));\n",
              "      fill: #FFFFFF;\n",
              "    }\n",
              "  </style>\n",
              "\n",
              "      <script>\n",
              "        const buttonEl =\n",
              "          document.querySelector('#df-c86e74f3-1b36-4fa2-8d64-32b29e503876 button.colab-df-convert');\n",
              "        buttonEl.style.display =\n",
              "          google.colab.kernel.accessAllowed ? 'block' : 'none';\n",
              "\n",
              "        async function convertToInteractive(key) {\n",
              "          const element = document.querySelector('#df-c86e74f3-1b36-4fa2-8d64-32b29e503876');\n",
              "          const dataTable =\n",
              "            await google.colab.kernel.invokeFunction('convertToInteractive',\n",
              "                                                     [key], {});\n",
              "          if (!dataTable) return;\n",
              "\n",
              "          const docLinkHtml = 'Like what you see? Visit the ' +\n",
              "            '<a target=\"_blank\" href=https://colab.research.google.com/notebooks/data_table.ipynb>data table notebook</a>'\n",
              "            + ' to learn more about interactive tables.';\n",
              "          element.innerHTML = '';\n",
              "          dataTable['output_type'] = 'display_data';\n",
              "          await google.colab.output.renderOutput(dataTable, element);\n",
              "          const docLink = document.createElement('div');\n",
              "          docLink.innerHTML = docLinkHtml;\n",
              "          element.appendChild(docLink);\n",
              "        }\n",
              "      </script>\n",
              "    </div>\n",
              "  </div>\n",
              "  "
            ]
          },
          "metadata": {},
          "execution_count": 2
        }
      ],
      "source": [
        "icecream_dict = {'Flavor' : np.array(['Chocolate', 'Strawberry', 'Vanilla']),\n",
        "                 'Number of Cartons' : np.array([16, 5, 9])}\n",
        "\n",
        "icecream = pd.DataFrame(icecream_dict)\n",
        "icecream"
      ]
    },
    {
      "cell_type": "markdown",
      "id": "16420a11-86cc-42c4-a96d-d543d6c51c97",
      "metadata": {
        "id": "16420a11-86cc-42c4-a96d-d543d6c51c97"
      },
      "source": [
        "The *values* of the categorical variable \"flavor\" are chocolate, strawberry, and vanilla. The table shows the number of cartons of each flavor. We call this a *distribution table*. A *distribution* shows all the values of a variable, along with the frequency of each one."
      ]
    },
    {
      "cell_type": "markdown",
      "id": "165dae6e-8431-4052-a675-3c8b7593517c",
      "metadata": {
        "id": "165dae6e-8431-4052-a675-3c8b7593517c"
      },
      "source": [
        "### Bar Chart ###\n",
        "The bar chart is a familiar way of visualizing categorical distributions. It displays a bar for each category. The bars are equally spaced and equally wide. The length of each bar is proportional to the frequency of the corresponding category."
      ]
    },
    {
      "cell_type": "markdown",
      "id": "49a63de2-90b9-401f-92bd-32deae4cf20b",
      "metadata": {
        "id": "49a63de2-90b9-401f-92bd-32deae4cf20b"
      },
      "source": [
        "The `bar` method from the `plt` package takes two arguments: the first is the column label of the categories, and the second is the column label of the frequencies."
      ]
    },
    {
      "cell_type": "code",
      "execution_count": null,
      "id": "12840343-31c1-4b5d-a307-b69a707ba050",
      "metadata": {
        "colab": {
          "base_uri": "https://localhost:8080/",
          "height": 320
        },
        "id": "12840343-31c1-4b5d-a307-b69a707ba050",
        "outputId": "13af989e-9e63-4de2-e09a-7dfa9152646f"
      },
      "outputs": [
        {
          "output_type": "execute_result",
          "data": {
            "text/plain": [
              "Text(0.5, 1.0, 'Cartons per Flavor')"
            ]
          },
          "metadata": {},
          "execution_count": 3
        },
        {
          "output_type": "display_data",
          "data": {
            "text/plain": [
              "<Figure size 432x288 with 1 Axes>"
            ],
            "image/png": "[encoded data removed]"
          },
          "metadata": {}
        }
      ],
      "source": [
        "plt.bar(icecream['Flavor'], icecream['Number of Cartons'])\n",
        "plt.ylabel('Number of Cartons')\n",
        "plt.title('Cartons per Flavor')"
      ]
    },
    {
      "cell_type": "markdown",
      "id": "8df97749-aa6d-4f71-ae72-15ee87795100",
      "metadata": {
        "id": "8df97749-aa6d-4f71-ae72-15ee87795100"
      },
      "source": [
        "We will often draw bar charts with horizontal bars because it's easier to label the bars that way. The method to use here is called `barh` and it takes the same input as `bar`."
      ]
    },
    {
      "cell_type": "code",
      "execution_count": null,
      "id": "d2ae4c5e-627e-4c96-8bdd-08d00e6605f2",
      "metadata": {
        "jupyter": {
          "outputs_hidden": false
        },
        "colab": {
          "base_uri": "https://localhost:8080/",
          "height": 342
        },
        "id": "d2ae4c5e-627e-4c96-8bdd-08d00e6605f2",
        "outputId": "b4344026-170b-4fcc-e3b9-ea3e301e9bfb"
      },
      "outputs": [
        {
          "output_type": "execute_result",
          "data": {
            "text/plain": [
              "Text(0.5, 1.0, 'Cartons per Flavor')"
            ]
          },
          "metadata": {},
          "execution_count": 4
        },
        {
          "output_type": "display_data",
          "data": {
            "text/plain": [
              "<Figure size 432x288 with 1 Axes>"
            ],
            "image/png": "[encoded data removed]"
          },
          "metadata": {}
        }
      ],
      "source": [
        "plt.barh(icecream['Flavor'], icecream['Number of Cartons'])\n",
        "plt.xlabel('Number of Cartons')\n",
        "plt.title('Cartons per Flavor')"
      ]
    },
    {
      "cell_type": "markdown",
      "id": "678eea8f-3a12-44f7-8c48-0e671897d176",
      "metadata": {
        "id": "678eea8f-3a12-44f7-8c48-0e671897d176"
      },
      "source": [
        "### Features of Categorical Distributions ###\n",
        "Apart from purely visual differences, there is an important fundamental distinction between bar charts and the two graphs that we saw in the previous sections. Those were the scatter plot and the line plot, both of which display two numerical variables – the variables on both axes are numerical. **In contrast, the bar chart has categories on one axis and numerical frequencies on the other.**\n",
        "\n",
        "This has consequences for the chart. First, the width of each bar and the space between consecutive bars is entirely up to the person who is producing the graph, or to the program being used to produce it. Python made those choices for us. If you were to draw the bar graph by hand, you could make completely different choices and still have a perfectly correct bar graph, provided you drew all the bars with the same width and kept all the spaces the same.\n",
        "\n",
        "**Most importantly, the bars can be drawn in any order.** The categories \"chocolate,\" \"vanilla,\" and \"strawberry\" have no universal rank order, unlike for example the numbers 5, 7, and 10.\n",
        "\n",
        "This means that we can draw a bar chart that is easier to interpret, by rearranging the bars in decreasing order. To do this, you can either:\n",
        "\n",
        "* Use the ORDER BY command in SQL.  We cannot use this option because we did not load the ice cream data into a SQL query.\n",
        "* Sort by using Python, that is, use the Python ```sort_values``` function  for data frames which has this syntax:\n",
        "\n",
        "  * ```nba.sort_values(by='SALARY') #Sorts the Salary col of the nba dataframe in ascending order ```\n",
        "\n",
        "  * ```nba.sort_values(by='SALARY', ascending=False) #Sorts Descending (Lowest to Highest)```\n",
        "\n",
        "We'll use the second option to first rearrange the rows of `icecream` in decreasing order of `Number of Cartons`, and then draw the bar chart."
      ]
    },
    {
      "cell_type": "markdown",
      "id": "aab5174d-6919-4ded-9c43-172765a89af7",
      "metadata": {
        "id": "aab5174d-6919-4ded-9c43-172765a89af7"
      },
      "source": [
        "---\n",
        "\n",
        "# **Question 1**"
      ]
    },
    {
      "cell_type": "markdown",
      "id": "d7d4bd2b-a261-4318-90bd-3850d2efa19f",
      "metadata": {
        "id": "d7d4bd2b-a261-4318-90bd-3850d2efa19f"
      },
      "source": [
        "A) Sort the icecream chart so that it is ascending in its number of cartons"
      ]
    },
    {
      "cell_type": "code",
      "execution_count": null,
      "id": "401986b6-b715-4db2-acf2-765063af83b3",
      "metadata": {
        "colab": {
          "base_uri": "https://localhost:8080/",
          "height": 143
        },
        "id": "401986b6-b715-4db2-acf2-765063af83b3",
        "outputId": "3b8a0d3d-7dc8-4fc5-b4f7-e554df4dca07"
      },
      "outputs": [
        {
          "output_type": "execute_result",
          "data": {
            "text/plain": [
              "       Flavor  Number of Cartons\n",
              "0   Chocolate                 16\n",
              "2     Vanilla                  9\n",
              "1  Strawberry                  5"
            ],
            "text/html": [
              "\n",
              "  <div id=\"df-3b7278eb-c3e1-4d05-9968-694ff70718f9\">\n",
              "    <div class=\"colab-df-container\">\n",
              "      <div>\n",
              "<style scoped>\n",
              "    .dataframe tbody tr th:only-of-type {\n",
              "        vertical-align: middle;\n",
              "    }\n",
              "\n",
              "    .dataframe tbody tr th {\n",
              "        vertical-align: top;\n",
              "    }\n",
              "\n",
              "    .dataframe thead th {\n",
              "        text-align: right;\n",
              "    }\n",
              "</style>\n",
              "<table border=\"1\" class=\"dataframe\">\n",
              "  <thead>\n",
              "    <tr style=\"text-align: right;\">\n",
              "      <th></th>\n",
              "      <th>Flavor</th>\n",
              "      <th>Number of Cartons</th>\n",
              "    </tr>\n",
              "  </thead>\n",
              "  <tbody>\n",
              "    <tr>\n",
              "      <th>0</th>\n",
              "      <td>Chocolate</td>\n",
              "      <td>16</td>\n",
              "    </tr>\n",
              "    <tr>\n",
              "      <th>2</th>\n",
              "      <td>Vanilla</td>\n",
              "      <td>9</td>\n",
              "    </tr>\n",
              "    <tr>\n",
              "      <th>1</th>\n",
              "      <td>Strawberry</td>\n",
              "      <td>5</td>\n",
              "    </tr>\n",
              "  </tbody>\n",
              "</table>\n",
              "</div>\n",
              "      <button class=\"colab-df-convert\" onclick=\"convertToInteractive('df-3b7278eb-c3e1-4d05-9968-694ff70718f9')\"\n",
              "              title=\"Convert this dataframe to an interactive table.\"\n",
              "              style=\"display:none;\">\n",
              "        \n",
              "  <svg xmlns=\"http://www.w3.org/2000/svg\" height=\"24px\"viewBox=\"0 0 24 24\"\n",
              "       width=\"24px\">\n",
              "    <path d=\"M0 0h24v24H0V0z\" fill=\"none\"/>\n",
              "    <path d=\"M18.56 5.44l.94 2.06.94-2.06 2.06-.94-2.06-.94-.94-2.06-.94 2.06-2.06.94zm-11 1L8.5 8.5l.94-2.06 2.06-.94-2.06-.94L8.5 2.5l-.94 2.06-2.06.94zm10 10l.94 2.06.94-2.06 2.06-.94-2.06-.94-.94-2.06-.94 2.06-2.06.94z\"/><path d=\"M17.41 7.96l-1.37-1.37c-.4-.4-.92-.59-1.43-.59-.52 0-1.04.2-1.43.59L10.3 9.45l-7.72 7.72c-.78.78-.78 2.05 0 2.83L4 21.41c.39.39.9.59 1.41.59.51 0 1.02-.2 1.41-.59l7.78-7.78 2.81-2.81c.8-.78.8-2.07 0-2.86zM5.41 20L4 18.59l7.72-7.72 1.47 1.35L5.41 20z\"/>\n",
              "  </svg>\n",
              "      </button>\n",
              "      \n",
              "  <style>\n",
              "    .colab-df-container {\n",
              "      display:flex;\n",
              "      flex-wrap:wrap;\n",
              "      gap: 12px;\n",
              "    }\n",
              "\n",
              "    .colab-df-convert {\n",
              "      background-color: #E8F0FE;\n",
              "      border: none;\n",
              "      border-radius: 50%;\n",
              "      cursor: pointer;\n",
              "      display: none;\n",
              "      fill: #1967D2;\n",
              "      height: 32px;\n",
              "      padding: 0 0 0 0;\n",
              "      width: 32px;\n",
              "    }\n",
              "\n",
              "    .colab-df-convert:hover {\n",
              "      background-color: #E2EBFA;\n",
              "      box-shadow: 0px 1px 2px rgba(60, 64, 67, 0.3), 0px 1px 3px 1px rgba(60, 64, 67, 0.15);\n",
              "      fill: #174EA6;\n",
              "    }\n",
              "\n",
              "    [theme=dark] .colab-df-convert {\n",
              "      background-color: #3B4455;\n",
              "      fill: #D2E3FC;\n",
              "    }\n",
              "\n",
              "    [theme=dark] .colab-df-convert:hover {\n",
              "      background-color: #434B5C;\n",
              "      box-shadow: 0px 1px 3px 1px rgba(0, 0, 0, 0.15);\n",
              "      filter: drop-shadow(0px 1px 2px rgba(0, 0, 0, 0.3));\n",
              "      fill: #FFFFFF;\n",
              "    }\n",
              "  </style>\n",
              "\n",
              "      <script>\n",
              "        const buttonEl =\n",
              "          document.querySelector('#df-3b7278eb-c3e1-4d05-9968-694ff70718f9 button.colab-df-convert');\n",
              "        buttonEl.style.display =\n",
              "          google.colab.kernel.accessAllowed ? 'block' : 'none';\n",
              "\n",
              "        async function convertToInteractive(key) {\n",
              "          const element = document.querySelector('#df-3b7278eb-c3e1-4d05-9968-694ff70718f9');\n",
              "          const dataTable =\n",
              "            await google.colab.kernel.invokeFunction('convertToInteractive',\n",
              "                                                     [key], {});\n",
              "          if (!dataTable) return;\n",
              "\n",
              "          const docLinkHtml = 'Like what you see? Visit the ' +\n",
              "            '<a target=\"_blank\" href=https://colab.research.google.com/notebooks/data_table.ipynb>data table notebook</a>'\n",
              "            + ' to learn more about interactive tables.';\n",
              "          element.innerHTML = '';\n",
              "          dataTable['output_type'] = 'display_data';\n",
              "          await google.colab.output.renderOutput(dataTable, element);\n",
              "          const docLink = document.createElement('div');\n",
              "          docLink.innerHTML = docLinkHtml;\n",
              "          element.appendChild(docLink);\n",
              "        }\n",
              "      </script>\n",
              "    </div>\n",
              "  </div>\n",
              "  "
            ]
          },
          "metadata": {},
          "execution_count": 5
        }
      ],
      "source": [
        "#sort here with Python - no SQL\n",
        "icecream = icecream.sort_values(by = \"Number of Cartons\", ascending = False)\n",
        "icecream"
      ]
    },
    {
      "cell_type": "markdown",
      "id": "dd902ba0-898e-47e0-9d8b-cbef4f27c2b1",
      "metadata": {
        "id": "dd902ba0-898e-47e0-9d8b-cbef4f27c2b1"
      },
      "source": [
        "B) Now redraw the barchart (using the `bar` command) so that from left to right the flavors are in descending order,ie, Chocolate before Vanilla before Strawberry"
      ]
    },
    {
      "cell_type": "code",
      "execution_count": null,
      "id": "bae81242-251a-447c-a942-f26c9249a9f6",
      "metadata": {
        "jupyter": {
          "outputs_hidden": false
        },
        "colab": {
          "base_uri": "https://localhost:8080/",
          "height": 325
        },
        "id": "bae81242-251a-447c-a942-f26c9249a9f6",
        "outputId": "6d585b8c-f32f-4df7-f466-29bbb149c022"
      },
      "outputs": [
        {
          "output_type": "display_data",
          "data": {
            "text/plain": [
              "<Figure size 432x288 with 1 Axes>"
            ],
            "image/png": "[encoded data removed]"
          },
          "metadata": {}
        }
      ],
      "source": [
        "plt.bar(icecream[\"Flavor\"],icecream[\"Number of Cartons\"])\n",
        "plt.title(\"Number of Cartons per Flavor\")\n",
        "plt.xlabel(\"Flavor\")\n",
        "plt.ylabel(\"Number of Cartons\");"
      ]
    },
    {
      "cell_type": "markdown",
      "id": "5c4b0fdd-c694-440b-8401-d3b504d154b0",
      "metadata": {
        "id": "5c4b0fdd-c694-440b-8401-d3b504d154b0"
      },
      "source": [
        "C) Finally, redraw the horizontal barchart (using the `barh` command) so that from top to bottom the flavors are in descending order,ie, Chocolate above Vanilla above Strawberry"
      ]
    },
    {
      "cell_type": "code",
      "execution_count": null,
      "id": "bfa465cf-ae0a-4003-ba89-44b53ffb225e",
      "metadata": {
        "colab": {
          "base_uri": "https://localhost:8080/",
          "height": 325
        },
        "id": "bfa465cf-ae0a-4003-ba89-44b53ffb225e",
        "outputId": "3c60d999-2775-4fd1-e32a-d703a9baee87"
      },
      "outputs": [
        {
          "output_type": "display_data",
          "data": {
            "text/plain": [
              "<Figure size 432x288 with 1 Axes>"
            ],
            "image/png": "[encoded data removed]"
          },
          "metadata": {}
        }
      ],
      "source": [
        "plt.barh(icecream[\"Flavor\"],icecream[\"Number of Cartons\"])\n",
        "plt.title(\"Number of Cartons per Flavor\")\n",
        "plt.xlabel(\"Flavor\")\n",
        "plt.ylabel(\"Number of Cartons\");"
      ]
    },
    {
      "cell_type": "markdown",
      "id": "be1ddb52-e632-4ddc-bbb4-7739210d03ed",
      "metadata": {
        "id": "be1ddb52-e632-4ddc-bbb4-7739210d03ed"
      },
      "source": [
        "---\n",
        "\n",
        "### Rule of Thumb:  Always sort the categories in a bar chart.  \n",
        "\n",
        "The sorted bar charts in the previous question contains exactly the same information as before, but it is a little easier to read. While this is not a huge gain in reading a chart with just three bars, it can be quite significant when the number of categories is large.\n",
        "\n",
        "So always sort the categories in a bar chart. The only exception is when there is a natural ordering on the x axis.  For example, below, the categories are years and it is natural to show years from earliest to latest.\n",
        "\n",
        "![shark-bar-chart](https://github.com/kathleen-ryan-DeSales/CS250/blob/main/pictures/shark_barchart.png?raw=true)\n",
        "\n"
      ]
    },
    {
      "cell_type": "markdown",
      "id": "329481cd-3360-4416-a443-1e95acbe4537",
      "metadata": {
        "id": "329481cd-3360-4416-a443-1e95acbe4537"
      },
      "source": [
        "---\n",
        "### Grouping Categorical Data ###\n",
        "\n",
        "To construct the table `icecream`, someone had to look at all 30 cartons of ice-cream and count the number of each flavor. SQL allows us to do that with the GROUP BY clause, so we can use a GROUP BY clause and then use it to create a visualization.\n",
        "\n",
        "For the next question, we'll use these 2 columns from the partner perferences survey that I gave last semester in class:\n",
        "\n",
        " * Partner_Preference:  Would you like a partner for the final project?\n",
        " * Python_Feeling:  Rate how you are feeling with Python  (1-5 with 5 meaning you feel very strong.)\n",
        "\n",
        "Let's load in the partner preferences data."
      ]
    },
    {
      "cell_type": "code",
      "execution_count": null,
      "id": "2e080235-b2f4-4337-8438-2ec15eec8666",
      "metadata": {
        "id": "2e080235-b2f4-4337-8438-2ec15eec8666"
      },
      "outputs": [],
      "source": [
        "try:\n",
        "    #Read in the needed csvs and create the DB\n",
        "    preferences = pd.read_csv('partner_preferences.csv')\n",
        "    conn = sql.connect('preferences.db')\n",
        "    preferences.to_sql('preferences', conn,  index = False)\n",
        "\n",
        "except:\n",
        "\n",
        "    print(\"Issue during DB creation/connection\")"
      ]
    },
    {
      "cell_type": "code",
      "execution_count": null,
      "id": "0f2f3c1c-b046-461c-a80c-79a77a8c4c2c",
      "metadata": {
        "colab": {
          "base_uri": "https://localhost:8080/",
          "height": 551
        },
        "id": "0f2f3c1c-b046-461c-a80c-79a77a8c4c2c",
        "outputId": "d41226fd-346c-4ec2-fd62-7d1d4e20c696"
      },
      "outputs": [
        {
          "output_type": "execute_result",
          "data": {
            "text/plain": [
              "   Partner_Preference  Python_Feeling\n",
              "0                 Yes               5\n",
              "1       No preference               5\n",
              "2                 Yes               3\n",
              "3                 Yes               2\n",
              "4                 Yes               4\n",
              "5                 Yes               4\n",
              "6                 Yes               3\n",
              "7                 Yes               3\n",
              "8                 Yes               4\n",
              "9                 Yes               2\n",
              "10      No preference               3\n",
              "11                Yes               2\n",
              "12                Yes               5\n",
              "13                Yes               5\n",
              "14                Yes               4\n",
              "15      No preference               3"
            ],
            "text/html": [
              "\n",
              "  <div id=\"df-14242dca-bb8f-48be-8672-c15d41307cef\">\n",
              "    <div class=\"colab-df-container\">\n",
              "      <div>\n",
              "<style scoped>\n",
              "    .dataframe tbody tr th:only-of-type {\n",
              "        vertical-align: middle;\n",
              "    }\n",
              "\n",
              "    .dataframe tbody tr th {\n",
              "        vertical-align: top;\n",
              "    }\n",
              "\n",
              "    .dataframe thead th {\n",
              "        text-align: right;\n",
              "    }\n",
              "</style>\n",
              "<table border=\"1\" class=\"dataframe\">\n",
              "  <thead>\n",
              "    <tr style=\"text-align: right;\">\n",
              "      <th></th>\n",
              "      <th>Partner_Preference</th>\n",
              "      <th>Python_Feeling</th>\n",
              "    </tr>\n",
              "  </thead>\n",
              "  <tbody>\n",
              "    <tr>\n",
              "      <th>0</th>\n",
              "      <td>Yes</td>\n",
              "      <td>5</td>\n",
              "    </tr>\n",
              "    <tr>\n",
              "      <th>1</th>\n",
              "      <td>No preference</td>\n",
              "      <td>5</td>\n",
              "    </tr>\n",
              "    <tr>\n",
              "      <th>2</th>\n",
              "      <td>Yes</td>\n",
              "      <td>3</td>\n",
              "    </tr>\n",
              "    <tr>\n",
              "      <th>3</th>\n",
              "      <td>Yes</td>\n",
              "      <td>2</td>\n",
              "    </tr>\n",
              "    <tr>\n",
              "      <th>4</th>\n",
              "      <td>Yes</td>\n",
              "      <td>4</td>\n",
              "    </tr>\n",
              "    <tr>\n",
              "      <th>5</th>\n",
              "      <td>Yes</td>\n",
              "      <td>4</td>\n",
              "    </tr>\n",
              "    <tr>\n",
              "      <th>6</th>\n",
              "      <td>Yes</td>\n",
              "      <td>3</td>\n",
              "    </tr>\n",
              "    <tr>\n",
              "      <th>7</th>\n",
              "      <td>Yes</td>\n",
              "      <td>3</td>\n",
              "    </tr>\n",
              "    <tr>\n",
              "      <th>8</th>\n",
              "      <td>Yes</td>\n",
              "      <td>4</td>\n",
              "    </tr>\n",
              "    <tr>\n",
              "      <th>9</th>\n",
              "      <td>Yes</td>\n",
              "      <td>2</td>\n",
              "    </tr>\n",
              "    <tr>\n",
              "      <th>10</th>\n",
              "      <td>No preference</td>\n",
              "      <td>3</td>\n",
              "    </tr>\n",
              "    <tr>\n",
              "      <th>11</th>\n",
              "      <td>Yes</td>\n",
              "      <td>2</td>\n",
              "    </tr>\n",
              "    <tr>\n",
              "      <th>12</th>\n",
              "      <td>Yes</td>\n",
              "      <td>5</td>\n",
              "    </tr>\n",
              "    <tr>\n",
              "      <th>13</th>\n",
              "      <td>Yes</td>\n",
              "      <td>5</td>\n",
              "    </tr>\n",
              "    <tr>\n",
              "      <th>14</th>\n",
              "      <td>Yes</td>\n",
              "      <td>4</td>\n",
              "    </tr>\n",
              "    <tr>\n",
              "      <th>15</th>\n",
              "      <td>No preference</td>\n",
              "      <td>3</td>\n",
              "    </tr>\n",
              "  </tbody>\n",
              "</table>\n",
              "</div>\n",
              "      <button class=\"colab-df-convert\" onclick=\"convertToInteractive('df-14242dca-bb8f-48be-8672-c15d41307cef')\"\n",
              "              title=\"Convert this dataframe to an interactive table.\"\n",
              "              style=\"display:none;\">\n",
              "        \n",
              "  <svg xmlns=\"http://www.w3.org/2000/svg\" height=\"24px\"viewBox=\"0 0 24 24\"\n",
              "       width=\"24px\">\n",
              "    <path d=\"M0 0h24v24H0V0z\" fill=\"none\"/>\n",
              "    <path d=\"M18.56 5.44l.94 2.06.94-2.06 2.06-.94-2.06-.94-.94-2.06-.94 2.06-2.06.94zm-11 1L8.5 8.5l.94-2.06 2.06-.94-2.06-.94L8.5 2.5l-.94 2.06-2.06.94zm10 10l.94 2.06.94-2.06 2.06-.94-2.06-.94-.94-2.06-.94 2.06-2.06.94z\"/><path d=\"M17.41 7.96l-1.37-1.37c-.4-.4-.92-.59-1.43-.59-.52 0-1.04.2-1.43.59L10.3 9.45l-7.72 7.72c-.78.78-.78 2.05 0 2.83L4 21.41c.39.39.9.59 1.41.59.51 0 1.02-.2 1.41-.59l7.78-7.78 2.81-2.81c.8-.78.8-2.07 0-2.86zM5.41 20L4 18.59l7.72-7.72 1.47 1.35L5.41 20z\"/>\n",
              "  </svg>\n",
              "      </button>\n",
              "      \n",
              "  <style>\n",
              "    .colab-df-container {\n",
              "      display:flex;\n",
              "      flex-wrap:wrap;\n",
              "      gap: 12px;\n",
              "    }\n",
              "\n",
              "    .colab-df-convert {\n",
              "      background-color: #E8F0FE;\n",
              "      border: none;\n",
              "      border-radius: 50%;\n",
              "      cursor: pointer;\n",
              "      display: none;\n",
              "      fill: #1967D2;\n",
              "      height: 32px;\n",
              "      padding: 0 0 0 0;\n",
              "      width: 32px;\n",
              "    }\n",
              "\n",
              "    .colab-df-convert:hover {\n",
              "      background-color: #E2EBFA;\n",
              "      box-shadow: 0px 1px 2px rgba(60, 64, 67, 0.3), 0px 1px 3px 1px rgba(60, 64, 67, 0.15);\n",
              "      fill: #174EA6;\n",
              "    }\n",
              "\n",
              "    [theme=dark] .colab-df-convert {\n",
              "      background-color: #3B4455;\n",
              "      fill: #D2E3FC;\n",
              "    }\n",
              "\n",
              "    [theme=dark] .colab-df-convert:hover {\n",
              "      background-color: #434B5C;\n",
              "      box-shadow: 0px 1px 3px 1px rgba(0, 0, 0, 0.15);\n",
              "      filter: drop-shadow(0px 1px 2px rgba(0, 0, 0, 0.3));\n",
              "      fill: #FFFFFF;\n",
              "    }\n",
              "  </style>\n",
              "\n",
              "      <script>\n",
              "        const buttonEl =\n",
              "          document.querySelector('#df-14242dca-bb8f-48be-8672-c15d41307cef button.colab-df-convert');\n",
              "        buttonEl.style.display =\n",
              "          google.colab.kernel.accessAllowed ? 'block' : 'none';\n",
              "\n",
              "        async function convertToInteractive(key) {\n",
              "          const element = document.querySelector('#df-14242dca-bb8f-48be-8672-c15d41307cef');\n",
              "          const dataTable =\n",
              "            await google.colab.kernel.invokeFunction('convertToInteractive',\n",
              "                                                     [key], {});\n",
              "          if (!dataTable) return;\n",
              "\n",
              "          const docLinkHtml = 'Like what you see? Visit the ' +\n",
              "            '<a target=\"_blank\" href=https://colab.research.google.com/notebooks/data_table.ipynb>data table notebook</a>'\n",
              "            + ' to learn more about interactive tables.';\n",
              "          element.innerHTML = '';\n",
              "          dataTable['output_type'] = 'display_data';\n",
              "          await google.colab.output.renderOutput(dataTable, element);\n",
              "          const docLink = document.createElement('div');\n",
              "          docLink.innerHTML = docLinkHtml;\n",
              "          element.appendChild(docLink);\n",
              "        }\n",
              "      </script>\n",
              "    </div>\n",
              "  </div>\n",
              "  "
            ]
          },
          "metadata": {},
          "execution_count": 12
        }
      ],
      "source": [
        "sql_statement = \"\"\"SELECT *\n",
        "                   FROM preferences\"\"\"\n",
        "\n",
        "preferences = pd.read_sql_query(sql_statement, conn)  #Call the results game_stop\n",
        "preferences"
      ]
    },
    {
      "cell_type": "markdown",
      "id": "77583d0b-e79d-4699-ad1b-2d5370a85743",
      "metadata": {
        "id": "77583d0b-e79d-4699-ad1b-2d5370a85743"
      },
      "source": [
        "---\n",
        "# **Question 2**\n",
        "\n",
        "A) STEP 1: Use SQL to get a count of how many people rated their feeling with Python as a 1, 2, 3, 4, 5.  Call the second column ```num_students```.\n"
      ]
    },
    {
      "cell_type": "code",
      "execution_count": null,
      "id": "9363ba30-bc3d-4faf-a191-4994fd2ce0a5",
      "metadata": {
        "colab": {
          "base_uri": "https://localhost:8080/",
          "height": 175
        },
        "id": "9363ba30-bc3d-4faf-a191-4994fd2ce0a5",
        "outputId": "ef5fc5b1-0dcb-4026-9fa4-52e5dca9bfe0"
      },
      "outputs": [
        {
          "output_type": "execute_result",
          "data": {
            "text/plain": [
              "   Python_Feeling  num_students\n",
              "0               2             3\n",
              "1               3             5\n",
              "2               4             4\n",
              "3               5             4"
            ],
            "text/html": [
              "\n",
              "  <div id=\"df-3621f571-07c1-44a2-a14e-616d8dd5079e\">\n",
              "    <div class=\"colab-df-container\">\n",
              "      <div>\n",
              "<style scoped>\n",
              "    .dataframe tbody tr th:only-of-type {\n",
              "        vertical-align: middle;\n",
              "    }\n",
              "\n",
              "    .dataframe tbody tr th {\n",
              "        vertical-align: top;\n",
              "    }\n",
              "\n",
              "    .dataframe thead th {\n",
              "        text-align: right;\n",
              "    }\n",
              "</style>\n",
              "<table border=\"1\" class=\"dataframe\">\n",
              "  <thead>\n",
              "    <tr style=\"text-align: right;\">\n",
              "      <th></th>\n",
              "      <th>Python_Feeling</th>\n",
              "      <th>num_students</th>\n",
              "    </tr>\n",
              "  </thead>\n",
              "  <tbody>\n",
              "    <tr>\n",
              "      <th>0</th>\n",
              "      <td>2</td>\n",
              "      <td>3</td>\n",
              "    </tr>\n",
              "    <tr>\n",
              "      <th>1</th>\n",
              "      <td>3</td>\n",
              "      <td>5</td>\n",
              "    </tr>\n",
              "    <tr>\n",
              "      <th>2</th>\n",
              "      <td>4</td>\n",
              "      <td>4</td>\n",
              "    </tr>\n",
              "    <tr>\n",
              "      <th>3</th>\n",
              "      <td>5</td>\n",
              "      <td>4</td>\n",
              "    </tr>\n",
              "  </tbody>\n",
              "</table>\n",
              "</div>\n",
              "      <button class=\"colab-df-convert\" onclick=\"convertToInteractive('df-3621f571-07c1-44a2-a14e-616d8dd5079e')\"\n",
              "              title=\"Convert this dataframe to an interactive table.\"\n",
              "              style=\"display:none;\">\n",
              "        \n",
              "  <svg xmlns=\"http://www.w3.org/2000/svg\" height=\"24px\"viewBox=\"0 0 24 24\"\n",
              "       width=\"24px\">\n",
              "    <path d=\"M0 0h24v24H0V0z\" fill=\"none\"/>\n",
              "    <path d=\"M18.56 5.44l.94 2.06.94-2.06 2.06-.94-2.06-.94-.94-2.06-.94 2.06-2.06.94zm-11 1L8.5 8.5l.94-2.06 2.06-.94-2.06-.94L8.5 2.5l-.94 2.06-2.06.94zm10 10l.94 2.06.94-2.06 2.06-.94-2.06-.94-.94-2.06-.94 2.06-2.06.94z\"/><path d=\"M17.41 7.96l-1.37-1.37c-.4-.4-.92-.59-1.43-.59-.52 0-1.04.2-1.43.59L10.3 9.45l-7.72 7.72c-.78.78-.78 2.05 0 2.83L4 21.41c.39.39.9.59 1.41.59.51 0 1.02-.2 1.41-.59l7.78-7.78 2.81-2.81c.8-.78.8-2.07 0-2.86zM5.41 20L4 18.59l7.72-7.72 1.47 1.35L5.41 20z\"/>\n",
              "  </svg>\n",
              "      </button>\n",
              "      \n",
              "  <style>\n",
              "    .colab-df-container {\n",
              "      display:flex;\n",
              "      flex-wrap:wrap;\n",
              "      gap: 12px;\n",
              "    }\n",
              "\n",
              "    .colab-df-convert {\n",
              "      background-color: #E8F0FE;\n",
              "      border: none;\n",
              "      border-radius: 50%;\n",
              "      cursor: pointer;\n",
              "      display: none;\n",
              "      fill: #1967D2;\n",
              "      height: 32px;\n",
              "      padding: 0 0 0 0;\n",
              "      width: 32px;\n",
              "    }\n",
              "\n",
              "    .colab-df-convert:hover {\n",
              "      background-color: #E2EBFA;\n",
              "      box-shadow: 0px 1px 2px rgba(60, 64, 67, 0.3), 0px 1px 3px 1px rgba(60, 64, 67, 0.15);\n",
              "      fill: #174EA6;\n",
              "    }\n",
              "\n",
              "    [theme=dark] .colab-df-convert {\n",
              "      background-color: #3B4455;\n",
              "      fill: #D2E3FC;\n",
              "    }\n",
              "\n",
              "    [theme=dark] .colab-df-convert:hover {\n",
              "      background-color: #434B5C;\n",
              "      box-shadow: 0px 1px 3px 1px rgba(0, 0, 0, 0.15);\n",
              "      filter: drop-shadow(0px 1px 2px rgba(0, 0, 0, 0.3));\n",
              "      fill: #FFFFFF;\n",
              "    }\n",
              "  </style>\n",
              "\n",
              "      <script>\n",
              "        const buttonEl =\n",
              "          document.querySelector('#df-3621f571-07c1-44a2-a14e-616d8dd5079e button.colab-df-convert');\n",
              "        buttonEl.style.display =\n",
              "          google.colab.kernel.accessAllowed ? 'block' : 'none';\n",
              "\n",
              "        async function convertToInteractive(key) {\n",
              "          const element = document.querySelector('#df-3621f571-07c1-44a2-a14e-616d8dd5079e');\n",
              "          const dataTable =\n",
              "            await google.colab.kernel.invokeFunction('convertToInteractive',\n",
              "                                                     [key], {});\n",
              "          if (!dataTable) return;\n",
              "\n",
              "          const docLinkHtml = 'Like what you see? Visit the ' +\n",
              "            '<a target=\"_blank\" href=https://colab.research.google.com/notebooks/data_table.ipynb>data table notebook</a>'\n",
              "            + ' to learn more about interactive tables.';\n",
              "          element.innerHTML = '';\n",
              "          dataTable['output_type'] = 'display_data';\n",
              "          await google.colab.output.renderOutput(dataTable, element);\n",
              "          const docLink = document.createElement('div');\n",
              "          docLink.innerHTML = docLinkHtml;\n",
              "          element.appendChild(docLink);\n",
              "        }\n",
              "      </script>\n",
              "    </div>\n",
              "  </div>\n",
              "  "
            ]
          },
          "metadata": {},
          "execution_count": 13
        }
      ],
      "source": [
        "sql_statement = \"\"\"SELECT Python_Feeling, COUNT(Python_Feeling) AS num_students\n",
        "                   FROM preferences\n",
        "                   GROUP BY Python_Feeling;\"\"\"\n",
        "\n",
        "pref_counts = pd.read_sql_query(sql_statement, conn )  #Call the results game_stop\n",
        "pref_counts"
      ]
    },
    {
      "cell_type": "markdown",
      "id": "ef6db689-3e9f-47a3-9970-608103ed44f5",
      "metadata": {
        "id": "ef6db689-3e9f-47a3-9970-608103ed44f5"
      },
      "source": [
        "B) ASIDE: Notice no one opted to choose a \"1\", so we can add a count of 0 for \"1\" to our table.\n",
        "\n",
        "To do this, we'll add a union statement to your SQL statement.  Go ahead  and replaces the ellipsis below with your SQL statement from (A).  This should generate the table below.\n",
        "\n",
        "|   | Python_Feeling | num_students |\n",
        "|--:|---------------:|-------------:|\n",
        "| 0 | 2              | 3            |\n",
        "| 1 | 3              | 5            |\n",
        "| 2 | 4              | 4            |\n",
        "| 3 | 5              | 4            |"
      ]
    },
    {
      "cell_type": "code",
      "execution_count": null,
      "id": "717fc39e-b698-4e3f-8345-9a153d4066d4",
      "metadata": {
        "colab": {
          "base_uri": "https://localhost:8080/",
          "height": 206
        },
        "id": "717fc39e-b698-4e3f-8345-9a153d4066d4",
        "outputId": "780a210d-9303-44a8-d0ed-469c1502f406"
      },
      "outputs": [
        {
          "output_type": "execute_result",
          "data": {
            "text/plain": [
              "   Python_Feeling  num_students\n",
              "0               1             0\n",
              "1               2             3\n",
              "2               3             5\n",
              "3               4             4\n",
              "4               5             4"
            ],
            "text/html": [
              "\n",
              "  <div id=\"df-435ee397-f11f-4bab-95d4-f86afb6043af\">\n",
              "    <div class=\"colab-df-container\">\n",
              "      <div>\n",
              "<style scoped>\n",
              "    .dataframe tbody tr th:only-of-type {\n",
              "        vertical-align: middle;\n",
              "    }\n",
              "\n",
              "    .dataframe tbody tr th {\n",
              "        vertical-align: top;\n",
              "    }\n",
              "\n",
              "    .dataframe thead th {\n",
              "        text-align: right;\n",
              "    }\n",
              "</style>\n",
              "<table border=\"1\" class=\"dataframe\">\n",
              "  <thead>\n",
              "    <tr style=\"text-align: right;\">\n",
              "      <th></th>\n",
              "      <th>Python_Feeling</th>\n",
              "      <th>num_students</th>\n",
              "    </tr>\n",
              "  </thead>\n",
              "  <tbody>\n",
              "    <tr>\n",
              "      <th>0</th>\n",
              "      <td>1</td>\n",
              "      <td>0</td>\n",
              "    </tr>\n",
              "    <tr>\n",
              "      <th>1</th>\n",
              "      <td>2</td>\n",
              "      <td>3</td>\n",
              "    </tr>\n",
              "    <tr>\n",
              "      <th>2</th>\n",
              "      <td>3</td>\n",
              "      <td>5</td>\n",
              "    </tr>\n",
              "    <tr>\n",
              "      <th>3</th>\n",
              "      <td>4</td>\n",
              "      <td>4</td>\n",
              "    </tr>\n",
              "    <tr>\n",
              "      <th>4</th>\n",
              "      <td>5</td>\n",
              "      <td>4</td>\n",
              "    </tr>\n",
              "  </tbody>\n",
              "</table>\n",
              "</div>\n",
              "      <button class=\"colab-df-convert\" onclick=\"convertToInteractive('df-435ee397-f11f-4bab-95d4-f86afb6043af')\"\n",
              "              title=\"Convert this dataframe to an interactive table.\"\n",
              "              style=\"display:none;\">\n",
              "        \n",
              "  <svg xmlns=\"http://www.w3.org/2000/svg\" height=\"24px\"viewBox=\"0 0 24 24\"\n",
              "       width=\"24px\">\n",
              "    <path d=\"M0 0h24v24H0V0z\" fill=\"none\"/>\n",
              "    <path d=\"M18.56 5.44l.94 2.06.94-2.06 2.06-.94-2.06-.94-.94-2.06-.94 2.06-2.06.94zm-11 1L8.5 8.5l.94-2.06 2.06-.94-2.06-.94L8.5 2.5l-.94 2.06-2.06.94zm10 10l.94 2.06.94-2.06 2.06-.94-2.06-.94-.94-2.06-.94 2.06-2.06.94z\"/><path d=\"M17.41 7.96l-1.37-1.37c-.4-.4-.92-.59-1.43-.59-.52 0-1.04.2-1.43.59L10.3 9.45l-7.72 7.72c-.78.78-.78 2.05 0 2.83L4 21.41c.39.39.9.59 1.41.59.51 0 1.02-.2 1.41-.59l7.78-7.78 2.81-2.81c.8-.78.8-2.07 0-2.86zM5.41 20L4 18.59l7.72-7.72 1.47 1.35L5.41 20z\"/>\n",
              "  </svg>\n",
              "      </button>\n",
              "      \n",
              "  <style>\n",
              "    .colab-df-container {\n",
              "      display:flex;\n",
              "      flex-wrap:wrap;\n",
              "      gap: 12px;\n",
              "    }\n",
              "\n",
              "    .colab-df-convert {\n",
              "      background-color: #E8F0FE;\n",
              "      border: none;\n",
              "      border-radius: 50%;\n",
              "      cursor: pointer;\n",
              "      display: none;\n",
              "      fill: #1967D2;\n",
              "      height: 32px;\n",
              "      padding: 0 0 0 0;\n",
              "      width: 32px;\n",
              "    }\n",
              "\n",
              "    .colab-df-convert:hover {\n",
              "      background-color: #E2EBFA;\n",
              "      box-shadow: 0px 1px 2px rgba(60, 64, 67, 0.3), 0px 1px 3px 1px rgba(60, 64, 67, 0.15);\n",
              "      fill: #174EA6;\n",
              "    }\n",
              "\n",
              "    [theme=dark] .colab-df-convert {\n",
              "      background-color: #3B4455;\n",
              "      fill: #D2E3FC;\n",
              "    }\n",
              "\n",
              "    [theme=dark] .colab-df-convert:hover {\n",
              "      background-color: #434B5C;\n",
              "      box-shadow: 0px 1px 3px 1px rgba(0, 0, 0, 0.15);\n",
              "      filter: drop-shadow(0px 1px 2px rgba(0, 0, 0, 0.3));\n",
              "      fill: #FFFFFF;\n",
              "    }\n",
              "  </style>\n",
              "\n",
              "      <script>\n",
              "        const buttonEl =\n",
              "          document.querySelector('#df-435ee397-f11f-4bab-95d4-f86afb6043af button.colab-df-convert');\n",
              "        buttonEl.style.display =\n",
              "          google.colab.kernel.accessAllowed ? 'block' : 'none';\n",
              "\n",
              "        async function convertToInteractive(key) {\n",
              "          const element = document.querySelector('#df-435ee397-f11f-4bab-95d4-f86afb6043af');\n",
              "          const dataTable =\n",
              "            await google.colab.kernel.invokeFunction('convertToInteractive',\n",
              "                                                     [key], {});\n",
              "          if (!dataTable) return;\n",
              "\n",
              "          const docLinkHtml = 'Like what you see? Visit the ' +\n",
              "            '<a target=\"_blank\" href=https://colab.research.google.com/notebooks/data_table.ipynb>data table notebook</a>'\n",
              "            + ' to learn more about interactive tables.';\n",
              "          element.innerHTML = '';\n",
              "          dataTable['output_type'] = 'display_data';\n",
              "          await google.colab.output.renderOutput(dataTable, element);\n",
              "          const docLink = document.createElement('div');\n",
              "          docLink.innerHTML = docLinkHtml;\n",
              "          element.appendChild(docLink);\n",
              "        }\n",
              "      </script>\n",
              "    </div>\n",
              "  </div>\n",
              "  "
            ]
          },
          "metadata": {},
          "execution_count": 14
        }
      ],
      "source": [
        "sql_statement = \"\"\"SELECT Python_Feeling, COUNT(Python_Feeling) AS num_students\n",
        "                   FROM preferences\n",
        "                   GROUP BY Python_Feeling\n",
        "\n",
        "                   UNION\n",
        "\n",
        "                   SELECT 1, 0   --This creates a new record with 2 columns that contain a 1 then a 0.\n",
        "\n",
        "                   \"\"\"\n",
        "\n",
        "pref_counts = pd.read_sql_query(sql_statement, conn )  #Call the results game_stop\n",
        "pref_counts"
      ]
    },
    {
      "cell_type": "markdown",
      "id": "8c21b561-1a24-45eb-9f13-32dd2dd65a14",
      "metadata": {
        "id": "8c21b561-1a24-45eb-9f13-32dd2dd65a14"
      },
      "source": [
        "C) STEP 2:  Create a bar chart for this data.  Use ``bar`` instead of ``barh`` here.\n",
        "\n",
        "Be sure to:\n",
        "\n",
        " * Label the y axis with \"Number of Students\"\n",
        " * Give the graph a title of \"Feeling with Python\"."
      ]
    },
    {
      "cell_type": "code",
      "execution_count": null,
      "id": "82813086-ab09-4468-af7d-caaa7f746487",
      "metadata": {
        "colab": {
          "base_uri": "https://localhost:8080/",
          "height": 325
        },
        "id": "82813086-ab09-4468-af7d-caaa7f746487",
        "outputId": "39ac9216-d660-4db8-ed7f-e7651068a728"
      },
      "outputs": [
        {
          "output_type": "display_data",
          "data": {
            "text/plain": [
              "<Figure size 432x288 with 1 Axes>"
            ],
            "image/png": "[encoded data removed]"
          },
          "metadata": {}
        }
      ],
      "source": [
        "plt.bar(pref_counts[\"Python_Feeling\"], pref_counts[\"num_students\"])\n",
        "plt.title(\"Feeling with Python\")\n",
        "plt.ylabel(\"Number of Students\")\n",
        "plt.xlabel(\"Python Feeling\");"
      ]
    },
    {
      "cell_type": "markdown",
      "id": "3e9e33d9-b071-4bd8-b706-6ccaf0a5082f",
      "metadata": {
        "id": "3e9e33d9-b071-4bd8-b706-6ccaf0a5082f"
      },
      "source": [
        "Notice how python sorted the categories on the x axis for you, since the categories (1,2,3,4,5)  were numerical.\n",
        "\n",
        "---\n",
        "\n",
        "# **Question 3**\n",
        "\n",
        "Build this bar chart **EXACTLY**, including the ordering.\n",
        "\n",
        "![partner-prefs-image](https://github.com/kathleen-ryan-DeSales/CS250/blob/main/pictures/partner_prefs.png?raw=true)\n",
        "\n",
        "**HINT:**  \n",
        "\n",
        "* The tough part will be ordering the bars as \"Yes\", then \"No\", then \"No preference\".  So first just create the bar chart without worrying about the x axis ordering.\n",
        "* Once you have the bar plot showing in the wrong order, create a new column called \"order\" with the desired order.  set the values in this column so that the \"Yes\" row has a 1, \"No\" has a 2, and \"No preference\" has a 3.  Then sort on the \"order\" column before making the bar chart."
      ]
    },
    {
      "cell_type": "code",
      "execution_count": null,
      "id": "73d053a0-eff0-4f41-8d1a-e6152cabc916",
      "metadata": {
        "colab": {
          "base_uri": "https://localhost:8080/",
          "height": 112
        },
        "id": "73d053a0-eff0-4f41-8d1a-e6152cabc916",
        "outputId": "fc525ae9-7d1c-473c-9112-a69f217f39ab"
      },
      "outputs": [
        {
          "output_type": "execute_result",
          "data": {
            "text/plain": [
              "  Partner_Preference  num_students\n",
              "0      No preference             3\n",
              "1                Yes            13"
            ],
            "text/html": [
              "\n",
              "  <div id=\"df-0daf04c8-4dcd-473a-a28d-180d47689b09\">\n",
              "    <div class=\"colab-df-container\">\n",
              "      <div>\n",
              "<style scoped>\n",
              "    .dataframe tbody tr th:only-of-type {\n",
              "        vertical-align: middle;\n",
              "    }\n",
              "\n",
              "    .dataframe tbody tr th {\n",
              "        vertical-align: top;\n",
              "    }\n",
              "\n",
              "    .dataframe thead th {\n",
              "        text-align: right;\n",
              "    }\n",
              "</style>\n",
              "<table border=\"1\" class=\"dataframe\">\n",
              "  <thead>\n",
              "    <tr style=\"text-align: right;\">\n",
              "      <th></th>\n",
              "      <th>Partner_Preference</th>\n",
              "      <th>num_students</th>\n",
              "    </tr>\n",
              "  </thead>\n",
              "  <tbody>\n",
              "    <tr>\n",
              "      <th>0</th>\n",
              "      <td>No preference</td>\n",
              "      <td>3</td>\n",
              "    </tr>\n",
              "    <tr>\n",
              "      <th>1</th>\n",
              "      <td>Yes</td>\n",
              "      <td>13</td>\n",
              "    </tr>\n",
              "  </tbody>\n",
              "</table>\n",
              "</div>\n",
              "      <button class=\"colab-df-convert\" onclick=\"convertToInteractive('df-0daf04c8-4dcd-473a-a28d-180d47689b09')\"\n",
              "              title=\"Convert this dataframe to an interactive table.\"\n",
              "              style=\"display:none;\">\n",
              "        \n",
              "  <svg xmlns=\"http://www.w3.org/2000/svg\" height=\"24px\"viewBox=\"0 0 24 24\"\n",
              "       width=\"24px\">\n",
              "    <path d=\"M0 0h24v24H0V0z\" fill=\"none\"/>\n",
              "    <path d=\"M18.56 5.44l.94 2.06.94-2.06 2.06-.94-2.06-.94-.94-2.06-.94 2.06-2.06.94zm-11 1L8.5 8.5l.94-2.06 2.06-.94-2.06-.94L8.5 2.5l-.94 2.06-2.06.94zm10 10l.94 2.06.94-2.06 2.06-.94-2.06-.94-.94-2.06-.94 2.06-2.06.94z\"/><path d=\"M17.41 7.96l-1.37-1.37c-.4-.4-.92-.59-1.43-.59-.52 0-1.04.2-1.43.59L10.3 9.45l-7.72 7.72c-.78.78-.78 2.05 0 2.83L4 21.41c.39.39.9.59 1.41.59.51 0 1.02-.2 1.41-.59l7.78-7.78 2.81-2.81c.8-.78.8-2.07 0-2.86zM5.41 20L4 18.59l7.72-7.72 1.47 1.35L5.41 20z\"/>\n",
              "  </svg>\n",
              "      </button>\n",
              "      \n",
              "  <style>\n",
              "    .colab-df-container {\n",
              "      display:flex;\n",
              "      flex-wrap:wrap;\n",
              "      gap: 12px;\n",
              "    }\n",
              "\n",
              "    .colab-df-convert {\n",
              "      background-color: #E8F0FE;\n",
              "      border: none;\n",
              "      border-radius: 50%;\n",
              "      cursor: pointer;\n",
              "      display: none;\n",
              "      fill: #1967D2;\n",
              "      height: 32px;\n",
              "      padding: 0 0 0 0;\n",
              "      width: 32px;\n",
              "    }\n",
              "\n",
              "    .colab-df-convert:hover {\n",
              "      background-color: #E2EBFA;\n",
              "      box-shadow: 0px 1px 2px rgba(60, 64, 67, 0.3), 0px 1px 3px 1px rgba(60, 64, 67, 0.15);\n",
              "      fill: #174EA6;\n",
              "    }\n",
              "\n",
              "    [theme=dark] .colab-df-convert {\n",
              "      background-color: #3B4455;\n",
              "      fill: #D2E3FC;\n",
              "    }\n",
              "\n",
              "    [theme=dark] .colab-df-convert:hover {\n",
              "      background-color: #434B5C;\n",
              "      box-shadow: 0px 1px 3px 1px rgba(0, 0, 0, 0.15);\n",
              "      filter: drop-shadow(0px 1px 2px rgba(0, 0, 0, 0.3));\n",
              "      fill: #FFFFFF;\n",
              "    }\n",
              "  </style>\n",
              "\n",
              "      <script>\n",
              "        const buttonEl =\n",
              "          document.querySelector('#df-0daf04c8-4dcd-473a-a28d-180d47689b09 button.colab-df-convert');\n",
              "        buttonEl.style.display =\n",
              "          google.colab.kernel.accessAllowed ? 'block' : 'none';\n",
              "\n",
              "        async function convertToInteractive(key) {\n",
              "          const element = document.querySelector('#df-0daf04c8-4dcd-473a-a28d-180d47689b09');\n",
              "          const dataTable =\n",
              "            await google.colab.kernel.invokeFunction('convertToInteractive',\n",
              "                                                     [key], {});\n",
              "          if (!dataTable) return;\n",
              "\n",
              "          const docLinkHtml = 'Like what you see? Visit the ' +\n",
              "            '<a target=\"_blank\" href=https://colab.research.google.com/notebooks/data_table.ipynb>data table notebook</a>'\n",
              "            + ' to learn more about interactive tables.';\n",
              "          element.innerHTML = '';\n",
              "          dataTable['output_type'] = 'display_data';\n",
              "          await google.colab.output.renderOutput(dataTable, element);\n",
              "          const docLink = document.createElement('div');\n",
              "          docLink.innerHTML = docLinkHtml;\n",
              "          element.appendChild(docLink);\n",
              "        }\n",
              "      </script>\n",
              "    </div>\n",
              "  </div>\n",
              "  "
            ]
          },
          "metadata": {},
          "execution_count": 16
        }
      ],
      "source": [
        "#SQL command here\n",
        "sql_statement = \"\"\"SELECT Partner_Preference, COUNT(Partner_Preference) AS num_students\n",
        "                   FROM preferences\n",
        "                   GROUP BY Partner_Preference\n",
        "                   \"\"\"\n",
        "\n",
        "partner_counts = pd.read_sql_query(sql_statement, conn )  #Call the results game_stop\n",
        "partner_counts"
      ]
    },
    {
      "cell_type": "code",
      "execution_count": null,
      "id": "2471bd21-2d73-4348-9edf-54365bd793a7",
      "metadata": {
        "colab": {
          "base_uri": "https://localhost:8080/",
          "height": 143
        },
        "id": "2471bd21-2d73-4348-9edf-54365bd793a7",
        "outputId": "53c32734-6e07-4763-c9fd-20e04622fd8e"
      },
      "outputs": [
        {
          "output_type": "execute_result",
          "data": {
            "text/plain": [
              "  Partner_Preference  num_students\n",
              "0                 No             0\n",
              "1      No preference             3\n",
              "2                Yes            13"
            ],
            "text/html": [
              "\n",
              "  <div id=\"df-6785dd5f-3bd5-44df-8160-3906b4f5311b\">\n",
              "    <div class=\"colab-df-container\">\n",
              "      <div>\n",
              "<style scoped>\n",
              "    .dataframe tbody tr th:only-of-type {\n",
              "        vertical-align: middle;\n",
              "    }\n",
              "\n",
              "    .dataframe tbody tr th {\n",
              "        vertical-align: top;\n",
              "    }\n",
              "\n",
              "    .dataframe thead th {\n",
              "        text-align: right;\n",
              "    }\n",
              "</style>\n",
              "<table border=\"1\" class=\"dataframe\">\n",
              "  <thead>\n",
              "    <tr style=\"text-align: right;\">\n",
              "      <th></th>\n",
              "      <th>Partner_Preference</th>\n",
              "      <th>num_students</th>\n",
              "    </tr>\n",
              "  </thead>\n",
              "  <tbody>\n",
              "    <tr>\n",
              "      <th>0</th>\n",
              "      <td>No</td>\n",
              "      <td>0</td>\n",
              "    </tr>\n",
              "    <tr>\n",
              "      <th>1</th>\n",
              "      <td>No preference</td>\n",
              "      <td>3</td>\n",
              "    </tr>\n",
              "    <tr>\n",
              "      <th>2</th>\n",
              "      <td>Yes</td>\n",
              "      <td>13</td>\n",
              "    </tr>\n",
              "  </tbody>\n",
              "</table>\n",
              "</div>\n",
              "      <button class=\"colab-df-convert\" onclick=\"convertToInteractive('df-6785dd5f-3bd5-44df-8160-3906b4f5311b')\"\n",
              "              title=\"Convert this dataframe to an interactive table.\"\n",
              "              style=\"display:none;\">\n",
              "        \n",
              "  <svg xmlns=\"http://www.w3.org/2000/svg\" height=\"24px\"viewBox=\"0 0 24 24\"\n",
              "       width=\"24px\">\n",
              "    <path d=\"M0 0h24v24H0V0z\" fill=\"none\"/>\n",
              "    <path d=\"M18.56 5.44l.94 2.06.94-2.06 2.06-.94-2.06-.94-.94-2.06-.94 2.06-2.06.94zm-11 1L8.5 8.5l.94-2.06 2.06-.94-2.06-.94L8.5 2.5l-.94 2.06-2.06.94zm10 10l.94 2.06.94-2.06 2.06-.94-2.06-.94-.94-2.06-.94 2.06-2.06.94z\"/><path d=\"M17.41 7.96l-1.37-1.37c-.4-.4-.92-.59-1.43-.59-.52 0-1.04.2-1.43.59L10.3 9.45l-7.72 7.72c-.78.78-.78 2.05 0 2.83L4 21.41c.39.39.9.59 1.41.59.51 0 1.02-.2 1.41-.59l7.78-7.78 2.81-2.81c.8-.78.8-2.07 0-2.86zM5.41 20L4 18.59l7.72-7.72 1.47 1.35L5.41 20z\"/>\n",
              "  </svg>\n",
              "      </button>\n",
              "      \n",
              "  <style>\n",
              "    .colab-df-container {\n",
              "      display:flex;\n",
              "      flex-wrap:wrap;\n",
              "      gap: 12px;\n",
              "    }\n",
              "\n",
              "    .colab-df-convert {\n",
              "      background-color: #E8F0FE;\n",
              "      border: none;\n",
              "      border-radius: 50%;\n",
              "      cursor: pointer;\n",
              "      display: none;\n",
              "      fill: #1967D2;\n",
              "      height: 32px;\n",
              "      padding: 0 0 0 0;\n",
              "      width: 32px;\n",
              "    }\n",
              "\n",
              "    .colab-df-convert:hover {\n",
              "      background-color: #E2EBFA;\n",
              "      box-shadow: 0px 1px 2px rgba(60, 64, 67, 0.3), 0px 1px 3px 1px rgba(60, 64, 67, 0.15);\n",
              "      fill: #174EA6;\n",
              "    }\n",
              "\n",
              "    [theme=dark] .colab-df-convert {\n",
              "      background-color: #3B4455;\n",
              "      fill: #D2E3FC;\n",
              "    }\n",
              "\n",
              "    [theme=dark] .colab-df-convert:hover {\n",
              "      background-color: #434B5C;\n",
              "      box-shadow: 0px 1px 3px 1px rgba(0, 0, 0, 0.15);\n",
              "      filter: drop-shadow(0px 1px 2px rgba(0, 0, 0, 0.3));\n",
              "      fill: #FFFFFF;\n",
              "    }\n",
              "  </style>\n",
              "\n",
              "      <script>\n",
              "        const buttonEl =\n",
              "          document.querySelector('#df-6785dd5f-3bd5-44df-8160-3906b4f5311b button.colab-df-convert');\n",
              "        buttonEl.style.display =\n",
              "          google.colab.kernel.accessAllowed ? 'block' : 'none';\n",
              "\n",
              "        async function convertToInteractive(key) {\n",
              "          const element = document.querySelector('#df-6785dd5f-3bd5-44df-8160-3906b4f5311b');\n",
              "          const dataTable =\n",
              "            await google.colab.kernel.invokeFunction('convertToInteractive',\n",
              "                                                     [key], {});\n",
              "          if (!dataTable) return;\n",
              "\n",
              "          const docLinkHtml = 'Like what you see? Visit the ' +\n",
              "            '<a target=\"_blank\" href=https://colab.research.google.com/notebooks/data_table.ipynb>data table notebook</a>'\n",
              "            + ' to learn more about interactive tables.';\n",
              "          element.innerHTML = '';\n",
              "          dataTable['output_type'] = 'display_data';\n",
              "          await google.colab.output.renderOutput(dataTable, element);\n",
              "          const docLink = document.createElement('div');\n",
              "          docLink.innerHTML = docLinkHtml;\n",
              "          element.appendChild(docLink);\n",
              "        }\n",
              "      </script>\n",
              "    </div>\n",
              "  </div>\n",
              "  "
            ]
          },
          "metadata": {},
          "execution_count": 27
        }
      ],
      "source": [
        "#Update SQL command to get a \"No\" row with a 0\n",
        "sql_statement = \"\"\"SELECT Partner_Preference, COUNT(Partner_Preference) AS num_students\n",
        "                   FROM preferences\n",
        "                   GROUP BY Partner_Preference\n",
        "\n",
        "                   UNION\n",
        "\n",
        "                   SELECT 'No', 0\n",
        "\n",
        "                   \"\"\"\n",
        "\n",
        "partner_counts = pd.read_sql_query(sql_statement, conn )  #Call the results game_stop\n",
        "partner_counts"
      ]
    },
    {
      "cell_type": "code",
      "execution_count": null,
      "id": "60dbb599-ff32-485a-a255-55d012f98667",
      "metadata": {
        "colab": {
          "base_uri": "https://localhost:8080/",
          "height": 303
        },
        "id": "60dbb599-ff32-485a-a255-55d012f98667",
        "outputId": "1ce9a60e-5890-47ef-84f2-50e41980f1c0"
      },
      "outputs": [
        {
          "output_type": "display_data",
          "data": {
            "text/plain": [
              "<Figure size 432x288 with 1 Axes>"
            ],
            "image/png": "[encoded data removed]"
          },
          "metadata": {}
        }
      ],
      "source": [
        "partner_counts[\"order\"] = [3, 1, 2]\n",
        "partner_counts = partner_counts.sort_values(by = \"order\")\n",
        "\n",
        "plt.bar(partner_counts[\"Partner_Preference\"], partner_counts[\"num_students\"])\n",
        "plt.title(\"Partner Preference\")\n",
        "plt.ylabel(\"Number of Students\");"
      ]
    },
    {
      "cell_type": "markdown",
      "id": "caf797de-6dca-49bd-999f-51a1b49217e9",
      "metadata": {
        "id": "caf797de-6dca-49bd-999f-51a1b49217e9"
      },
      "source": [
        "---\n"
      ]
    },
    {
      "cell_type": "markdown",
      "id": "530b9d04-49c9-4db1-aabc-6596a26a35dc",
      "metadata": {
        "id": "530b9d04-49c9-4db1-aabc-6596a26a35dc"
      },
      "source": [
        "# The Iris Data Set\n",
        "\n",
        "We are going to look at a data set about irises.  The iris data set consists of information about 3 different types of irises (0-Setosa, 1-Versicolour, and 2-Virginica), specifically their petal and sepal length.\n",
        "\n",
        "![image.png](https://plantid.net/Classic/Glossary/Sepal_files/image001.png)\n",
        "\n",
        "\n",
        "To generate this data set, 150 iris flowers were sampled and their Sepal Length, Sepal Width, Petal Length and Petal Width, all in centimeters, were recorded."
      ]
    },
    {
      "cell_type": "code",
      "execution_count": null,
      "id": "fe8e98bd-9784-4f1e-9c70-747042c336fe",
      "metadata": {
        "id": "fe8e98bd-9784-4f1e-9c70-747042c336fe"
      },
      "outputs": [],
      "source": [
        "#close previous connection\n",
        "conn.close()"
      ]
    },
    {
      "cell_type": "code",
      "execution_count": null,
      "id": "fc230258-a6c1-46c9-a395-1840be3a69ad",
      "metadata": {
        "id": "fc230258-a6c1-46c9-a395-1840be3a69ad"
      },
      "outputs": [],
      "source": [
        "try:\n",
        "    #Read in the needed csvs and create the DB\n",
        "    iris = pd.read_csv(\"iris.data\")\n",
        "    conn = sql.connect('iris.db')\n",
        "    iris.to_sql('iris', conn,  index = False)\n",
        "\n",
        "except:\n",
        "\n",
        "    print(\"Issue during DB creation/connection\")"
      ]
    },
    {
      "cell_type": "code",
      "execution_count": null,
      "id": "15d39e30-ba13-4d9f-8190-eec1bb465947",
      "metadata": {
        "id": "15d39e30-ba13-4d9f-8190-eec1bb465947",
        "colab": {
          "base_uri": "https://localhost:8080/",
          "height": 424
        },
        "outputId": "66c65d65-90d6-4ab2-c587-e7bcd1210e85"
      },
      "outputs": [
        {
          "output_type": "execute_result",
          "data": {
            "text/plain": [
              "     sepal_length  speal_width  petal_length  petal_width           class\n",
              "0             5.1          3.5           1.4          0.2     Iris-setosa\n",
              "1             4.9          3.0           1.4          0.2     Iris-setosa\n",
              "2             4.7          3.2           1.3          0.2     Iris-setosa\n",
              "3             4.6          3.1           1.5          0.2     Iris-setosa\n",
              "4             5.0          3.6           1.4          0.2     Iris-setosa\n",
              "..            ...          ...           ...          ...             ...\n",
              "145           6.7          3.0           5.2          2.3  Iris-virginica\n",
              "146           6.3          2.5           5.0          1.9  Iris-virginica\n",
              "147           6.5          3.0           5.2          2.0  Iris-virginica\n",
              "148           6.2          3.4           5.4          2.3  Iris-virginica\n",
              "149           5.9          3.0           5.1          1.8  Iris-virginica\n",
              "\n",
              "[150 rows x 5 columns]"
            ],
            "text/html": [
              "\n",
              "  <div id=\"df-25ce1a54-49af-4352-a323-5a9ec7dd555c\">\n",
              "    <div class=\"colab-df-container\">\n",
              "      <div>\n",
              "<style scoped>\n",
              "    .dataframe tbody tr th:only-of-type {\n",
              "        vertical-align: middle;\n",
              "    }\n",
              "\n",
              "    .dataframe tbody tr th {\n",
              "        vertical-align: top;\n",
              "    }\n",
              "\n",
              "    .dataframe thead th {\n",
              "        text-align: right;\n",
              "    }\n",
              "</style>\n",
              "<table border=\"1\" class=\"dataframe\">\n",
              "  <thead>\n",
              "    <tr style=\"text-align: right;\">\n",
              "      <th></th>\n",
              "      <th>sepal_length</th>\n",
              "      <th>speal_width</th>\n",
              "      <th>petal_length</th>\n",
              "      <th>petal_width</th>\n",
              "      <th>class</th>\n",
              "    </tr>\n",
              "  </thead>\n",
              "  <tbody>\n",
              "    <tr>\n",
              "      <th>0</th>\n",
              "      <td>5.1</td>\n",
              "      <td>3.5</td>\n",
              "      <td>1.4</td>\n",
              "      <td>0.2</td>\n",
              "      <td>Iris-setosa</td>\n",
              "    </tr>\n",
              "    <tr>\n",
              "      <th>1</th>\n",
              "      <td>4.9</td>\n",
              "      <td>3.0</td>\n",
              "      <td>1.4</td>\n",
              "      <td>0.2</td>\n",
              "      <td>Iris-setosa</td>\n",
              "    </tr>\n",
              "    <tr>\n",
              "      <th>2</th>\n",
              "      <td>4.7</td>\n",
              "      <td>3.2</td>\n",
              "      <td>1.3</td>\n",
              "      <td>0.2</td>\n",
              "      <td>Iris-setosa</td>\n",
              "    </tr>\n",
              "    <tr>\n",
              "      <th>3</th>\n",
              "      <td>4.6</td>\n",
              "      <td>3.1</td>\n",
              "      <td>1.5</td>\n",
              "      <td>0.2</td>\n",
              "      <td>Iris-setosa</td>\n",
              "    </tr>\n",
              "    <tr>\n",
              "      <th>4</th>\n",
              "      <td>5.0</td>\n",
              "      <td>3.6</td>\n",
              "      <td>1.4</td>\n",
              "      <td>0.2</td>\n",
              "      <td>Iris-setosa</td>\n",
              "    </tr>\n",
              "    <tr>\n",
              "      <th>...</th>\n",
              "      <td>...</td>\n",
              "      <td>...</td>\n",
              "      <td>...</td>\n",
              "      <td>...</td>\n",
              "      <td>...</td>\n",
              "    </tr>\n",
              "    <tr>\n",
              "      <th>145</th>\n",
              "      <td>6.7</td>\n",
              "      <td>3.0</td>\n",
              "      <td>5.2</td>\n",
              "      <td>2.3</td>\n",
              "      <td>Iris-virginica</td>\n",
              "    </tr>\n",
              "    <tr>\n",
              "      <th>146</th>\n",
              "      <td>6.3</td>\n",
              "      <td>2.5</td>\n",
              "      <td>5.0</td>\n",
              "      <td>1.9</td>\n",
              "      <td>Iris-virginica</td>\n",
              "    </tr>\n",
              "    <tr>\n",
              "      <th>147</th>\n",
              "      <td>6.5</td>\n",
              "      <td>3.0</td>\n",
              "      <td>5.2</td>\n",
              "      <td>2.0</td>\n",
              "      <td>Iris-virginica</td>\n",
              "    </tr>\n",
              "    <tr>\n",
              "      <th>148</th>\n",
              "      <td>6.2</td>\n",
              "      <td>3.4</td>\n",
              "      <td>5.4</td>\n",
              "      <td>2.3</td>\n",
              "      <td>Iris-virginica</td>\n",
              "    </tr>\n",
              "    <tr>\n",
              "      <th>149</th>\n",
              "      <td>5.9</td>\n",
              "      <td>3.0</td>\n",
              "      <td>5.1</td>\n",
              "      <td>1.8</td>\n",
              "      <td>Iris-virginica</td>\n",
              "    </tr>\n",
              "  </tbody>\n",
              "</table>\n",
              "<p>150 rows × 5 columns</p>\n",
              "</div>\n",
              "      <button class=\"colab-df-convert\" onclick=\"convertToInteractive('df-25ce1a54-49af-4352-a323-5a9ec7dd555c')\"\n",
              "              title=\"Convert this dataframe to an interactive table.\"\n",
              "              style=\"display:none;\">\n",
              "        \n",
              "  <svg xmlns=\"http://www.w3.org/2000/svg\" height=\"24px\"viewBox=\"0 0 24 24\"\n",
              "       width=\"24px\">\n",
              "    <path d=\"M0 0h24v24H0V0z\" fill=\"none\"/>\n",
              "    <path d=\"M18.56 5.44l.94 2.06.94-2.06 2.06-.94-2.06-.94-.94-2.06-.94 2.06-2.06.94zm-11 1L8.5 8.5l.94-2.06 2.06-.94-2.06-.94L8.5 2.5l-.94 2.06-2.06.94zm10 10l.94 2.06.94-2.06 2.06-.94-2.06-.94-.94-2.06-.94 2.06-2.06.94z\"/><path d=\"M17.41 7.96l-1.37-1.37c-.4-.4-.92-.59-1.43-.59-.52 0-1.04.2-1.43.59L10.3 9.45l-7.72 7.72c-.78.78-.78 2.05 0 2.83L4 21.41c.39.39.9.59 1.41.59.51 0 1.02-.2 1.41-.59l7.78-7.78 2.81-2.81c.8-.78.8-2.07 0-2.86zM5.41 20L4 18.59l7.72-7.72 1.47 1.35L5.41 20z\"/>\n",
              "  </svg>\n",
              "      </button>\n",
              "      \n",
              "  <style>\n",
              "    .colab-df-container {\n",
              "      display:flex;\n",
              "      flex-wrap:wrap;\n",
              "      gap: 12px;\n",
              "    }\n",
              "\n",
              "    .colab-df-convert {\n",
              "      background-color: #E8F0FE;\n",
              "      border: none;\n",
              "      border-radius: 50%;\n",
              "      cursor: pointer;\n",
              "      display: none;\n",
              "      fill: #1967D2;\n",
              "      height: 32px;\n",
              "      padding: 0 0 0 0;\n",
              "      width: 32px;\n",
              "    }\n",
              "\n",
              "    .colab-df-convert:hover {\n",
              "      background-color: #E2EBFA;\n",
              "      box-shadow: 0px 1px 2px rgba(60, 64, 67, 0.3), 0px 1px 3px 1px rgba(60, 64, 67, 0.15);\n",
              "      fill: #174EA6;\n",
              "    }\n",
              "\n",
              "    [theme=dark] .colab-df-convert {\n",
              "      background-color: #3B4455;\n",
              "      fill: #D2E3FC;\n",
              "    }\n",
              "\n",
              "    [theme=dark] .colab-df-convert:hover {\n",
              "      background-color: #434B5C;\n",
              "      box-shadow: 0px 1px 3px 1px rgba(0, 0, 0, 0.15);\n",
              "      filter: drop-shadow(0px 1px 2px rgba(0, 0, 0, 0.3));\n",
              "      fill: #FFFFFF;\n",
              "    }\n",
              "  </style>\n",
              "\n",
              "      <script>\n",
              "        const buttonEl =\n",
              "          document.querySelector('#df-25ce1a54-49af-4352-a323-5a9ec7dd555c button.colab-df-convert');\n",
              "        buttonEl.style.display =\n",
              "          google.colab.kernel.accessAllowed ? 'block' : 'none';\n",
              "\n",
              "        async function convertToInteractive(key) {\n",
              "          const element = document.querySelector('#df-25ce1a54-49af-4352-a323-5a9ec7dd555c');\n",
              "          const dataTable =\n",
              "            await google.colab.kernel.invokeFunction('convertToInteractive',\n",
              "                                                     [key], {});\n",
              "          if (!dataTable) return;\n",
              "\n",
              "          const docLinkHtml = 'Like what you see? Visit the ' +\n",
              "            '<a target=\"_blank\" href=https://colab.research.google.com/notebooks/data_table.ipynb>data table notebook</a>'\n",
              "            + ' to learn more about interactive tables.';\n",
              "          element.innerHTML = '';\n",
              "          dataTable['output_type'] = 'display_data';\n",
              "          await google.colab.output.renderOutput(dataTable, element);\n",
              "          const docLink = document.createElement('div');\n",
              "          docLink.innerHTML = docLinkHtml;\n",
              "          element.appendChild(docLink);\n",
              "        }\n",
              "      </script>\n",
              "    </div>\n",
              "  </div>\n",
              "  "
            ]
          },
          "metadata": {},
          "execution_count": 32
        }
      ],
      "source": [
        "sql_statement = \"\"\"SELECT * FROM iris\n",
        "\n",
        "                   \"\"\"\n",
        "\n",
        "iris = pd.read_sql_query(sql_statement, conn )  #Call the results game_stop\n",
        "iris"
      ]
    },
    {
      "cell_type": "markdown",
      "id": "7953e0ac-60fa-40a1-86f3-004d10055cd1",
      "metadata": {
        "id": "7953e0ac-60fa-40a1-86f3-004d10055cd1"
      },
      "source": [
        "---\n",
        "\n",
        "# **Question 6**\n",
        "\n",
        "Generate a table of the average sepal length/width and average petal length/width per type, as shown below.\n",
        "\n",
        "Be sure to rename the columns as shown.\n",
        "\n",
        "\n",
        "|          | **avg_sepal_length** | **avg_sepal_width** | **avg_petal_length** | **avg_petal_width** |\n",
        "|---------:|-----------------:|----------------:|-----------------:|----------------:|\n",
        "| **Type** |                  |                 |                  |                 |\n",
        "|        Setosa |            5.006 |           3.428 |            1.462 |           0.246 |\n",
        "|        Versicolour |            5.936 |           2.770 |            4.260 |           1.326 |\n",
        "|        Virginica |            6.588 |           2.974 |            5.552 |           2.026 |"
      ]
    },
    {
      "cell_type": "code",
      "execution_count": null,
      "id": "eb0c230e-70a7-46dc-89c9-455c17d397c1",
      "metadata": {
        "id": "eb0c230e-70a7-46dc-89c9-455c17d397c1",
        "colab": {
          "base_uri": "https://localhost:8080/",
          "height": 143
        },
        "outputId": "c02d9513-c6cf-4e11-8745-f698d5a4bd7e"
      },
      "outputs": [
        {
          "output_type": "execute_result",
          "data": {
            "text/plain": [
              "              Type  avg_sepal_length  avg_sepal_width  avg_petal_length  \\\n",
              "0      Iris-setosa             5.006            3.418             1.464   \n",
              "1  Iris-versicolor             5.936            2.770             4.260   \n",
              "2   Iris-virginica             6.588            2.974             5.552   \n",
              "\n",
              "   avg_petal_width  \n",
              "0            0.244  \n",
              "1            1.326  \n",
              "2            2.026  "
            ],
            "text/html": [
              "\n",
              "  <div id=\"df-6bc65fcf-dc5e-49dd-980e-2904330af222\">\n",
              "    <div class=\"colab-df-container\">\n",
              "      <div>\n",
              "<style scoped>\n",
              "    .dataframe tbody tr th:only-of-type {\n",
              "        vertical-align: middle;\n",
              "    }\n",
              "\n",
              "    .dataframe tbody tr th {\n",
              "        vertical-align: top;\n",
              "    }\n",
              "\n",
              "    .dataframe thead th {\n",
              "        text-align: right;\n",
              "    }\n",
              "</style>\n",
              "<table border=\"1\" class=\"dataframe\">\n",
              "  <thead>\n",
              "    <tr style=\"text-align: right;\">\n",
              "      <th></th>\n",
              "      <th>Type</th>\n",
              "      <th>avg_sepal_length</th>\n",
              "      <th>avg_sepal_width</th>\n",
              "      <th>avg_petal_length</th>\n",
              "      <th>avg_petal_width</th>\n",
              "    </tr>\n",
              "  </thead>\n",
              "  <tbody>\n",
              "    <tr>\n",
              "      <th>0</th>\n",
              "      <td>Iris-setosa</td>\n",
              "      <td>5.006</td>\n",
              "      <td>3.418</td>\n",
              "      <td>1.464</td>\n",
              "      <td>0.244</td>\n",
              "    </tr>\n",
              "    <tr>\n",
              "      <th>1</th>\n",
              "      <td>Iris-versicolor</td>\n",
              "      <td>5.936</td>\n",
              "      <td>2.770</td>\n",
              "      <td>4.260</td>\n",
              "      <td>1.326</td>\n",
              "    </tr>\n",
              "    <tr>\n",
              "      <th>2</th>\n",
              "      <td>Iris-virginica</td>\n",
              "      <td>6.588</td>\n",
              "      <td>2.974</td>\n",
              "      <td>5.552</td>\n",
              "      <td>2.026</td>\n",
              "    </tr>\n",
              "  </tbody>\n",
              "</table>\n",
              "</div>\n",
              "      <button class=\"colab-df-convert\" onclick=\"convertToInteractive('df-6bc65fcf-dc5e-49dd-980e-2904330af222')\"\n",
              "              title=\"Convert this dataframe to an interactive table.\"\n",
              "              style=\"display:none;\">\n",
              "        \n",
              "  <svg xmlns=\"http://www.w3.org/2000/svg\" height=\"24px\"viewBox=\"0 0 24 24\"\n",
              "       width=\"24px\">\n",
              "    <path d=\"M0 0h24v24H0V0z\" fill=\"none\"/>\n",
              "    <path d=\"M18.56 5.44l.94 2.06.94-2.06 2.06-.94-2.06-.94-.94-2.06-.94 2.06-2.06.94zm-11 1L8.5 8.5l.94-2.06 2.06-.94-2.06-.94L8.5 2.5l-.94 2.06-2.06.94zm10 10l.94 2.06.94-2.06 2.06-.94-2.06-.94-.94-2.06-.94 2.06-2.06.94z\"/><path d=\"M17.41 7.96l-1.37-1.37c-.4-.4-.92-.59-1.43-.59-.52 0-1.04.2-1.43.59L10.3 9.45l-7.72 7.72c-.78.78-.78 2.05 0 2.83L4 21.41c.39.39.9.59 1.41.59.51 0 1.02-.2 1.41-.59l7.78-7.78 2.81-2.81c.8-.78.8-2.07 0-2.86zM5.41 20L4 18.59l7.72-7.72 1.47 1.35L5.41 20z\"/>\n",
              "  </svg>\n",
              "      </button>\n",
              "      \n",
              "  <style>\n",
              "    .colab-df-container {\n",
              "      display:flex;\n",
              "      flex-wrap:wrap;\n",
              "      gap: 12px;\n",
              "    }\n",
              "\n",
              "    .colab-df-convert {\n",
              "      background-color: #E8F0FE;\n",
              "      border: none;\n",
              "      border-radius: 50%;\n",
              "      cursor: pointer;\n",
              "      display: none;\n",
              "      fill: #1967D2;\n",
              "      height: 32px;\n",
              "      padding: 0 0 0 0;\n",
              "      width: 32px;\n",
              "    }\n",
              "\n",
              "    .colab-df-convert:hover {\n",
              "      background-color: #E2EBFA;\n",
              "      box-shadow: 0px 1px 2px rgba(60, 64, 67, 0.3), 0px 1px 3px 1px rgba(60, 64, 67, 0.15);\n",
              "      fill: #174EA6;\n",
              "    }\n",
              "\n",
              "    [theme=dark] .colab-df-convert {\n",
              "      background-color: #3B4455;\n",
              "      fill: #D2E3FC;\n",
              "    }\n",
              "\n",
              "    [theme=dark] .colab-df-convert:hover {\n",
              "      background-color: #434B5C;\n",
              "      box-shadow: 0px 1px 3px 1px rgba(0, 0, 0, 0.15);\n",
              "      filter: drop-shadow(0px 1px 2px rgba(0, 0, 0, 0.3));\n",
              "      fill: #FFFFFF;\n",
              "    }\n",
              "  </style>\n",
              "\n",
              "      <script>\n",
              "        const buttonEl =\n",
              "          document.querySelector('#df-6bc65fcf-dc5e-49dd-980e-2904330af222 button.colab-df-convert');\n",
              "        buttonEl.style.display =\n",
              "          google.colab.kernel.accessAllowed ? 'block' : 'none';\n",
              "\n",
              "        async function convertToInteractive(key) {\n",
              "          const element = document.querySelector('#df-6bc65fcf-dc5e-49dd-980e-2904330af222');\n",
              "          const dataTable =\n",
              "            await google.colab.kernel.invokeFunction('convertToInteractive',\n",
              "                                                     [key], {});\n",
              "          if (!dataTable) return;\n",
              "\n",
              "          const docLinkHtml = 'Like what you see? Visit the ' +\n",
              "            '<a target=\"_blank\" href=https://colab.research.google.com/notebooks/data_table.ipynb>data table notebook</a>'\n",
              "            + ' to learn more about interactive tables.';\n",
              "          element.innerHTML = '';\n",
              "          dataTable['output_type'] = 'display_data';\n",
              "          await google.colab.output.renderOutput(dataTable, element);\n",
              "          const docLink = document.createElement('div');\n",
              "          docLink.innerHTML = docLinkHtml;\n",
              "          element.appendChild(docLink);\n",
              "        }\n",
              "      </script>\n",
              "    </div>\n",
              "  </div>\n",
              "  "
            ]
          },
          "metadata": {},
          "execution_count": 33
        }
      ],
      "source": [
        "sql_statement = \"\"\"SELECT class AS Type, AVG(sepal_length) AS avg_sepal_length, AVG(speal_width) AS avg_sepal_width, AVG(petal_length) AS avg_petal_length, AVG(petal_width) AS avg_petal_width\n",
        "                   FROM iris\n",
        "                   GROUP BY class\n",
        "\n",
        "                   \"\"\"\n",
        "\n",
        "iris = pd.read_sql_query(sql_statement, conn )  #Call the results game_stop\n",
        "iris"
      ]
    },
    {
      "cell_type": "markdown",
      "id": "eae68900-7755-4722-baae-a8f45eee3e63",
      "metadata": {
        "id": "eae68900-7755-4722-baae-a8f45eee3e63"
      },
      "source": [
        "B) Generate a bar graph showing the average_sepal_length per iris type.\n",
        "\n",
        "**Be sure of course to sort the bars from highest to lowest and to label both axes and give a professional title.**\n"
      ]
    },
    {
      "cell_type": "code",
      "execution_count": null,
      "id": "a94b7c85-d420-434a-a139-61f2b86399ae",
      "metadata": {
        "id": "a94b7c85-d420-434a-a139-61f2b86399ae",
        "colab": {
          "base_uri": "https://localhost:8080/",
          "height": 325
        },
        "outputId": "a7c3e805-d2a0-4e94-eaa4-1105665ec1c1"
      },
      "outputs": [
        {
          "output_type": "display_data",
          "data": {
            "text/plain": [
              "<Figure size 432x288 with 1 Axes>"
            ],
            "image/png": "[encoded data removed]"
          },
          "metadata": {}
        }
      ],
      "source": [
        "# bar chart code here\n",
        "iris = iris.sort_values(by = \"avg_sepal_length\", ascending = False)\n",
        "plt.bar(iris[\"Type\"], iris[\"avg_sepal_length\"])\n",
        "plt.title('Average Sepal Length Per Iris Type')\n",
        "plt.xlabel('Type of Iris')\n",
        "plt.ylabel('Average Sepal Length');"
      ]
    },
    {
      "cell_type": "code",
      "source": [],
      "metadata": {
        "id": "2VIPKpfUOAdi"
      },
      "id": "2VIPKpfUOAdi",
      "execution_count": null,
      "outputs": []
    }
  ],
  "metadata": {
    "kernelspec": {
      "display_name": "Python 3 (ipykernel)",
      "language": "python",
      "name": "python3"
    },
    "language_info": {
      "codemirror_mode": {
        "name": "ipython",
        "version": 3
      },
      "file_extension": ".py",
      "mimetype": "text/x-python",
      "name": "python",
      "nbconvert_exporter": "python",
      "pygments_lexer": "ipython3",
      "version": "3.9.12"
    },
    "colab": {
      "provenance": []
    }
  },
  "nbformat": 4,
  "nbformat_minor": 5
}