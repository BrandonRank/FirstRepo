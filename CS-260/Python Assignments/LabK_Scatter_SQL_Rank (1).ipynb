{
  "cells": [
    {
      "cell_type": "markdown",
      "metadata": {
        "id": "LYPvCwa9CjnR"
      },
      "source": [
        "### *“Nothing in life that’s worth anything is easy.”* -Barack Obama"
      ]
    },
    {
      "cell_type": "markdown",
      "metadata": {
        "id": "uxmEdd_CCjnT"
      },
      "source": [
        "----\n",
        "\n",
        "YOUR NAME HERE: Brandon Rank\n",
        "\n",
        "\n",
        "----"
      ]
    },
    {
      "cell_type": "markdown",
      "metadata": {
        "id": "T3Y4KrW-CjnU"
      },
      "source": [
        "# Lab K: Scatter Plots!\n",
        "\n",
        "### REMEMBER:  EVERY PLOT NEEDS A TITLE AND X/Y AXES LABELS EVEN IF I DO NOT SPECIFY WHAT THEY SHOULD BE.\n",
        "\n",
        "---"
      ]
    },
    {
      "cell_type": "code",
      "execution_count": null,
      "metadata": {
        "tags": [
          "remove_input"
        ],
        "id": "Q3cOS4fJCjnU"
      },
      "outputs": [],
      "source": [
        "import numpy as np   #for processing arrays\n",
        "import pandas as pd  #for processing dataframes\n",
        "import sqlite3 as sql  #SQL!\n",
        "import matplotlib.pyplot as plt #picture making!\n",
        "plt.style.use('fivethirtyeight') #A helpful style package"
      ]
    },
    {
      "cell_type": "markdown",
      "metadata": {
        "id": "x8tDaQPvCjnV"
      },
      "source": [
        "### Setting up our data ###"
      ]
    },
    {
      "cell_type": "markdown",
      "metadata": {
        "id": "9aK_ZIXECjnV"
      },
      "source": [
        "The table `actors` contains data on Hollywood actors, both male and female. The columns are:\n",
        "\n",
        "| ** Column **        | Contents |\n",
        "|---------------------|----------|\n",
        "|`actor`              | Name of actor |\n",
        "|`total_gross`        | Total gross domestic box office receipt, in millions of dollars, of all of the actor's movies |\n",
        "| `number_of_movies`  | The number of movies the actor has been in |\n",
        "| `average_per_movie` | Total gross divided by number of movies |\n",
        "| `no1_movie`          | The highest grossing movie the actor has been in |\n",
        "| `gross`             | Gross domestic box office receipt, in millions of dollars, of the actor's `#1 Movie` |\n",
        "\n",
        "In the calculation of the gross receipt, the data tabulators did not include movies where an actor had a cameo role or a speaking role that did not involve much screen time.\n",
        "\n",
        "The table has 50 rows, corresponding to the 50 top grossing actors. The table is already sorted by `Total Gross`, so it is easy to see that Harrison Ford is the highest grossing actor. In total, his movies have brought in more money at domestic box office than the movies of any other actor."
      ]
    },
    {
      "cell_type": "code",
      "execution_count": null,
      "metadata": {
        "id": "m1MfCzkKCjnW",
        "colab": {
          "base_uri": "https://localhost:8080/"
        },
        "outputId": "95da6ca8-bf19-455a-de54-c99ee52b9c9d"
      },
      "outputs": [
        {
          "output_type": "stream",
          "name": "stdout",
          "text": [
            "Issue during DB creation/connection\n"
          ]
        }
      ],
      "source": [
        "try:\n",
        "    #Read in the needed csvs and create the DB\n",
        "    actors = pd.read_csv(\"actors.csv\")\n",
        "    conn = sql.connect('actors.db')\n",
        "    actors.to_sql('actors', conn,  index = False)\n",
        "\n",
        "except:\n",
        "    print(\"Issue during DB creation/connection\")"
      ]
    },
    {
      "cell_type": "code",
      "execution_count": null,
      "metadata": {
        "jupyter": {
          "outputs_hidden": false
        },
        "colab": {
          "base_uri": "https://localhost:8080/",
          "height": 1000
        },
        "id": "YrBFiJdKCjnX",
        "outputId": "1a66005b-7a95-4a75-e5d2-ea660a978ee5"
      },
      "outputs": [
        {
          "output_type": "execute_result",
          "data": {
            "text/plain": [
              "                     actor  total_gross  number_of_movies  average_per_movie  \\\n",
              "0            Harrison Ford       4871.7                41              118.8   \n",
              "1        Samuel L. Jackson       4772.8                69               69.2   \n",
              "2           Morgan Freeman       4468.3                61               73.3   \n",
              "3                Tom Hanks       4340.8                44               98.7   \n",
              "4       Robert Downey, Jr.       3947.3                53               74.5   \n",
              "5             Eddie Murphy       3810.4                38              100.3   \n",
              "6               Tom Cruise       3587.2                36               99.6   \n",
              "7              Johnny Depp       3368.6                45               74.9   \n",
              "8            Michael Caine       3351.5                58               57.8   \n",
              "9       Scarlett Johansson       3341.2                37               90.3   \n",
              "10             Gary Oldman       3294.0                38               86.7   \n",
              "11          Robin Williams       3279.3                49               66.9   \n",
              "12            Bruce Willis       3189.4                60               53.2   \n",
              "13       Stellan Skarsgard       3175.0                43               73.8   \n",
              "14         Anthony Daniels       3162.9                 7              451.8   \n",
              "15            Ian McKellen       3150.4                31              101.6   \n",
              "16              Will Smith       3149.1                24              131.2   \n",
              "17           Stanley Tucci       3123.9                50               62.5   \n",
              "18              Matt Damon       3107.3                39               79.7   \n",
              "19           Robert DeNiro       3081.3                79               39.0   \n",
              "20            Cameron Diaz       3031.7                34               89.2   \n",
              "21             Liam Neeson       2942.7                63               46.7   \n",
              "22             Andy Serkis       2890.6                23              125.7   \n",
              "23             Don Cheadle       2885.4                34               84.9   \n",
              "24             Ben Stiller       2827.0                37               76.4   \n",
              "25    Helena Bonham Carter       2822.0                36               78.4   \n",
              "26           Orlando Bloom       2815.8                17              165.6   \n",
              "27         Woody Harrelson       2815.8                50               56.3   \n",
              "28          Cate Blanchett       2802.6                39               71.9   \n",
              "29           Julia Roberts       2735.3                42               65.1   \n",
              "30         Elizabeth Banks       2726.3                35               77.9   \n",
              "31           Ralph Fiennes       2715.3                36               75.4   \n",
              "32             Emma Watson       2681.9                17              157.8   \n",
              "33         Tommy Lee Jones       2681.3                46               58.3   \n",
              "34               Brad Pitt       2680.9                40               67.0   \n",
              "35            Adam Sandler       2661.0                32               83.2   \n",
              "36        Daniel Radcliffe       2634.4                17              155.0   \n",
              "37              Jonah Hill       2605.1                29               89.8   \n",
              "38             Owen Wilson       2602.3                39               66.7   \n",
              "39              Idris Elba       2580.6                26               99.3   \n",
              "40          Bradley Cooper       2557.7                25              102.3   \n",
              "41           Mark Wahlberg       2549.8                36               70.8   \n",
              "42              Jim Carrey       2545.2                27               94.3   \n",
              "43          Dustin Hoffman       2522.1                43               58.7   \n",
              "44       Leonardo DiCaprio       2518.3                25              100.7   \n",
              "45           Jeremy Renner       2500.3                21              119.1   \n",
              "46  Philip Seymour Hoffman       2463.7                40               61.6   \n",
              "47          Sandra Bullock       2462.6                35               70.4   \n",
              "48             Chris Evans       2457.8                23              106.9   \n",
              "49           Anne Hathaway       2416.5                25               96.7   \n",
              "\n",
              "                              no1_movie  gross  \n",
              "0          Star Wars: The Force Awakens  936.7  \n",
              "1                          The Avengers  623.4  \n",
              "2                       The Dark Knight  534.9  \n",
              "3                           Toy Story 3  415.0  \n",
              "4                          The Avengers  623.4  \n",
              "5                               Shrek 2  441.2  \n",
              "6                     War of the Worlds  234.3  \n",
              "7                      Dead Man's Chest  423.3  \n",
              "8                       The Dark Knight  534.9  \n",
              "9                          The Avengers  623.4  \n",
              "10                      The Dark Knight  534.9  \n",
              "11                  Night at the Museum  250.9  \n",
              "12                          Sixth Sense  293.5  \n",
              "13                         The Avengers  623.4  \n",
              "14         Star Wars: The Force Awakens  936.7  \n",
              "15                   Return of the King  377.8  \n",
              "16                     Independence Day  306.2  \n",
              "17                        Catching Fire  424.7  \n",
              "18                          The Martian  228.4  \n",
              "19                     Meet the Fockers  279.3  \n",
              "20                              Shrek 2  441.2  \n",
              "21                   The Phantom Menace  474.5  \n",
              "22         Star Wars: The Force Awakens  936.7  \n",
              "23              Avengers: Age of Ultron  459.0  \n",
              "24                     Meet the Fockers  279.3  \n",
              "25  Harry Potter / Deathly Hallows (P2)  381.0  \n",
              "26                     Dead Man's Chest  423.3  \n",
              "27                        Catching Fire  424.7  \n",
              "28                   Return of the King  377.8  \n",
              "29                       Ocean's Eleven  183.4  \n",
              "30                        Catching Fire  424.7  \n",
              "31  Harry Potter / Deathly Hallows (P2)  381.0  \n",
              "32  Harry Potter / Deathly Hallows (P2)  381.0  \n",
              "33                         Men in Black  250.7  \n",
              "34                          World War Z  202.4  \n",
              "35                 Hotel Transylvania 2  169.7  \n",
              "36  Harry Potter / Deathly Hallows (P2)  381.0  \n",
              "37                       The LEGO Movie  257.8  \n",
              "38                  Night at the Museum  250.9  \n",
              "39              Avengers: Age of Ultron  459.0  \n",
              "40                      American Sniper  350.1  \n",
              "41                       Transformers 4  245.4  \n",
              "42                           The Grinch  260.0  \n",
              "43                     Meet the Fockers  279.3  \n",
              "44                              Titanic  658.7  \n",
              "45                         The Avengers  623.4  \n",
              "46                        Catching Fire  424.7  \n",
              "47                              Minions  336.0  \n",
              "48                         The Avengers  623.4  \n",
              "49                The Dark Knight Rises  448.1  "
            ],
            "text/html": [
              "\n",
              "  <div id=\"df-3de445c5-3342-4985-a1ce-4e3317151284\">\n",
              "    <div class=\"colab-df-container\">\n",
              "      <div>\n",
              "<style scoped>\n",
              "    .dataframe tbody tr th:only-of-type {\n",
              "        vertical-align: middle;\n",
              "    }\n",
              "\n",
              "    .dataframe tbody tr th {\n",
              "        vertical-align: top;\n",
              "    }\n",
              "\n",
              "    .dataframe thead th {\n",
              "        text-align: right;\n",
              "    }\n",
              "</style>\n",
              "<table border=\"1\" class=\"dataframe\">\n",
              "  <thead>\n",
              "    <tr style=\"text-align: right;\">\n",
              "      <th></th>\n",
              "      <th>actor</th>\n",
              "      <th>total_gross</th>\n",
              "      <th>number_of_movies</th>\n",
              "      <th>average_per_movie</th>\n",
              "      <th>no1_movie</th>\n",
              "      <th>gross</th>\n",
              "    </tr>\n",
              "  </thead>\n",
              "  <tbody>\n",
              "    <tr>\n",
              "      <th>0</th>\n",
              "      <td>Harrison Ford</td>\n",
              "      <td>4871.7</td>\n",
              "      <td>41</td>\n",
              "      <td>118.8</td>\n",
              "      <td>Star Wars: The Force Awakens</td>\n",
              "      <td>936.7</td>\n",
              "    </tr>\n",
              "    <tr>\n",
              "      <th>1</th>\n",
              "      <td>Samuel L. Jackson</td>\n",
              "      <td>4772.8</td>\n",
              "      <td>69</td>\n",
              "      <td>69.2</td>\n",
              "      <td>The Avengers</td>\n",
              "      <td>623.4</td>\n",
              "    </tr>\n",
              "    <tr>\n",
              "      <th>2</th>\n",
              "      <td>Morgan Freeman</td>\n",
              "      <td>4468.3</td>\n",
              "      <td>61</td>\n",
              "      <td>73.3</td>\n",
              "      <td>The Dark Knight</td>\n",
              "      <td>534.9</td>\n",
              "    </tr>\n",
              "    <tr>\n",
              "      <th>3</th>\n",
              "      <td>Tom Hanks</td>\n",
              "      <td>4340.8</td>\n",
              "      <td>44</td>\n",
              "      <td>98.7</td>\n",
              "      <td>Toy Story 3</td>\n",
              "      <td>415.0</td>\n",
              "    </tr>\n",
              "    <tr>\n",
              "      <th>4</th>\n",
              "      <td>Robert Downey, Jr.</td>\n",
              "      <td>3947.3</td>\n",
              "      <td>53</td>\n",
              "      <td>74.5</td>\n",
              "      <td>The Avengers</td>\n",
              "      <td>623.4</td>\n",
              "    </tr>\n",
              "    <tr>\n",
              "      <th>5</th>\n",
              "      <td>Eddie Murphy</td>\n",
              "      <td>3810.4</td>\n",
              "      <td>38</td>\n",
              "      <td>100.3</td>\n",
              "      <td>Shrek 2</td>\n",
              "      <td>441.2</td>\n",
              "    </tr>\n",
              "    <tr>\n",
              "      <th>6</th>\n",
              "      <td>Tom Cruise</td>\n",
              "      <td>3587.2</td>\n",
              "      <td>36</td>\n",
              "      <td>99.6</td>\n",
              "      <td>War of the Worlds</td>\n",
              "      <td>234.3</td>\n",
              "    </tr>\n",
              "    <tr>\n",
              "      <th>7</th>\n",
              "      <td>Johnny Depp</td>\n",
              "      <td>3368.6</td>\n",
              "      <td>45</td>\n",
              "      <td>74.9</td>\n",
              "      <td>Dead Man's Chest</td>\n",
              "      <td>423.3</td>\n",
              "    </tr>\n",
              "    <tr>\n",
              "      <th>8</th>\n",
              "      <td>Michael Caine</td>\n",
              "      <td>3351.5</td>\n",
              "      <td>58</td>\n",
              "      <td>57.8</td>\n",
              "      <td>The Dark Knight</td>\n",
              "      <td>534.9</td>\n",
              "    </tr>\n",
              "    <tr>\n",
              "      <th>9</th>\n",
              "      <td>Scarlett Johansson</td>\n",
              "      <td>3341.2</td>\n",
              "      <td>37</td>\n",
              "      <td>90.3</td>\n",
              "      <td>The Avengers</td>\n",
              "      <td>623.4</td>\n",
              "    </tr>\n",
              "    <tr>\n",
              "      <th>10</th>\n",
              "      <td>Gary Oldman</td>\n",
              "      <td>3294.0</td>\n",
              "      <td>38</td>\n",
              "      <td>86.7</td>\n",
              "      <td>The Dark Knight</td>\n",
              "      <td>534.9</td>\n",
              "    </tr>\n",
              "    <tr>\n",
              "      <th>11</th>\n",
              "      <td>Robin Williams</td>\n",
              "      <td>3279.3</td>\n",
              "      <td>49</td>\n",
              "      <td>66.9</td>\n",
              "      <td>Night at the Museum</td>\n",
              "      <td>250.9</td>\n",
              "    </tr>\n",
              "    <tr>\n",
              "      <th>12</th>\n",
              "      <td>Bruce Willis</td>\n",
              "      <td>3189.4</td>\n",
              "      <td>60</td>\n",
              "      <td>53.2</td>\n",
              "      <td>Sixth Sense</td>\n",
              "      <td>293.5</td>\n",
              "    </tr>\n",
              "    <tr>\n",
              "      <th>13</th>\n",
              "      <td>Stellan Skarsgard</td>\n",
              "      <td>3175.0</td>\n",
              "      <td>43</td>\n",
              "      <td>73.8</td>\n",
              "      <td>The Avengers</td>\n",
              "      <td>623.4</td>\n",
              "    </tr>\n",
              "    <tr>\n",
              "      <th>14</th>\n",
              "      <td>Anthony Daniels</td>\n",
              "      <td>3162.9</td>\n",
              "      <td>7</td>\n",
              "      <td>451.8</td>\n",
              "      <td>Star Wars: The Force Awakens</td>\n",
              "      <td>936.7</td>\n",
              "    </tr>\n",
              "    <tr>\n",
              "      <th>15</th>\n",
              "      <td>Ian McKellen</td>\n",
              "      <td>3150.4</td>\n",
              "      <td>31</td>\n",
              "      <td>101.6</td>\n",
              "      <td>Return of the King</td>\n",
              "      <td>377.8</td>\n",
              "    </tr>\n",
              "    <tr>\n",
              "      <th>16</th>\n",
              "      <td>Will Smith</td>\n",
              "      <td>3149.1</td>\n",
              "      <td>24</td>\n",
              "      <td>131.2</td>\n",
              "      <td>Independence Day</td>\n",
              "      <td>306.2</td>\n",
              "    </tr>\n",
              "    <tr>\n",
              "      <th>17</th>\n",
              "      <td>Stanley Tucci</td>\n",
              "      <td>3123.9</td>\n",
              "      <td>50</td>\n",
              "      <td>62.5</td>\n",
              "      <td>Catching Fire</td>\n",
              "      <td>424.7</td>\n",
              "    </tr>\n",
              "    <tr>\n",
              "      <th>18</th>\n",
              "      <td>Matt Damon</td>\n",
              "      <td>3107.3</td>\n",
              "      <td>39</td>\n",
              "      <td>79.7</td>\n",
              "      <td>The Martian</td>\n",
              "      <td>228.4</td>\n",
              "    </tr>\n",
              "    <tr>\n",
              "      <th>19</th>\n",
              "      <td>Robert DeNiro</td>\n",
              "      <td>3081.3</td>\n",
              "      <td>79</td>\n",
              "      <td>39.0</td>\n",
              "      <td>Meet the Fockers</td>\n",
              "      <td>279.3</td>\n",
              "    </tr>\n",
              "    <tr>\n",
              "      <th>20</th>\n",
              "      <td>Cameron Diaz</td>\n",
              "      <td>3031.7</td>\n",
              "      <td>34</td>\n",
              "      <td>89.2</td>\n",
              "      <td>Shrek 2</td>\n",
              "      <td>441.2</td>\n",
              "    </tr>\n",
              "    <tr>\n",
              "      <th>21</th>\n",
              "      <td>Liam Neeson</td>\n",
              "      <td>2942.7</td>\n",
              "      <td>63</td>\n",
              "      <td>46.7</td>\n",
              "      <td>The Phantom Menace</td>\n",
              "      <td>474.5</td>\n",
              "    </tr>\n",
              "    <tr>\n",
              "      <th>22</th>\n",
              "      <td>Andy Serkis</td>\n",
              "      <td>2890.6</td>\n",
              "      <td>23</td>\n",
              "      <td>125.7</td>\n",
              "      <td>Star Wars: The Force Awakens</td>\n",
              "      <td>936.7</td>\n",
              "    </tr>\n",
              "    <tr>\n",
              "      <th>23</th>\n",
              "      <td>Don Cheadle</td>\n",
              "      <td>2885.4</td>\n",
              "      <td>34</td>\n",
              "      <td>84.9</td>\n",
              "      <td>Avengers: Age of Ultron</td>\n",
              "      <td>459.0</td>\n",
              "    </tr>\n",
              "    <tr>\n",
              "      <th>24</th>\n",
              "      <td>Ben Stiller</td>\n",
              "      <td>2827.0</td>\n",
              "      <td>37</td>\n",
              "      <td>76.4</td>\n",
              "      <td>Meet the Fockers</td>\n",
              "      <td>279.3</td>\n",
              "    </tr>\n",
              "    <tr>\n",
              "      <th>25</th>\n",
              "      <td>Helena Bonham Carter</td>\n",
              "      <td>2822.0</td>\n",
              "      <td>36</td>\n",
              "      <td>78.4</td>\n",
              "      <td>Harry Potter / Deathly Hallows (P2)</td>\n",
              "      <td>381.0</td>\n",
              "    </tr>\n",
              "    <tr>\n",
              "      <th>26</th>\n",
              "      <td>Orlando Bloom</td>\n",
              "      <td>2815.8</td>\n",
              "      <td>17</td>\n",
              "      <td>165.6</td>\n",
              "      <td>Dead Man's Chest</td>\n",
              "      <td>423.3</td>\n",
              "    </tr>\n",
              "    <tr>\n",
              "      <th>27</th>\n",
              "      <td>Woody Harrelson</td>\n",
              "      <td>2815.8</td>\n",
              "      <td>50</td>\n",
              "      <td>56.3</td>\n",
              "      <td>Catching Fire</td>\n",
              "      <td>424.7</td>\n",
              "    </tr>\n",
              "    <tr>\n",
              "      <th>28</th>\n",
              "      <td>Cate Blanchett</td>\n",
              "      <td>2802.6</td>\n",
              "      <td>39</td>\n",
              "      <td>71.9</td>\n",
              "      <td>Return of the King</td>\n",
              "      <td>377.8</td>\n",
              "    </tr>\n",
              "    <tr>\n",
              "      <th>29</th>\n",
              "      <td>Julia Roberts</td>\n",
              "      <td>2735.3</td>\n",
              "      <td>42</td>\n",
              "      <td>65.1</td>\n",
              "      <td>Ocean's Eleven</td>\n",
              "      <td>183.4</td>\n",
              "    </tr>\n",
              "    <tr>\n",
              "      <th>30</th>\n",
              "      <td>Elizabeth Banks</td>\n",
              "      <td>2726.3</td>\n",
              "      <td>35</td>\n",
              "      <td>77.9</td>\n",
              "      <td>Catching Fire</td>\n",
              "      <td>424.7</td>\n",
              "    </tr>\n",
              "    <tr>\n",
              "      <th>31</th>\n",
              "      <td>Ralph Fiennes</td>\n",
              "      <td>2715.3</td>\n",
              "      <td>36</td>\n",
              "      <td>75.4</td>\n",
              "      <td>Harry Potter / Deathly Hallows (P2)</td>\n",
              "      <td>381.0</td>\n",
              "    </tr>\n",
              "    <tr>\n",
              "      <th>32</th>\n",
              "      <td>Emma Watson</td>\n",
              "      <td>2681.9</td>\n",
              "      <td>17</td>\n",
              "      <td>157.8</td>\n",
              "      <td>Harry Potter / Deathly Hallows (P2)</td>\n",
              "      <td>381.0</td>\n",
              "    </tr>\n",
              "    <tr>\n",
              "      <th>33</th>\n",
              "      <td>Tommy Lee Jones</td>\n",
              "      <td>2681.3</td>\n",
              "      <td>46</td>\n",
              "      <td>58.3</td>\n",
              "      <td>Men in Black</td>\n",
              "      <td>250.7</td>\n",
              "    </tr>\n",
              "    <tr>\n",
              "      <th>34</th>\n",
              "      <td>Brad Pitt</td>\n",
              "      <td>2680.9</td>\n",
              "      <td>40</td>\n",
              "      <td>67.0</td>\n",
              "      <td>World War Z</td>\n",
              "      <td>202.4</td>\n",
              "    </tr>\n",
              "    <tr>\n",
              "      <th>35</th>\n",
              "      <td>Adam Sandler</td>\n",
              "      <td>2661.0</td>\n",
              "      <td>32</td>\n",
              "      <td>83.2</td>\n",
              "      <td>Hotel Transylvania 2</td>\n",
              "      <td>169.7</td>\n",
              "    </tr>\n",
              "    <tr>\n",
              "      <th>36</th>\n",
              "      <td>Daniel Radcliffe</td>\n",
              "      <td>2634.4</td>\n",
              "      <td>17</td>\n",
              "      <td>155.0</td>\n",
              "      <td>Harry Potter / Deathly Hallows (P2)</td>\n",
              "      <td>381.0</td>\n",
              "    </tr>\n",
              "    <tr>\n",
              "      <th>37</th>\n",
              "      <td>Jonah Hill</td>\n",
              "      <td>2605.1</td>\n",
              "      <td>29</td>\n",
              "      <td>89.8</td>\n",
              "      <td>The LEGO Movie</td>\n",
              "      <td>257.8</td>\n",
              "    </tr>\n",
              "    <tr>\n",
              "      <th>38</th>\n",
              "      <td>Owen Wilson</td>\n",
              "      <td>2602.3</td>\n",
              "      <td>39</td>\n",
              "      <td>66.7</td>\n",
              "      <td>Night at the Museum</td>\n",
              "      <td>250.9</td>\n",
              "    </tr>\n",
              "    <tr>\n",
              "      <th>39</th>\n",
              "      <td>Idris Elba</td>\n",
              "      <td>2580.6</td>\n",
              "      <td>26</td>\n",
              "      <td>99.3</td>\n",
              "      <td>Avengers: Age of Ultron</td>\n",
              "      <td>459.0</td>\n",
              "    </tr>\n",
              "    <tr>\n",
              "      <th>40</th>\n",
              "      <td>Bradley Cooper</td>\n",
              "      <td>2557.7</td>\n",
              "      <td>25</td>\n",
              "      <td>102.3</td>\n",
              "      <td>American Sniper</td>\n",
              "      <td>350.1</td>\n",
              "    </tr>\n",
              "    <tr>\n",
              "      <th>41</th>\n",
              "      <td>Mark Wahlberg</td>\n",
              "      <td>2549.8</td>\n",
              "      <td>36</td>\n",
              "      <td>70.8</td>\n",
              "      <td>Transformers 4</td>\n",
              "      <td>245.4</td>\n",
              "    </tr>\n",
              "    <tr>\n",
              "      <th>42</th>\n",
              "      <td>Jim Carrey</td>\n",
              "      <td>2545.2</td>\n",
              "      <td>27</td>\n",
              "      <td>94.3</td>\n",
              "      <td>The Grinch</td>\n",
              "      <td>260.0</td>\n",
              "    </tr>\n",
              "    <tr>\n",
              "      <th>43</th>\n",
              "      <td>Dustin Hoffman</td>\n",
              "      <td>2522.1</td>\n",
              "      <td>43</td>\n",
              "      <td>58.7</td>\n",
              "      <td>Meet the Fockers</td>\n",
              "      <td>279.3</td>\n",
              "    </tr>\n",
              "    <tr>\n",
              "      <th>44</th>\n",
              "      <td>Leonardo DiCaprio</td>\n",
              "      <td>2518.3</td>\n",
              "      <td>25</td>\n",
              "      <td>100.7</td>\n",
              "      <td>Titanic</td>\n",
              "      <td>658.7</td>\n",
              "    </tr>\n",
              "    <tr>\n",
              "      <th>45</th>\n",
              "      <td>Jeremy Renner</td>\n",
              "      <td>2500.3</td>\n",
              "      <td>21</td>\n",
              "      <td>119.1</td>\n",
              "      <td>The Avengers</td>\n",
              "      <td>623.4</td>\n",
              "    </tr>\n",
              "    <tr>\n",
              "      <th>46</th>\n",
              "      <td>Philip Seymour Hoffman</td>\n",
              "      <td>2463.7</td>\n",
              "      <td>40</td>\n",
              "      <td>61.6</td>\n",
              "      <td>Catching Fire</td>\n",
              "      <td>424.7</td>\n",
              "    </tr>\n",
              "    <tr>\n",
              "      <th>47</th>\n",
              "      <td>Sandra Bullock</td>\n",
              "      <td>2462.6</td>\n",
              "      <td>35</td>\n",
              "      <td>70.4</td>\n",
              "      <td>Minions</td>\n",
              "      <td>336.0</td>\n",
              "    </tr>\n",
              "    <tr>\n",
              "      <th>48</th>\n",
              "      <td>Chris Evans</td>\n",
              "      <td>2457.8</td>\n",
              "      <td>23</td>\n",
              "      <td>106.9</td>\n",
              "      <td>The Avengers</td>\n",
              "      <td>623.4</td>\n",
              "    </tr>\n",
              "    <tr>\n",
              "      <th>49</th>\n",
              "      <td>Anne Hathaway</td>\n",
              "      <td>2416.5</td>\n",
              "      <td>25</td>\n",
              "      <td>96.7</td>\n",
              "      <td>The Dark Knight Rises</td>\n",
              "      <td>448.1</td>\n",
              "    </tr>\n",
              "  </tbody>\n",
              "</table>\n",
              "</div>\n",
              "      <button class=\"colab-df-convert\" onclick=\"convertToInteractive('df-3de445c5-3342-4985-a1ce-4e3317151284')\"\n",
              "              title=\"Convert this dataframe to an interactive table.\"\n",
              "              style=\"display:none;\">\n",
              "        \n",
              "  <svg xmlns=\"http://www.w3.org/2000/svg\" height=\"24px\"viewBox=\"0 0 24 24\"\n",
              "       width=\"24px\">\n",
              "    <path d=\"M0 0h24v24H0V0z\" fill=\"none\"/>\n",
              "    <path d=\"M18.56 5.44l.94 2.06.94-2.06 2.06-.94-2.06-.94-.94-2.06-.94 2.06-2.06.94zm-11 1L8.5 8.5l.94-2.06 2.06-.94-2.06-.94L8.5 2.5l-.94 2.06-2.06.94zm10 10l.94 2.06.94-2.06 2.06-.94-2.06-.94-.94-2.06-.94 2.06-2.06.94z\"/><path d=\"M17.41 7.96l-1.37-1.37c-.4-.4-.92-.59-1.43-.59-.52 0-1.04.2-1.43.59L10.3 9.45l-7.72 7.72c-.78.78-.78 2.05 0 2.83L4 21.41c.39.39.9.59 1.41.59.51 0 1.02-.2 1.41-.59l7.78-7.78 2.81-2.81c.8-.78.8-2.07 0-2.86zM5.41 20L4 18.59l7.72-7.72 1.47 1.35L5.41 20z\"/>\n",
              "  </svg>\n",
              "      </button>\n",
              "      \n",
              "  <style>\n",
              "    .colab-df-container {\n",
              "      display:flex;\n",
              "      flex-wrap:wrap;\n",
              "      gap: 12px;\n",
              "    }\n",
              "\n",
              "    .colab-df-convert {\n",
              "      background-color: #E8F0FE;\n",
              "      border: none;\n",
              "      border-radius: 50%;\n",
              "      cursor: pointer;\n",
              "      display: none;\n",
              "      fill: #1967D2;\n",
              "      height: 32px;\n",
              "      padding: 0 0 0 0;\n",
              "      width: 32px;\n",
              "    }\n",
              "\n",
              "    .colab-df-convert:hover {\n",
              "      background-color: #E2EBFA;\n",
              "      box-shadow: 0px 1px 2px rgba(60, 64, 67, 0.3), 0px 1px 3px 1px rgba(60, 64, 67, 0.15);\n",
              "      fill: #174EA6;\n",
              "    }\n",
              "\n",
              "    [theme=dark] .colab-df-convert {\n",
              "      background-color: #3B4455;\n",
              "      fill: #D2E3FC;\n",
              "    }\n",
              "\n",
              "    [theme=dark] .colab-df-convert:hover {\n",
              "      background-color: #434B5C;\n",
              "      box-shadow: 0px 1px 3px 1px rgba(0, 0, 0, 0.15);\n",
              "      filter: drop-shadow(0px 1px 2px rgba(0, 0, 0, 0.3));\n",
              "      fill: #FFFFFF;\n",
              "    }\n",
              "  </style>\n",
              "\n",
              "      <script>\n",
              "        const buttonEl =\n",
              "          document.querySelector('#df-3de445c5-3342-4985-a1ce-4e3317151284 button.colab-df-convert');\n",
              "        buttonEl.style.display =\n",
              "          google.colab.kernel.accessAllowed ? 'block' : 'none';\n",
              "\n",
              "        async function convertToInteractive(key) {\n",
              "          const element = document.querySelector('#df-3de445c5-3342-4985-a1ce-4e3317151284');\n",
              "          const dataTable =\n",
              "            await google.colab.kernel.invokeFunction('convertToInteractive',\n",
              "                                                     [key], {});\n",
              "          if (!dataTable) return;\n",
              "\n",
              "          const docLinkHtml = 'Like what you see? Visit the ' +\n",
              "            '<a target=\"_blank\" href=https://colab.research.google.com/notebooks/data_table.ipynb>data table notebook</a>'\n",
              "            + ' to learn more about interactive tables.';\n",
              "          element.innerHTML = '';\n",
              "          dataTable['output_type'] = 'display_data';\n",
              "          await google.colab.output.renderOutput(dataTable, element);\n",
              "          const docLink = document.createElement('div');\n",
              "          docLink.innerHTML = docLinkHtml;\n",
              "          element.appendChild(docLink);\n",
              "        }\n",
              "      </script>\n",
              "    </div>\n",
              "  </div>\n",
              "  "
            ]
          },
          "metadata": {},
          "execution_count": 55
        }
      ],
      "source": [
        "sql_statement = \"\"\"SELECT * FROM actors\"\"\"\n",
        "\n",
        "actors = pd.read_sql_query(sql_statement, conn)\n",
        "actors"
      ]
    },
    {
      "cell_type": "markdown",
      "metadata": {
        "id": "_TvyN9WcCjnX"
      },
      "source": [
        "### Scatter Plots ###\n",
        "A *scatter plot* displays the relation between two numerical variables. You saw an example of a scatter plot in an early section where we looked at the number of periods and number of characters in two classic novels.\n",
        "\n",
        "Recall that we have imported the matplotlib plotting library as ```plt```.  We rely on ```plt``` to make the visualizations.  The method ```scatter``` from the ```plt``` package draws a scatter plot consisting of one point for each row of the table. Its first argument is column to be plotted on the horizontal axis, and its second argument is the column on the vertical."
      ]
    },
    {
      "cell_type": "code",
      "execution_count": null,
      "metadata": {
        "jupyter": {
          "outputs_hidden": false
        },
        "colab": {
          "base_uri": "https://localhost:8080/",
          "height": 364
        },
        "id": "uF8v3W0ECjnX",
        "outputId": "93ed3f9c-c60f-45ca-c23c-b60b74939ecc"
      },
      "outputs": [
        {
          "output_type": "execute_result",
          "data": {
            "text/plain": [
              "Text(0, 0.5, 'Total Gross')"
            ]
          },
          "metadata": {},
          "execution_count": 56
        },
        {
          "output_type": "display_data",
          "data": {
            "text/plain": [
              "<Figure size 432x288 with 1 Axes>"
            ],
            "image/png": "[encoded data removed]"
          },
          "metadata": {}
        }
      ],
      "source": [
        "#Example of making a scatter plot\n",
        "plt.scatter(actors['number_of_movies'], actors['total_gross'])\n",
        "plt.title(\"Actors' Number of Movies vs.\\nTotal Gross of these Movies\")\n",
        "plt.xlabel('Number of Movies')\n",
        "plt.ylabel('Total Gross')"
      ]
    },
    {
      "cell_type": "markdown",
      "metadata": {
        "id": "OSYtXeeuCjnY"
      },
      "source": [
        "The plot contains 50 points, one point for each actor in the table. You can see that it slopes upwards, in general. The more movies an actor has been in, the more the total gross of all of those movies – in general.\n",
        "\n",
        "Formally, we say that the plot shows an *association* between the variables, and that the association is *positive*: high values of one variable tend to be associated with high values of the other, and low values of one with low values of the other, in general.\n",
        "\n",
        "Of course there is some variability. Some actors have high numbers of movies but middling total gross receipts. Others have middling numbers of movies but high receipts. **That the association is positive is simply a statement about the broad general trend.**\n",
        "\n",
        "### The Correlation Coefficient (r) ###\n",
        "\n",
        "One way to quantify association is to use (Pearson's) correlation coefficient.  To calculate the coefficient by hand, you'd have to plug all the (x,y) points from the scatter plot above into a formula.  This forumula always generates a number between -1 and +1.\n",
        "\n",
        "We'll never calculate the correlation coefficient by hand, but instead we'll just have Python calculate it for us, as shown in the below cell.  Notice that we again pass in the 2 columns we're interested in comparing."
      ]
    },
    {
      "cell_type": "code",
      "execution_count": null,
      "metadata": {
        "colab": {
          "base_uri": "https://localhost:8080/",
          "height": 175
        },
        "id": "k4oMLKoSCjnY",
        "outputId": "179c61fc-de57-4f82-ef6a-b6e309b69f4f"
      },
      "outputs": [
        {
          "output_type": "execute_result",
          "data": {
            "text/plain": [
              "                   total_gross  number_of_movies  average_per_movie     gross\n",
              "total_gross           1.000000          0.474609           0.014250  0.385570\n",
              "number_of_movies      0.474609          1.000000          -0.627345 -0.158148\n",
              "average_per_movie     0.014250         -0.627345           1.000000  0.474866\n",
              "gross                 0.385570         -0.158148           0.474866  1.000000"
            ],
            "text/html": [
              "\n",
              "  <div id=\"df-2a7aea08-f09b-4292-aba5-b88b6d02b5bd\">\n",
              "    <div class=\"colab-df-container\">\n",
              "      <div>\n",
              "<style scoped>\n",
              "    .dataframe tbody tr th:only-of-type {\n",
              "        vertical-align: middle;\n",
              "    }\n",
              "\n",
              "    .dataframe tbody tr th {\n",
              "        vertical-align: top;\n",
              "    }\n",
              "\n",
              "    .dataframe thead th {\n",
              "        text-align: right;\n",
              "    }\n",
              "</style>\n",
              "<table border=\"1\" class=\"dataframe\">\n",
              "  <thead>\n",
              "    <tr style=\"text-align: right;\">\n",
              "      <th></th>\n",
              "      <th>total_gross</th>\n",
              "      <th>number_of_movies</th>\n",
              "      <th>average_per_movie</th>\n",
              "      <th>gross</th>\n",
              "    </tr>\n",
              "  </thead>\n",
              "  <tbody>\n",
              "    <tr>\n",
              "      <th>total_gross</th>\n",
              "      <td>1.000000</td>\n",
              "      <td>0.474609</td>\n",
              "      <td>0.014250</td>\n",
              "      <td>0.385570</td>\n",
              "    </tr>\n",
              "    <tr>\n",
              "      <th>number_of_movies</th>\n",
              "      <td>0.474609</td>\n",
              "      <td>1.000000</td>\n",
              "      <td>-0.627345</td>\n",
              "      <td>-0.158148</td>\n",
              "    </tr>\n",
              "    <tr>\n",
              "      <th>average_per_movie</th>\n",
              "      <td>0.014250</td>\n",
              "      <td>-0.627345</td>\n",
              "      <td>1.000000</td>\n",
              "      <td>0.474866</td>\n",
              "    </tr>\n",
              "    <tr>\n",
              "      <th>gross</th>\n",
              "      <td>0.385570</td>\n",
              "      <td>-0.158148</td>\n",
              "      <td>0.474866</td>\n",
              "      <td>1.000000</td>\n",
              "    </tr>\n",
              "  </tbody>\n",
              "</table>\n",
              "</div>\n",
              "      <button class=\"colab-df-convert\" onclick=\"convertToInteractive('df-2a7aea08-f09b-4292-aba5-b88b6d02b5bd')\"\n",
              "              title=\"Convert this dataframe to an interactive table.\"\n",
              "              style=\"display:none;\">\n",
              "        \n",
              "  <svg xmlns=\"http://www.w3.org/2000/svg\" height=\"24px\"viewBox=\"0 0 24 24\"\n",
              "       width=\"24px\">\n",
              "    <path d=\"M0 0h24v24H0V0z\" fill=\"none\"/>\n",
              "    <path d=\"M18.56 5.44l.94 2.06.94-2.06 2.06-.94-2.06-.94-.94-2.06-.94 2.06-2.06.94zm-11 1L8.5 8.5l.94-2.06 2.06-.94-2.06-.94L8.5 2.5l-.94 2.06-2.06.94zm10 10l.94 2.06.94-2.06 2.06-.94-2.06-.94-.94-2.06-.94 2.06-2.06.94z\"/><path d=\"M17.41 7.96l-1.37-1.37c-.4-.4-.92-.59-1.43-.59-.52 0-1.04.2-1.43.59L10.3 9.45l-7.72 7.72c-.78.78-.78 2.05 0 2.83L4 21.41c.39.39.9.59 1.41.59.51 0 1.02-.2 1.41-.59l7.78-7.78 2.81-2.81c.8-.78.8-2.07 0-2.86zM5.41 20L4 18.59l7.72-7.72 1.47 1.35L5.41 20z\"/>\n",
              "  </svg>\n",
              "      </button>\n",
              "      \n",
              "  <style>\n",
              "    .colab-df-container {\n",
              "      display:flex;\n",
              "      flex-wrap:wrap;\n",
              "      gap: 12px;\n",
              "    }\n",
              "\n",
              "    .colab-df-convert {\n",
              "      background-color: #E8F0FE;\n",
              "      border: none;\n",
              "      border-radius: 50%;\n",
              "      cursor: pointer;\n",
              "      display: none;\n",
              "      fill: #1967D2;\n",
              "      height: 32px;\n",
              "      padding: 0 0 0 0;\n",
              "      width: 32px;\n",
              "    }\n",
              "\n",
              "    .colab-df-convert:hover {\n",
              "      background-color: #E2EBFA;\n",
              "      box-shadow: 0px 1px 2px rgba(60, 64, 67, 0.3), 0px 1px 3px 1px rgba(60, 64, 67, 0.15);\n",
              "      fill: #174EA6;\n",
              "    }\n",
              "\n",
              "    [theme=dark] .colab-df-convert {\n",
              "      background-color: #3B4455;\n",
              "      fill: #D2E3FC;\n",
              "    }\n",
              "\n",
              "    [theme=dark] .colab-df-convert:hover {\n",
              "      background-color: #434B5C;\n",
              "      box-shadow: 0px 1px 3px 1px rgba(0, 0, 0, 0.15);\n",
              "      filter: drop-shadow(0px 1px 2px rgba(0, 0, 0, 0.3));\n",
              "      fill: #FFFFFF;\n",
              "    }\n",
              "  </style>\n",
              "\n",
              "      <script>\n",
              "        const buttonEl =\n",
              "          document.querySelector('#df-2a7aea08-f09b-4292-aba5-b88b6d02b5bd button.colab-df-convert');\n",
              "        buttonEl.style.display =\n",
              "          google.colab.kernel.accessAllowed ? 'block' : 'none';\n",
              "\n",
              "        async function convertToInteractive(key) {\n",
              "          const element = document.querySelector('#df-2a7aea08-f09b-4292-aba5-b88b6d02b5bd');\n",
              "          const dataTable =\n",
              "            await google.colab.kernel.invokeFunction('convertToInteractive',\n",
              "                                                     [key], {});\n",
              "          if (!dataTable) return;\n",
              "\n",
              "          const docLinkHtml = 'Like what you see? Visit the ' +\n",
              "            '<a target=\"_blank\" href=https://colab.research.google.com/notebooks/data_table.ipynb>data table notebook</a>'\n",
              "            + ' to learn more about interactive tables.';\n",
              "          element.innerHTML = '';\n",
              "          dataTable['output_type'] = 'display_data';\n",
              "          await google.colab.output.renderOutput(dataTable, element);\n",
              "          const docLink = document.createElement('div');\n",
              "          docLink.innerHTML = docLinkHtml;\n",
              "          element.appendChild(docLink);\n",
              "        }\n",
              "      </script>\n",
              "    </div>\n",
              "  </div>\n",
              "  "
            ]
          },
          "metadata": {},
          "execution_count": 57
        }
      ],
      "source": [
        "corr_df = actors.corr()\n",
        "corr_df"
      ]
    },
    {
      "cell_type": "markdown",
      "metadata": {
        "id": "9haNLoeACjnY"
      },
      "source": [
        "As you can see, the ``corr()`` method returns a dataframe where all entries are in the interval \\[-1, 1\\].  The returned number is the correlation coefficient between 2 variables in the data.  "
      ]
    },
    {
      "cell_type": "markdown",
      "metadata": {
        "id": "X6KmPgCmCjnZ"
      },
      "source": [
        "The table shows us that the correlation coefficient between the `Total Gross` and `Number of Movies` is 0.474609.\n",
        "\n",
        "As another example, the correlation coefficient between the `Total Gross` and `Average Per Movie` is 0.014250.   \n",
        "\n",
        "The diagonals contain a value of 1.00000 because any variable is deeply correlated with itself, ie, always matches itself.\n",
        "\n",
        "Notice that 0.474609 and 0.014250 both appear twice.  This is because whether you find the association between `Total Gross` and the `Number of Movies` or instead between the `Number of Movies` and `Total Gross`, you should get the same value.  Because of this commutativity, the correlation matrix is always *symmetric* down the diagonal, ie, corresponding entries are the same when you fold the matrix diagonally.\n",
        "\n",
        "If you wanted to get the correlation coefficient from the table without hardcoding, you could do the following.  Here we use 2 sets of hard brackets to select the ``Total Gross`` column and then the desired row, ``Number of Movies``."
      ]
    },
    {
      "cell_type": "code",
      "execution_count": null,
      "metadata": {
        "colab": {
          "base_uri": "https://localhost:8080/"
        },
        "id": "aw1OtetdCjnZ",
        "outputId": "b19f7a2e-788e-4f5b-ce1d-e8ba37ccc0af"
      },
      "outputs": [
        {
          "output_type": "execute_result",
          "data": {
            "text/plain": [
              "0.47460879537420464"
            ]
          },
          "metadata": {},
          "execution_count": 58
        }
      ],
      "source": [
        "r = corr_df[\"total_gross\"][\"number_of_movies\"]  #We are choosing the column \"Total Gross\"\n",
        "                                                #and then the row with label \"Number of movies\"\n",
        "r"
      ]
    },
    {
      "cell_type": "markdown",
      "metadata": {
        "id": "kFZJ3ETUCjnZ"
      },
      "source": [
        "And thanks to the symmetry of the correlation table, you could have swapped the order, like below."
      ]
    },
    {
      "cell_type": "code",
      "execution_count": null,
      "metadata": {
        "colab": {
          "base_uri": "https://localhost:8080/"
        },
        "id": "XF3v7SeECjnZ",
        "outputId": "2382663e-d5ec-4635-e119-905aa44935bc"
      },
      "outputs": [
        {
          "output_type": "execute_result",
          "data": {
            "text/plain": [
              "0.47460879537420464"
            ]
          },
          "metadata": {},
          "execution_count": 59
        }
      ],
      "source": [
        "r = corr_df[\"number_of_movies\"][\"total_gross\"]  #Now we are choosing the column \"Number of movies\"\n",
        "                                                #and then the row with label \"Total Gross\"\n",
        "r"
      ]
    },
    {
      "cell_type": "markdown",
      "metadata": {
        "id": "IS_vuKD0CjnZ"
      },
      "source": [
        "How do you interpret 0.474609?  Well, this number indicates that the `total_gross` and the `number_of_movies` have a positive linear association of *moderate* strength.  Why \"moderate\"?  Because  0.474609 is somewhere in the middle of 0 and 1, so not super weak and not super strong. Here are some guidelines for how to interpret the correlation coefficient values. (This chart is pretty typical in an intro stats class and more can be read about the correlation coefficient [here](https://www.dummies.com/education/math/statistics/how-to-interpret-a-correlation-coefficient-r/).)\n",
        "\n",
        "* Exactly –1: A perfect downhill (negative) linear relationship\n",
        "* –0.70: A strong downhill (negative) linear relationship\n",
        "* –0.50: A moderate downhill (negative) relationship\n",
        "* –0.30: A weak downhill (negative) linear relationship\n",
        "* 0: No linear relationship (But remember the parabola example - \"r=0\" might not mean \"no relationship at all\"!)\n",
        "* +0.30: A weak uphill (positive) linear relationship\n",
        "* +0.50: A moderate uphill (positive) relationship\n",
        "* +0.70: A strong uphill (positive) linear relationship\n",
        "* Exactly +1: A perfect uphill (positive) linear relationship"
      ]
    },
    {
      "cell_type": "markdown",
      "metadata": {
        "id": "MTohXJnFCjna"
      },
      "source": [
        "Now that we have explored how the number of movies is related to the *total* gross receipt, let's turn our attention to how it is related to the *average* gross receipt per movie."
      ]
    },
    {
      "cell_type": "markdown",
      "metadata": {
        "id": "S01uMg9_Cjna"
      },
      "source": [
        "---\n",
        "\n",
        "# **Question 1**\n",
        "\n",
        "Below, create a scatter plot of the ``number_of_movies`` for each actor vs. ``average_per_movie`` (average gross per movie).  Label each axis and call the graph \"Actors' Number of Movies vs.\\nAverage Gross Per Movie\".  Notice that the `\\n` in the middle just splits the title into two lines."
      ]
    },
    {
      "cell_type": "code",
      "execution_count": null,
      "metadata": {
        "jupyter": {
          "outputs_hidden": false
        },
        "colab": {
          "base_uri": "https://localhost:8080/",
          "height": 347
        },
        "id": "8gCtmJhhCjna",
        "outputId": "735de6c2-e634-456d-c11e-8e2097137f80"
      },
      "outputs": [
        {
          "output_type": "display_data",
          "data": {
            "text/plain": [
              "<Figure size 432x288 with 1 Axes>"
            ],
            "image/png": "[encoded data removed]"
          },
          "metadata": {}
        }
      ],
      "source": [
        "#Make your scatter plot here, per the specifications.\n",
        "plt.scatter(actors[\"number_of_movies\"], actors[\"average_per_movie\"])\n",
        "plt.title(\"Actors' Number of Movies vs.\\nAverage Gross Per Movie\")\n",
        "plt.xlabel(\"Number of Movies\")\n",
        "plt.ylabel(\"Average Per Movie\");"
      ]
    },
    {
      "cell_type": "markdown",
      "metadata": {
        "id": "w3UotX3kCjna"
      },
      "source": [
        "This is a markedly different picture than before and shows a *negative* association. In general, the more movies an actor has been in, the *less* the average receipt per movie.\n",
        "\n",
        "The correlation is stored in the corr_df table generated above.  Set the variable equal to the correct correlation *without hardcoding*, ie, use the double bracket notation explained above to store the value of the coefficient into the variable r."
      ]
    },
    {
      "cell_type": "code",
      "execution_count": null,
      "metadata": {
        "colab": {
          "base_uri": "https://localhost:8080/"
        },
        "id": "7Q_3xo87Cjna",
        "outputId": "07c54534-04d1-4a48-e3df-e229d0abec51"
      },
      "outputs": [
        {
          "output_type": "execute_result",
          "data": {
            "text/plain": [
              "-0.62734549496351"
            ]
          },
          "metadata": {},
          "execution_count": 61
        }
      ],
      "source": [
        "r = corr_df[\"number_of_movies\"][\"average_per_movie\"]\n",
        "r"
      ]
    },
    {
      "cell_type": "markdown",
      "metadata": {
        "id": "DzoPyeMVCjnb"
      },
      "source": [
        "Using our guidelines above, does this show a weak/strong/moderate relationship between the variables?  Explain."
      ]
    },
    {
      "cell_type": "markdown",
      "metadata": {
        "id": "Gc3Phmx_Cjnb"
      },
      "source": [
        "This correlation coefficient of -0.62 shows us that there is a moderate to strong negative relationship between the Number of Movies and the Average Per Movie. In general, it leans more towards a strong negative relationship. I chose to describe this as a moderate to strong negative relationship because the r value of -0.62 falls in between what we typically define as moderate, at 0.5, and strong, at 0.7."
      ]
    },
    {
      "cell_type": "markdown",
      "metadata": {
        "id": "atBnZcmTCjnb"
      },
      "source": [
        "---"
      ]
    },
    {
      "cell_type": "markdown",
      "metadata": {
        "id": "89k3A8LNCjnb"
      },
      "source": [
        "In Question 1, notice that one of the points is quite high and off to the left of the plot. It corresponds to one actor who has a low number of movies and high average per movie. This point is an *outlier*. It lies outside the general range of the data. Indeed, it is quite far from all the other points in the plot."
      ]
    },
    {
      "cell_type": "markdown",
      "metadata": {
        "id": "LrS2KM7-Cjnb"
      },
      "source": [
        "We now will examine the negative association further by looking at points on the right/left ends of the plot.\n",
        "\n",
        "Let's zoom in on the main body of the plot by just looking at the portion that doesn't have that left outlier on the left."
      ]
    },
    {
      "cell_type": "code",
      "execution_count": null,
      "metadata": {
        "id": "RRHi0my0Cjnb",
        "colab": {
          "base_uri": "https://localhost:8080/",
          "height": 1000
        },
        "outputId": "e3a20cfa-f13a-4f29-cf18-9fb033cd41d0"
      },
      "outputs": [
        {
          "output_type": "execute_result",
          "data": {
            "text/plain": [
              "                     actor  total_gross  number_of_movies  average_per_movie  \\\n",
              "0            Harrison Ford       4871.7                41              118.8   \n",
              "1        Samuel L. Jackson       4772.8                69               69.2   \n",
              "2           Morgan Freeman       4468.3                61               73.3   \n",
              "3                Tom Hanks       4340.8                44               98.7   \n",
              "4       Robert Downey, Jr.       3947.3                53               74.5   \n",
              "5             Eddie Murphy       3810.4                38              100.3   \n",
              "6               Tom Cruise       3587.2                36               99.6   \n",
              "7              Johnny Depp       3368.6                45               74.9   \n",
              "8            Michael Caine       3351.5                58               57.8   \n",
              "9       Scarlett Johansson       3341.2                37               90.3   \n",
              "10             Gary Oldman       3294.0                38               86.7   \n",
              "11          Robin Williams       3279.3                49               66.9   \n",
              "12            Bruce Willis       3189.4                60               53.2   \n",
              "13       Stellan Skarsgard       3175.0                43               73.8   \n",
              "14            Ian McKellen       3150.4                31              101.6   \n",
              "15              Will Smith       3149.1                24              131.2   \n",
              "16           Stanley Tucci       3123.9                50               62.5   \n",
              "17              Matt Damon       3107.3                39               79.7   \n",
              "18           Robert DeNiro       3081.3                79               39.0   \n",
              "19            Cameron Diaz       3031.7                34               89.2   \n",
              "20             Liam Neeson       2942.7                63               46.7   \n",
              "21             Andy Serkis       2890.6                23              125.7   \n",
              "22             Don Cheadle       2885.4                34               84.9   \n",
              "23             Ben Stiller       2827.0                37               76.4   \n",
              "24    Helena Bonham Carter       2822.0                36               78.4   \n",
              "25           Orlando Bloom       2815.8                17              165.6   \n",
              "26         Woody Harrelson       2815.8                50               56.3   \n",
              "27          Cate Blanchett       2802.6                39               71.9   \n",
              "28           Julia Roberts       2735.3                42               65.1   \n",
              "29         Elizabeth Banks       2726.3                35               77.9   \n",
              "30           Ralph Fiennes       2715.3                36               75.4   \n",
              "31             Emma Watson       2681.9                17              157.8   \n",
              "32         Tommy Lee Jones       2681.3                46               58.3   \n",
              "33               Brad Pitt       2680.9                40               67.0   \n",
              "34            Adam Sandler       2661.0                32               83.2   \n",
              "35        Daniel Radcliffe       2634.4                17              155.0   \n",
              "36              Jonah Hill       2605.1                29               89.8   \n",
              "37             Owen Wilson       2602.3                39               66.7   \n",
              "38              Idris Elba       2580.6                26               99.3   \n",
              "39          Bradley Cooper       2557.7                25              102.3   \n",
              "40           Mark Wahlberg       2549.8                36               70.8   \n",
              "41              Jim Carrey       2545.2                27               94.3   \n",
              "42          Dustin Hoffman       2522.1                43               58.7   \n",
              "43       Leonardo DiCaprio       2518.3                25              100.7   \n",
              "44           Jeremy Renner       2500.3                21              119.1   \n",
              "45  Philip Seymour Hoffman       2463.7                40               61.6   \n",
              "46          Sandra Bullock       2462.6                35               70.4   \n",
              "47             Chris Evans       2457.8                23              106.9   \n",
              "48           Anne Hathaway       2416.5                25               96.7   \n",
              "\n",
              "                              no1_movie  gross  \n",
              "0          Star Wars: The Force Awakens  936.7  \n",
              "1                          The Avengers  623.4  \n",
              "2                       The Dark Knight  534.9  \n",
              "3                           Toy Story 3  415.0  \n",
              "4                          The Avengers  623.4  \n",
              "5                               Shrek 2  441.2  \n",
              "6                     War of the Worlds  234.3  \n",
              "7                      Dead Man's Chest  423.3  \n",
              "8                       The Dark Knight  534.9  \n",
              "9                          The Avengers  623.4  \n",
              "10                      The Dark Knight  534.9  \n",
              "11                  Night at the Museum  250.9  \n",
              "12                          Sixth Sense  293.5  \n",
              "13                         The Avengers  623.4  \n",
              "14                   Return of the King  377.8  \n",
              "15                     Independence Day  306.2  \n",
              "16                        Catching Fire  424.7  \n",
              "17                          The Martian  228.4  \n",
              "18                     Meet the Fockers  279.3  \n",
              "19                              Shrek 2  441.2  \n",
              "20                   The Phantom Menace  474.5  \n",
              "21         Star Wars: The Force Awakens  936.7  \n",
              "22              Avengers: Age of Ultron  459.0  \n",
              "23                     Meet the Fockers  279.3  \n",
              "24  Harry Potter / Deathly Hallows (P2)  381.0  \n",
              "25                     Dead Man's Chest  423.3  \n",
              "26                        Catching Fire  424.7  \n",
              "27                   Return of the King  377.8  \n",
              "28                       Ocean's Eleven  183.4  \n",
              "29                        Catching Fire  424.7  \n",
              "30  Harry Potter / Deathly Hallows (P2)  381.0  \n",
              "31  Harry Potter / Deathly Hallows (P2)  381.0  \n",
              "32                         Men in Black  250.7  \n",
              "33                          World War Z  202.4  \n",
              "34                 Hotel Transylvania 2  169.7  \n",
              "35  Harry Potter / Deathly Hallows (P2)  381.0  \n",
              "36                       The LEGO Movie  257.8  \n",
              "37                  Night at the Museum  250.9  \n",
              "38              Avengers: Age of Ultron  459.0  \n",
              "39                      American Sniper  350.1  \n",
              "40                       Transformers 4  245.4  \n",
              "41                           The Grinch  260.0  \n",
              "42                     Meet the Fockers  279.3  \n",
              "43                              Titanic  658.7  \n",
              "44                         The Avengers  623.4  \n",
              "45                        Catching Fire  424.7  \n",
              "46                              Minions  336.0  \n",
              "47                         The Avengers  623.4  \n",
              "48                The Dark Knight Rises  448.1  "
            ],
            "text/html": [
              "\n",
              "  <div id=\"df-98411d4c-34ce-4e8a-a588-4facd8385c1c\">\n",
              "    <div class=\"colab-df-container\">\n",
              "      <div>\n",
              "<style scoped>\n",
              "    .dataframe tbody tr th:only-of-type {\n",
              "        vertical-align: middle;\n",
              "    }\n",
              "\n",
              "    .dataframe tbody tr th {\n",
              "        vertical-align: top;\n",
              "    }\n",
              "\n",
              "    .dataframe thead th {\n",
              "        text-align: right;\n",
              "    }\n",
              "</style>\n",
              "<table border=\"1\" class=\"dataframe\">\n",
              "  <thead>\n",
              "    <tr style=\"text-align: right;\">\n",
              "      <th></th>\n",
              "      <th>actor</th>\n",
              "      <th>total_gross</th>\n",
              "      <th>number_of_movies</th>\n",
              "      <th>average_per_movie</th>\n",
              "      <th>no1_movie</th>\n",
              "      <th>gross</th>\n",
              "    </tr>\n",
              "  </thead>\n",
              "  <tbody>\n",
              "    <tr>\n",
              "      <th>0</th>\n",
              "      <td>Harrison Ford</td>\n",
              "      <td>4871.7</td>\n",
              "      <td>41</td>\n",
              "      <td>118.8</td>\n",
              "      <td>Star Wars: The Force Awakens</td>\n",
              "      <td>936.7</td>\n",
              "    </tr>\n",
              "    <tr>\n",
              "      <th>1</th>\n",
              "      <td>Samuel L. Jackson</td>\n",
              "      <td>4772.8</td>\n",
              "      <td>69</td>\n",
              "      <td>69.2</td>\n",
              "      <td>The Avengers</td>\n",
              "      <td>623.4</td>\n",
              "    </tr>\n",
              "    <tr>\n",
              "      <th>2</th>\n",
              "      <td>Morgan Freeman</td>\n",
              "      <td>4468.3</td>\n",
              "      <td>61</td>\n",
              "      <td>73.3</td>\n",
              "      <td>The Dark Knight</td>\n",
              "      <td>534.9</td>\n",
              "    </tr>\n",
              "    <tr>\n",
              "      <th>3</th>\n",
              "      <td>Tom Hanks</td>\n",
              "      <td>4340.8</td>\n",
              "      <td>44</td>\n",
              "      <td>98.7</td>\n",
              "      <td>Toy Story 3</td>\n",
              "      <td>415.0</td>\n",
              "    </tr>\n",
              "    <tr>\n",
              "      <th>4</th>\n",
              "      <td>Robert Downey, Jr.</td>\n",
              "      <td>3947.3</td>\n",
              "      <td>53</td>\n",
              "      <td>74.5</td>\n",
              "      <td>The Avengers</td>\n",
              "      <td>623.4</td>\n",
              "    </tr>\n",
              "    <tr>\n",
              "      <th>5</th>\n",
              "      <td>Eddie Murphy</td>\n",
              "      <td>3810.4</td>\n",
              "      <td>38</td>\n",
              "      <td>100.3</td>\n",
              "      <td>Shrek 2</td>\n",
              "      <td>441.2</td>\n",
              "    </tr>\n",
              "    <tr>\n",
              "      <th>6</th>\n",
              "      <td>Tom Cruise</td>\n",
              "      <td>3587.2</td>\n",
              "      <td>36</td>\n",
              "      <td>99.6</td>\n",
              "      <td>War of the Worlds</td>\n",
              "      <td>234.3</td>\n",
              "    </tr>\n",
              "    <tr>\n",
              "      <th>7</th>\n",
              "      <td>Johnny Depp</td>\n",
              "      <td>3368.6</td>\n",
              "      <td>45</td>\n",
              "      <td>74.9</td>\n",
              "      <td>Dead Man's Chest</td>\n",
              "      <td>423.3</td>\n",
              "    </tr>\n",
              "    <tr>\n",
              "      <th>8</th>\n",
              "      <td>Michael Caine</td>\n",
              "      <td>3351.5</td>\n",
              "      <td>58</td>\n",
              "      <td>57.8</td>\n",
              "      <td>The Dark Knight</td>\n",
              "      <td>534.9</td>\n",
              "    </tr>\n",
              "    <tr>\n",
              "      <th>9</th>\n",
              "      <td>Scarlett Johansson</td>\n",
              "      <td>3341.2</td>\n",
              "      <td>37</td>\n",
              "      <td>90.3</td>\n",
              "      <td>The Avengers</td>\n",
              "      <td>623.4</td>\n",
              "    </tr>\n",
              "    <tr>\n",
              "      <th>10</th>\n",
              "      <td>Gary Oldman</td>\n",
              "      <td>3294.0</td>\n",
              "      <td>38</td>\n",
              "      <td>86.7</td>\n",
              "      <td>The Dark Knight</td>\n",
              "      <td>534.9</td>\n",
              "    </tr>\n",
              "    <tr>\n",
              "      <th>11</th>\n",
              "      <td>Robin Williams</td>\n",
              "      <td>3279.3</td>\n",
              "      <td>49</td>\n",
              "      <td>66.9</td>\n",
              "      <td>Night at the Museum</td>\n",
              "      <td>250.9</td>\n",
              "    </tr>\n",
              "    <tr>\n",
              "      <th>12</th>\n",
              "      <td>Bruce Willis</td>\n",
              "      <td>3189.4</td>\n",
              "      <td>60</td>\n",
              "      <td>53.2</td>\n",
              "      <td>Sixth Sense</td>\n",
              "      <td>293.5</td>\n",
              "    </tr>\n",
              "    <tr>\n",
              "      <th>13</th>\n",
              "      <td>Stellan Skarsgard</td>\n",
              "      <td>3175.0</td>\n",
              "      <td>43</td>\n",
              "      <td>73.8</td>\n",
              "      <td>The Avengers</td>\n",
              "      <td>623.4</td>\n",
              "    </tr>\n",
              "    <tr>\n",
              "      <th>14</th>\n",
              "      <td>Ian McKellen</td>\n",
              "      <td>3150.4</td>\n",
              "      <td>31</td>\n",
              "      <td>101.6</td>\n",
              "      <td>Return of the King</td>\n",
              "      <td>377.8</td>\n",
              "    </tr>\n",
              "    <tr>\n",
              "      <th>15</th>\n",
              "      <td>Will Smith</td>\n",
              "      <td>3149.1</td>\n",
              "      <td>24</td>\n",
              "      <td>131.2</td>\n",
              "      <td>Independence Day</td>\n",
              "      <td>306.2</td>\n",
              "    </tr>\n",
              "    <tr>\n",
              "      <th>16</th>\n",
              "      <td>Stanley Tucci</td>\n",
              "      <td>3123.9</td>\n",
              "      <td>50</td>\n",
              "      <td>62.5</td>\n",
              "      <td>Catching Fire</td>\n",
              "      <td>424.7</td>\n",
              "    </tr>\n",
              "    <tr>\n",
              "      <th>17</th>\n",
              "      <td>Matt Damon</td>\n",
              "      <td>3107.3</td>\n",
              "      <td>39</td>\n",
              "      <td>79.7</td>\n",
              "      <td>The Martian</td>\n",
              "      <td>228.4</td>\n",
              "    </tr>\n",
              "    <tr>\n",
              "      <th>18</th>\n",
              "      <td>Robert DeNiro</td>\n",
              "      <td>3081.3</td>\n",
              "      <td>79</td>\n",
              "      <td>39.0</td>\n",
              "      <td>Meet the Fockers</td>\n",
              "      <td>279.3</td>\n",
              "    </tr>\n",
              "    <tr>\n",
              "      <th>19</th>\n",
              "      <td>Cameron Diaz</td>\n",
              "      <td>3031.7</td>\n",
              "      <td>34</td>\n",
              "      <td>89.2</td>\n",
              "      <td>Shrek 2</td>\n",
              "      <td>441.2</td>\n",
              "    </tr>\n",
              "    <tr>\n",
              "      <th>20</th>\n",
              "      <td>Liam Neeson</td>\n",
              "      <td>2942.7</td>\n",
              "      <td>63</td>\n",
              "      <td>46.7</td>\n",
              "      <td>The Phantom Menace</td>\n",
              "      <td>474.5</td>\n",
              "    </tr>\n",
              "    <tr>\n",
              "      <th>21</th>\n",
              "      <td>Andy Serkis</td>\n",
              "      <td>2890.6</td>\n",
              "      <td>23</td>\n",
              "      <td>125.7</td>\n",
              "      <td>Star Wars: The Force Awakens</td>\n",
              "      <td>936.7</td>\n",
              "    </tr>\n",
              "    <tr>\n",
              "      <th>22</th>\n",
              "      <td>Don Cheadle</td>\n",
              "      <td>2885.4</td>\n",
              "      <td>34</td>\n",
              "      <td>84.9</td>\n",
              "      <td>Avengers: Age of Ultron</td>\n",
              "      <td>459.0</td>\n",
              "    </tr>\n",
              "    <tr>\n",
              "      <th>23</th>\n",
              "      <td>Ben Stiller</td>\n",
              "      <td>2827.0</td>\n",
              "      <td>37</td>\n",
              "      <td>76.4</td>\n",
              "      <td>Meet the Fockers</td>\n",
              "      <td>279.3</td>\n",
              "    </tr>\n",
              "    <tr>\n",
              "      <th>24</th>\n",
              "      <td>Helena Bonham Carter</td>\n",
              "      <td>2822.0</td>\n",
              "      <td>36</td>\n",
              "      <td>78.4</td>\n",
              "      <td>Harry Potter / Deathly Hallows (P2)</td>\n",
              "      <td>381.0</td>\n",
              "    </tr>\n",
              "    <tr>\n",
              "      <th>25</th>\n",
              "      <td>Orlando Bloom</td>\n",
              "      <td>2815.8</td>\n",
              "      <td>17</td>\n",
              "      <td>165.6</td>\n",
              "      <td>Dead Man's Chest</td>\n",
              "      <td>423.3</td>\n",
              "    </tr>\n",
              "    <tr>\n",
              "      <th>26</th>\n",
              "      <td>Woody Harrelson</td>\n",
              "      <td>2815.8</td>\n",
              "      <td>50</td>\n",
              "      <td>56.3</td>\n",
              "      <td>Catching Fire</td>\n",
              "      <td>424.7</td>\n",
              "    </tr>\n",
              "    <tr>\n",
              "      <th>27</th>\n",
              "      <td>Cate Blanchett</td>\n",
              "      <td>2802.6</td>\n",
              "      <td>39</td>\n",
              "      <td>71.9</td>\n",
              "      <td>Return of the King</td>\n",
              "      <td>377.8</td>\n",
              "    </tr>\n",
              "    <tr>\n",
              "      <th>28</th>\n",
              "      <td>Julia Roberts</td>\n",
              "      <td>2735.3</td>\n",
              "      <td>42</td>\n",
              "      <td>65.1</td>\n",
              "      <td>Ocean's Eleven</td>\n",
              "      <td>183.4</td>\n",
              "    </tr>\n",
              "    <tr>\n",
              "      <th>29</th>\n",
              "      <td>Elizabeth Banks</td>\n",
              "      <td>2726.3</td>\n",
              "      <td>35</td>\n",
              "      <td>77.9</td>\n",
              "      <td>Catching Fire</td>\n",
              "      <td>424.7</td>\n",
              "    </tr>\n",
              "    <tr>\n",
              "      <th>30</th>\n",
              "      <td>Ralph Fiennes</td>\n",
              "      <td>2715.3</td>\n",
              "      <td>36</td>\n",
              "      <td>75.4</td>\n",
              "      <td>Harry Potter / Deathly Hallows (P2)</td>\n",
              "      <td>381.0</td>\n",
              "    </tr>\n",
              "    <tr>\n",
              "      <th>31</th>\n",
              "      <td>Emma Watson</td>\n",
              "      <td>2681.9</td>\n",
              "      <td>17</td>\n",
              "      <td>157.8</td>\n",
              "      <td>Harry Potter / Deathly Hallows (P2)</td>\n",
              "      <td>381.0</td>\n",
              "    </tr>\n",
              "    <tr>\n",
              "      <th>32</th>\n",
              "      <td>Tommy Lee Jones</td>\n",
              "      <td>2681.3</td>\n",
              "      <td>46</td>\n",
              "      <td>58.3</td>\n",
              "      <td>Men in Black</td>\n",
              "      <td>250.7</td>\n",
              "    </tr>\n",
              "    <tr>\n",
              "      <th>33</th>\n",
              "      <td>Brad Pitt</td>\n",
              "      <td>2680.9</td>\n",
              "      <td>40</td>\n",
              "      <td>67.0</td>\n",
              "      <td>World War Z</td>\n",
              "      <td>202.4</td>\n",
              "    </tr>\n",
              "    <tr>\n",
              "      <th>34</th>\n",
              "      <td>Adam Sandler</td>\n",
              "      <td>2661.0</td>\n",
              "      <td>32</td>\n",
              "      <td>83.2</td>\n",
              "      <td>Hotel Transylvania 2</td>\n",
              "      <td>169.7</td>\n",
              "    </tr>\n",
              "    <tr>\n",
              "      <th>35</th>\n",
              "      <td>Daniel Radcliffe</td>\n",
              "      <td>2634.4</td>\n",
              "      <td>17</td>\n",
              "      <td>155.0</td>\n",
              "      <td>Harry Potter / Deathly Hallows (P2)</td>\n",
              "      <td>381.0</td>\n",
              "    </tr>\n",
              "    <tr>\n",
              "      <th>36</th>\n",
              "      <td>Jonah Hill</td>\n",
              "      <td>2605.1</td>\n",
              "      <td>29</td>\n",
              "      <td>89.8</td>\n",
              "      <td>The LEGO Movie</td>\n",
              "      <td>257.8</td>\n",
              "    </tr>\n",
              "    <tr>\n",
              "      <th>37</th>\n",
              "      <td>Owen Wilson</td>\n",
              "      <td>2602.3</td>\n",
              "      <td>39</td>\n",
              "      <td>66.7</td>\n",
              "      <td>Night at the Museum</td>\n",
              "      <td>250.9</td>\n",
              "    </tr>\n",
              "    <tr>\n",
              "      <th>38</th>\n",
              "      <td>Idris Elba</td>\n",
              "      <td>2580.6</td>\n",
              "      <td>26</td>\n",
              "      <td>99.3</td>\n",
              "      <td>Avengers: Age of Ultron</td>\n",
              "      <td>459.0</td>\n",
              "    </tr>\n",
              "    <tr>\n",
              "      <th>39</th>\n",
              "      <td>Bradley Cooper</td>\n",
              "      <td>2557.7</td>\n",
              "      <td>25</td>\n",
              "      <td>102.3</td>\n",
              "      <td>American Sniper</td>\n",
              "      <td>350.1</td>\n",
              "    </tr>\n",
              "    <tr>\n",
              "      <th>40</th>\n",
              "      <td>Mark Wahlberg</td>\n",
              "      <td>2549.8</td>\n",
              "      <td>36</td>\n",
              "      <td>70.8</td>\n",
              "      <td>Transformers 4</td>\n",
              "      <td>245.4</td>\n",
              "    </tr>\n",
              "    <tr>\n",
              "      <th>41</th>\n",
              "      <td>Jim Carrey</td>\n",
              "      <td>2545.2</td>\n",
              "      <td>27</td>\n",
              "      <td>94.3</td>\n",
              "      <td>The Grinch</td>\n",
              "      <td>260.0</td>\n",
              "    </tr>\n",
              "    <tr>\n",
              "      <th>42</th>\n",
              "      <td>Dustin Hoffman</td>\n",
              "      <td>2522.1</td>\n",
              "      <td>43</td>\n",
              "      <td>58.7</td>\n",
              "      <td>Meet the Fockers</td>\n",
              "      <td>279.3</td>\n",
              "    </tr>\n",
              "    <tr>\n",
              "      <th>43</th>\n",
              "      <td>Leonardo DiCaprio</td>\n",
              "      <td>2518.3</td>\n",
              "      <td>25</td>\n",
              "      <td>100.7</td>\n",
              "      <td>Titanic</td>\n",
              "      <td>658.7</td>\n",
              "    </tr>\n",
              "    <tr>\n",
              "      <th>44</th>\n",
              "      <td>Jeremy Renner</td>\n",
              "      <td>2500.3</td>\n",
              "      <td>21</td>\n",
              "      <td>119.1</td>\n",
              "      <td>The Avengers</td>\n",
              "      <td>623.4</td>\n",
              "    </tr>\n",
              "    <tr>\n",
              "      <th>45</th>\n",
              "      <td>Philip Seymour Hoffman</td>\n",
              "      <td>2463.7</td>\n",
              "      <td>40</td>\n",
              "      <td>61.6</td>\n",
              "      <td>Catching Fire</td>\n",
              "      <td>424.7</td>\n",
              "    </tr>\n",
              "    <tr>\n",
              "      <th>46</th>\n",
              "      <td>Sandra Bullock</td>\n",
              "      <td>2462.6</td>\n",
              "      <td>35</td>\n",
              "      <td>70.4</td>\n",
              "      <td>Minions</td>\n",
              "      <td>336.0</td>\n",
              "    </tr>\n",
              "    <tr>\n",
              "      <th>47</th>\n",
              "      <td>Chris Evans</td>\n",
              "      <td>2457.8</td>\n",
              "      <td>23</td>\n",
              "      <td>106.9</td>\n",
              "      <td>The Avengers</td>\n",
              "      <td>623.4</td>\n",
              "    </tr>\n",
              "    <tr>\n",
              "      <th>48</th>\n",
              "      <td>Anne Hathaway</td>\n",
              "      <td>2416.5</td>\n",
              "      <td>25</td>\n",
              "      <td>96.7</td>\n",
              "      <td>The Dark Knight Rises</td>\n",
              "      <td>448.1</td>\n",
              "    </tr>\n",
              "  </tbody>\n",
              "</table>\n",
              "</div>\n",
              "      <button class=\"colab-df-convert\" onclick=\"convertToInteractive('df-98411d4c-34ce-4e8a-a588-4facd8385c1c')\"\n",
              "              title=\"Convert this dataframe to an interactive table.\"\n",
              "              style=\"display:none;\">\n",
              "        \n",
              "  <svg xmlns=\"http://www.w3.org/2000/svg\" height=\"24px\"viewBox=\"0 0 24 24\"\n",
              "       width=\"24px\">\n",
              "    <path d=\"M0 0h24v24H0V0z\" fill=\"none\"/>\n",
              "    <path d=\"M18.56 5.44l.94 2.06.94-2.06 2.06-.94-2.06-.94-.94-2.06-.94 2.06-2.06.94zm-11 1L8.5 8.5l.94-2.06 2.06-.94-2.06-.94L8.5 2.5l-.94 2.06-2.06.94zm10 10l.94 2.06.94-2.06 2.06-.94-2.06-.94-.94-2.06-.94 2.06-2.06.94z\"/><path d=\"M17.41 7.96l-1.37-1.37c-.4-.4-.92-.59-1.43-.59-.52 0-1.04.2-1.43.59L10.3 9.45l-7.72 7.72c-.78.78-.78 2.05 0 2.83L4 21.41c.39.39.9.59 1.41.59.51 0 1.02-.2 1.41-.59l7.78-7.78 2.81-2.81c.8-.78.8-2.07 0-2.86zM5.41 20L4 18.59l7.72-7.72 1.47 1.35L5.41 20z\"/>\n",
              "  </svg>\n",
              "      </button>\n",
              "      \n",
              "  <style>\n",
              "    .colab-df-container {\n",
              "      display:flex;\n",
              "      flex-wrap:wrap;\n",
              "      gap: 12px;\n",
              "    }\n",
              "\n",
              "    .colab-df-convert {\n",
              "      background-color: #E8F0FE;\n",
              "      border: none;\n",
              "      border-radius: 50%;\n",
              "      cursor: pointer;\n",
              "      display: none;\n",
              "      fill: #1967D2;\n",
              "      height: 32px;\n",
              "      padding: 0 0 0 0;\n",
              "      width: 32px;\n",
              "    }\n",
              "\n",
              "    .colab-df-convert:hover {\n",
              "      background-color: #E2EBFA;\n",
              "      box-shadow: 0px 1px 2px rgba(60, 64, 67, 0.3), 0px 1px 3px 1px rgba(60, 64, 67, 0.15);\n",
              "      fill: #174EA6;\n",
              "    }\n",
              "\n",
              "    [theme=dark] .colab-df-convert {\n",
              "      background-color: #3B4455;\n",
              "      fill: #D2E3FC;\n",
              "    }\n",
              "\n",
              "    [theme=dark] .colab-df-convert:hover {\n",
              "      background-color: #434B5C;\n",
              "      box-shadow: 0px 1px 3px 1px rgba(0, 0, 0, 0.15);\n",
              "      filter: drop-shadow(0px 1px 2px rgba(0, 0, 0, 0.3));\n",
              "      fill: #FFFFFF;\n",
              "    }\n",
              "  </style>\n",
              "\n",
              "      <script>\n",
              "        const buttonEl =\n",
              "          document.querySelector('#df-98411d4c-34ce-4e8a-a588-4facd8385c1c button.colab-df-convert');\n",
              "        buttonEl.style.display =\n",
              "          google.colab.kernel.accessAllowed ? 'block' : 'none';\n",
              "\n",
              "        async function convertToInteractive(key) {\n",
              "          const element = document.querySelector('#df-98411d4c-34ce-4e8a-a588-4facd8385c1c');\n",
              "          const dataTable =\n",
              "            await google.colab.kernel.invokeFunction('convertToInteractive',\n",
              "                                                     [key], {});\n",
              "          if (!dataTable) return;\n",
              "\n",
              "          const docLinkHtml = 'Like what you see? Visit the ' +\n",
              "            '<a target=\"_blank\" href=https://colab.research.google.com/notebooks/data_table.ipynb>data table notebook</a>'\n",
              "            + ' to learn more about interactive tables.';\n",
              "          element.innerHTML = '';\n",
              "          dataTable['output_type'] = 'display_data';\n",
              "          await google.colab.output.renderOutput(dataTable, element);\n",
              "          const docLink = document.createElement('div');\n",
              "          docLink.innerHTML = docLinkHtml;\n",
              "          element.appendChild(docLink);\n",
              "        }\n",
              "      </script>\n",
              "    </div>\n",
              "  </div>\n",
              "  "
            ]
          },
          "metadata": {},
          "execution_count": 62
        }
      ],
      "source": [
        " #Get all rows of our table where the number of movies is above 10\n",
        "sql_statement = \"\"\"SELECT *\n",
        "                   FROM actors\n",
        "                   WHERE number_of_movies > 10\"\"\"\n",
        "\n",
        "actors_no_outlier = pd.read_sql_query(sql_statement, conn)\n",
        "actors_no_outlier"
      ]
    },
    {
      "cell_type": "markdown",
      "metadata": {
        "id": "PnDPjgALCjnb"
      },
      "source": [
        "And now we build the scatter plot!"
      ]
    },
    {
      "cell_type": "code",
      "execution_count": null,
      "metadata": {
        "jupyter": {
          "outputs_hidden": false
        },
        "id": "MZZbfm1iCjnb",
        "colab": {
          "base_uri": "https://localhost:8080/",
          "height": 347
        },
        "outputId": "627e530e-1ceb-42c2-a7df-6d8d7c00d993"
      },
      "outputs": [
        {
          "output_type": "display_data",
          "data": {
            "text/plain": [
              "<Figure size 432x288 with 1 Axes>"
            ],
            "image/png": "[encoded data removed]"
          },
          "metadata": {}
        }
      ],
      "source": [
        "plt.scatter(actors_no_outlier['number_of_movies'], actors_no_outlier['average_per_movie'])\n",
        "plt.title(\"Actors' Number of Movies vs.\\nAverage Gross Per Movie\")\n",
        "plt.xlabel('Number of Movies')\n",
        "plt.ylabel('Average Gross per Movie');"
      ]
    },
    {
      "cell_type": "markdown",
      "metadata": {
        "id": "IkGlFKgaCjnc"
      },
      "source": [
        "The negative association is still clearly visible.  Let's check out the correlation coefficient now that this one outlier has been removed."
      ]
    },
    {
      "cell_type": "code",
      "execution_count": null,
      "metadata": {
        "id": "Nbt6y1TMCjnc",
        "colab": {
          "base_uri": "https://localhost:8080/",
          "height": 175
        },
        "outputId": "a06da540-7c34-4ab3-e5ae-a8278b4cb463"
      },
      "outputs": [
        {
          "output_type": "execute_result",
          "data": {
            "text/plain": [
              "                   total_gross  number_of_movies  average_per_movie     gross\n",
              "total_gross           1.000000          0.510861          -0.028893  0.406809\n",
              "number_of_movies      0.510861          1.000000          -0.784604 -0.037520\n",
              "average_per_movie    -0.028893         -0.784604           1.000000  0.287426\n",
              "gross                 0.406809         -0.037520           0.287426  1.000000"
            ],
            "text/html": [
              "\n",
              "  <div id=\"df-ced6a6b1-e629-472d-90c1-553d741db60b\">\n",
              "    <div class=\"colab-df-container\">\n",
              "      <div>\n",
              "<style scoped>\n",
              "    .dataframe tbody tr th:only-of-type {\n",
              "        vertical-align: middle;\n",
              "    }\n",
              "\n",
              "    .dataframe tbody tr th {\n",
              "        vertical-align: top;\n",
              "    }\n",
              "\n",
              "    .dataframe thead th {\n",
              "        text-align: right;\n",
              "    }\n",
              "</style>\n",
              "<table border=\"1\" class=\"dataframe\">\n",
              "  <thead>\n",
              "    <tr style=\"text-align: right;\">\n",
              "      <th></th>\n",
              "      <th>total_gross</th>\n",
              "      <th>number_of_movies</th>\n",
              "      <th>average_per_movie</th>\n",
              "      <th>gross</th>\n",
              "    </tr>\n",
              "  </thead>\n",
              "  <tbody>\n",
              "    <tr>\n",
              "      <th>total_gross</th>\n",
              "      <td>1.000000</td>\n",
              "      <td>0.510861</td>\n",
              "      <td>-0.028893</td>\n",
              "      <td>0.406809</td>\n",
              "    </tr>\n",
              "    <tr>\n",
              "      <th>number_of_movies</th>\n",
              "      <td>0.510861</td>\n",
              "      <td>1.000000</td>\n",
              "      <td>-0.784604</td>\n",
              "      <td>-0.037520</td>\n",
              "    </tr>\n",
              "    <tr>\n",
              "      <th>average_per_movie</th>\n",
              "      <td>-0.028893</td>\n",
              "      <td>-0.784604</td>\n",
              "      <td>1.000000</td>\n",
              "      <td>0.287426</td>\n",
              "    </tr>\n",
              "    <tr>\n",
              "      <th>gross</th>\n",
              "      <td>0.406809</td>\n",
              "      <td>-0.037520</td>\n",
              "      <td>0.287426</td>\n",
              "      <td>1.000000</td>\n",
              "    </tr>\n",
              "  </tbody>\n",
              "</table>\n",
              "</div>\n",
              "      <button class=\"colab-df-convert\" onclick=\"convertToInteractive('df-ced6a6b1-e629-472d-90c1-553d741db60b')\"\n",
              "              title=\"Convert this dataframe to an interactive table.\"\n",
              "              style=\"display:none;\">\n",
              "        \n",
              "  <svg xmlns=\"http://www.w3.org/2000/svg\" height=\"24px\"viewBox=\"0 0 24 24\"\n",
              "       width=\"24px\">\n",
              "    <path d=\"M0 0h24v24H0V0z\" fill=\"none\"/>\n",
              "    <path d=\"M18.56 5.44l.94 2.06.94-2.06 2.06-.94-2.06-.94-.94-2.06-.94 2.06-2.06.94zm-11 1L8.5 8.5l.94-2.06 2.06-.94-2.06-.94L8.5 2.5l-.94 2.06-2.06.94zm10 10l.94 2.06.94-2.06 2.06-.94-2.06-.94-.94-2.06-.94 2.06-2.06.94z\"/><path d=\"M17.41 7.96l-1.37-1.37c-.4-.4-.92-.59-1.43-.59-.52 0-1.04.2-1.43.59L10.3 9.45l-7.72 7.72c-.78.78-.78 2.05 0 2.83L4 21.41c.39.39.9.59 1.41.59.51 0 1.02-.2 1.41-.59l7.78-7.78 2.81-2.81c.8-.78.8-2.07 0-2.86zM5.41 20L4 18.59l7.72-7.72 1.47 1.35L5.41 20z\"/>\n",
              "  </svg>\n",
              "      </button>\n",
              "      \n",
              "  <style>\n",
              "    .colab-df-container {\n",
              "      display:flex;\n",
              "      flex-wrap:wrap;\n",
              "      gap: 12px;\n",
              "    }\n",
              "\n",
              "    .colab-df-convert {\n",
              "      background-color: #E8F0FE;\n",
              "      border: none;\n",
              "      border-radius: 50%;\n",
              "      cursor: pointer;\n",
              "      display: none;\n",
              "      fill: #1967D2;\n",
              "      height: 32px;\n",
              "      padding: 0 0 0 0;\n",
              "      width: 32px;\n",
              "    }\n",
              "\n",
              "    .colab-df-convert:hover {\n",
              "      background-color: #E2EBFA;\n",
              "      box-shadow: 0px 1px 2px rgba(60, 64, 67, 0.3), 0px 1px 3px 1px rgba(60, 64, 67, 0.15);\n",
              "      fill: #174EA6;\n",
              "    }\n",
              "\n",
              "    [theme=dark] .colab-df-convert {\n",
              "      background-color: #3B4455;\n",
              "      fill: #D2E3FC;\n",
              "    }\n",
              "\n",
              "    [theme=dark] .colab-df-convert:hover {\n",
              "      background-color: #434B5C;\n",
              "      box-shadow: 0px 1px 3px 1px rgba(0, 0, 0, 0.15);\n",
              "      filter: drop-shadow(0px 1px 2px rgba(0, 0, 0, 0.3));\n",
              "      fill: #FFFFFF;\n",
              "    }\n",
              "  </style>\n",
              "\n",
              "      <script>\n",
              "        const buttonEl =\n",
              "          document.querySelector('#df-ced6a6b1-e629-472d-90c1-553d741db60b button.colab-df-convert');\n",
              "        buttonEl.style.display =\n",
              "          google.colab.kernel.accessAllowed ? 'block' : 'none';\n",
              "\n",
              "        async function convertToInteractive(key) {\n",
              "          const element = document.querySelector('#df-ced6a6b1-e629-472d-90c1-553d741db60b');\n",
              "          const dataTable =\n",
              "            await google.colab.kernel.invokeFunction('convertToInteractive',\n",
              "                                                     [key], {});\n",
              "          if (!dataTable) return;\n",
              "\n",
              "          const docLinkHtml = 'Like what you see? Visit the ' +\n",
              "            '<a target=\"_blank\" href=https://colab.research.google.com/notebooks/data_table.ipynb>data table notebook</a>'\n",
              "            + ' to learn more about interactive tables.';\n",
              "          element.innerHTML = '';\n",
              "          dataTable['output_type'] = 'display_data';\n",
              "          await google.colab.output.renderOutput(dataTable, element);\n",
              "          const docLink = document.createElement('div');\n",
              "          docLink.innerHTML = docLinkHtml;\n",
              "          element.appendChild(docLink);\n",
              "        }\n",
              "      </script>\n",
              "    </div>\n",
              "  </div>\n",
              "  "
            ]
          },
          "metadata": {},
          "execution_count": 64
        }
      ],
      "source": [
        "corr_matrix = actors_no_outlier.corr()\n",
        "corr_matrix"
      ]
    },
    {
      "cell_type": "markdown",
      "metadata": {
        "id": "Vq37wF4KCjnc"
      },
      "source": [
        "So r went from about -0.6273 to about -0.7846.  \n",
        "\n",
        "From this, you should learn that **outliers can deeply affect the correlation coefficient**!  Without that outlier, we have a strong negative linear relationship amongst the points."
      ]
    },
    {
      "cell_type": "markdown",
      "metadata": {
        "id": "t96Eh_wCCjnc"
      },
      "source": [
        "---\n",
        "\n",
        "# **Question 2**\n",
        "\n",
        "Let's identify the actors corresponding to the points that lie on the right hand side of the plot where the number of movies is large.\n",
        "\n",
        "Generate a table with all actors who made more than 60 movies."
      ]
    },
    {
      "cell_type": "code",
      "execution_count": null,
      "metadata": {
        "jupyter": {
          "outputs_hidden": false
        },
        "id": "ilgUGmICCjnc",
        "colab": {
          "base_uri": "https://localhost:8080/",
          "height": 175
        },
        "outputId": "2da70806-d194-4ef3-b710-e38f9f920c01"
      },
      "outputs": [
        {
          "output_type": "execute_result",
          "data": {
            "text/plain": [
              "               actor  total_gross  number_of_movies  average_per_movie  \\\n",
              "0      Robert DeNiro       3081.3                79               39.0   \n",
              "1  Samuel L. Jackson       4772.8                69               69.2   \n",
              "2        Liam Neeson       2942.7                63               46.7   \n",
              "3     Morgan Freeman       4468.3                61               73.3   \n",
              "\n",
              "            no1_movie  gross  \n",
              "0    Meet the Fockers  279.3  \n",
              "1        The Avengers  623.4  \n",
              "2  The Phantom Menace  474.5  \n",
              "3     The Dark Knight  534.9  "
            ],
            "text/html": [
              "\n",
              "  <div id=\"df-f33a629f-19a2-4b03-bf02-cdb291d50d22\">\n",
              "    <div class=\"colab-df-container\">\n",
              "      <div>\n",
              "<style scoped>\n",
              "    .dataframe tbody tr th:only-of-type {\n",
              "        vertical-align: middle;\n",
              "    }\n",
              "\n",
              "    .dataframe tbody tr th {\n",
              "        vertical-align: top;\n",
              "    }\n",
              "\n",
              "    .dataframe thead th {\n",
              "        text-align: right;\n",
              "    }\n",
              "</style>\n",
              "<table border=\"1\" class=\"dataframe\">\n",
              "  <thead>\n",
              "    <tr style=\"text-align: right;\">\n",
              "      <th></th>\n",
              "      <th>actor</th>\n",
              "      <th>total_gross</th>\n",
              "      <th>number_of_movies</th>\n",
              "      <th>average_per_movie</th>\n",
              "      <th>no1_movie</th>\n",
              "      <th>gross</th>\n",
              "    </tr>\n",
              "  </thead>\n",
              "  <tbody>\n",
              "    <tr>\n",
              "      <th>0</th>\n",
              "      <td>Robert DeNiro</td>\n",
              "      <td>3081.3</td>\n",
              "      <td>79</td>\n",
              "      <td>39.0</td>\n",
              "      <td>Meet the Fockers</td>\n",
              "      <td>279.3</td>\n",
              "    </tr>\n",
              "    <tr>\n",
              "      <th>1</th>\n",
              "      <td>Samuel L. Jackson</td>\n",
              "      <td>4772.8</td>\n",
              "      <td>69</td>\n",
              "      <td>69.2</td>\n",
              "      <td>The Avengers</td>\n",
              "      <td>623.4</td>\n",
              "    </tr>\n",
              "    <tr>\n",
              "      <th>2</th>\n",
              "      <td>Liam Neeson</td>\n",
              "      <td>2942.7</td>\n",
              "      <td>63</td>\n",
              "      <td>46.7</td>\n",
              "      <td>The Phantom Menace</td>\n",
              "      <td>474.5</td>\n",
              "    </tr>\n",
              "    <tr>\n",
              "      <th>3</th>\n",
              "      <td>Morgan Freeman</td>\n",
              "      <td>4468.3</td>\n",
              "      <td>61</td>\n",
              "      <td>73.3</td>\n",
              "      <td>The Dark Knight</td>\n",
              "      <td>534.9</td>\n",
              "    </tr>\n",
              "  </tbody>\n",
              "</table>\n",
              "</div>\n",
              "      <button class=\"colab-df-convert\" onclick=\"convertToInteractive('df-f33a629f-19a2-4b03-bf02-cdb291d50d22')\"\n",
              "              title=\"Convert this dataframe to an interactive table.\"\n",
              "              style=\"display:none;\">\n",
              "        \n",
              "  <svg xmlns=\"http://www.w3.org/2000/svg\" height=\"24px\"viewBox=\"0 0 24 24\"\n",
              "       width=\"24px\">\n",
              "    <path d=\"M0 0h24v24H0V0z\" fill=\"none\"/>\n",
              "    <path d=\"M18.56 5.44l.94 2.06.94-2.06 2.06-.94-2.06-.94-.94-2.06-.94 2.06-2.06.94zm-11 1L8.5 8.5l.94-2.06 2.06-.94-2.06-.94L8.5 2.5l-.94 2.06-2.06.94zm10 10l.94 2.06.94-2.06 2.06-.94-2.06-.94-.94-2.06-.94 2.06-2.06.94z\"/><path d=\"M17.41 7.96l-1.37-1.37c-.4-.4-.92-.59-1.43-.59-.52 0-1.04.2-1.43.59L10.3 9.45l-7.72 7.72c-.78.78-.78 2.05 0 2.83L4 21.41c.39.39.9.59 1.41.59.51 0 1.02-.2 1.41-.59l7.78-7.78 2.81-2.81c.8-.78.8-2.07 0-2.86zM5.41 20L4 18.59l7.72-7.72 1.47 1.35L5.41 20z\"/>\n",
              "  </svg>\n",
              "      </button>\n",
              "      \n",
              "  <style>\n",
              "    .colab-df-container {\n",
              "      display:flex;\n",
              "      flex-wrap:wrap;\n",
              "      gap: 12px;\n",
              "    }\n",
              "\n",
              "    .colab-df-convert {\n",
              "      background-color: #E8F0FE;\n",
              "      border: none;\n",
              "      border-radius: 50%;\n",
              "      cursor: pointer;\n",
              "      display: none;\n",
              "      fill: #1967D2;\n",
              "      height: 32px;\n",
              "      padding: 0 0 0 0;\n",
              "      width: 32px;\n",
              "    }\n",
              "\n",
              "    .colab-df-convert:hover {\n",
              "      background-color: #E2EBFA;\n",
              "      box-shadow: 0px 1px 2px rgba(60, 64, 67, 0.3), 0px 1px 3px 1px rgba(60, 64, 67, 0.15);\n",
              "      fill: #174EA6;\n",
              "    }\n",
              "\n",
              "    [theme=dark] .colab-df-convert {\n",
              "      background-color: #3B4455;\n",
              "      fill: #D2E3FC;\n",
              "    }\n",
              "\n",
              "    [theme=dark] .colab-df-convert:hover {\n",
              "      background-color: #434B5C;\n",
              "      box-shadow: 0px 1px 3px 1px rgba(0, 0, 0, 0.15);\n",
              "      filter: drop-shadow(0px 1px 2px rgba(0, 0, 0, 0.3));\n",
              "      fill: #FFFFFF;\n",
              "    }\n",
              "  </style>\n",
              "\n",
              "      <script>\n",
              "        const buttonEl =\n",
              "          document.querySelector('#df-f33a629f-19a2-4b03-bf02-cdb291d50d22 button.colab-df-convert');\n",
              "        buttonEl.style.display =\n",
              "          google.colab.kernel.accessAllowed ? 'block' : 'none';\n",
              "\n",
              "        async function convertToInteractive(key) {\n",
              "          const element = document.querySelector('#df-f33a629f-19a2-4b03-bf02-cdb291d50d22');\n",
              "          const dataTable =\n",
              "            await google.colab.kernel.invokeFunction('convertToInteractive',\n",
              "                                                     [key], {});\n",
              "          if (!dataTable) return;\n",
              "\n",
              "          const docLinkHtml = 'Like what you see? Visit the ' +\n",
              "            '<a target=\"_blank\" href=https://colab.research.google.com/notebooks/data_table.ipynb>data table notebook</a>'\n",
              "            + ' to learn more about interactive tables.';\n",
              "          element.innerHTML = '';\n",
              "          dataTable['output_type'] = 'display_data';\n",
              "          await google.colab.output.renderOutput(dataTable, element);\n",
              "          const docLink = document.createElement('div');\n",
              "          docLink.innerHTML = docLinkHtml;\n",
              "          element.appendChild(docLink);\n",
              "        }\n",
              "      </script>\n",
              "    </div>\n",
              "  </div>\n",
              "  "
            ]
          },
          "metadata": {},
          "execution_count": 65
        }
      ],
      "source": [
        "#Get all rows with actors who made more than 60 movies.\n",
        "sql_statement = \"\"\"SELECT *\n",
        "                   FROM actors\n",
        "                   WHERE number_of_movies > 60\n",
        "                   ORDER BY number_of_movies DESC;\"\"\"\n",
        "\n",
        "actors_more_than_60_movies = pd.read_sql_query(sql_statement, conn)\n",
        "actors_more_than_60_movies"
      ]
    },
    {
      "cell_type": "markdown",
      "metadata": {
        "id": "OHNmkwY7Cjnc"
      },
      "source": [
        "Who had the highest number of movies? (Maybe you want to change your query above so that the results are SORTED.)  Write the name of this person below."
      ]
    },
    {
      "cell_type": "markdown",
      "metadata": {
        "id": "nArealnhCjnc"
      },
      "source": [
        "Robert DeNiro"
      ]
    },
    {
      "cell_type": "markdown",
      "metadata": {
        "id": "g24c3luJCjnc"
      },
      "source": [
        "---"
      ]
    },
    {
      "cell_type": "markdown",
      "metadata": {
        "id": "l6fKUv1RCjnc"
      },
      "source": [
        "From the scatter plot, you should have seen that the great actor Robert DeNiro has the highest number of movies and the lowest average receipt per movie. Other fine actors are at points that are not very far away, but DeNiro's is at the extreme right end.\n",
        "\n",
        "To understand the negative association, note that the more movies an actor is in, the more variable those movies might be, in terms of style, genre, and box office draw. For example, an actor might be in some high-grossing action movies or comedies (such as Meet the Fockers), and also in a large number of smaller films that may be excellent but don't draw large crowds. Thus the actor's value of average receipts per movie might be relatively low."
      ]
    },
    {
      "cell_type": "markdown",
      "metadata": {
        "id": "5Altk_BYCjnd"
      },
      "source": [
        "---\n",
        "\n",
        "# **Question 3**\n",
        "\n",
        "To approach this argument from a different direction, let us now take a look at the outlier in your scatter plot from Question 1.  Generate a sql statement that returns exactly one row, the row correspoding to that outlier."
      ]
    },
    {
      "cell_type": "code",
      "execution_count": null,
      "metadata": {
        "jupyter": {
          "outputs_hidden": false
        },
        "id": "eK4s7LY8Cjnd",
        "colab": {
          "base_uri": "https://localhost:8080/",
          "height": 81
        },
        "outputId": "d6de2109-ff7c-4c24-bd4c-86a27b2e5034"
      },
      "outputs": [
        {
          "output_type": "execute_result",
          "data": {
            "text/plain": [
              "             actor  total_gross  number_of_movies  average_per_movie  \\\n",
              "0  Anthony Daniels       3162.9                 7              451.8   \n",
              "\n",
              "                      no1_movie  gross  \n",
              "0  Star Wars: The Force Awakens  936.7  "
            ],
            "text/html": [
              "\n",
              "  <div id=\"df-af27b640-0b7e-4158-a59c-2bf3b8d54fe1\">\n",
              "    <div class=\"colab-df-container\">\n",
              "      <div>\n",
              "<style scoped>\n",
              "    .dataframe tbody tr th:only-of-type {\n",
              "        vertical-align: middle;\n",
              "    }\n",
              "\n",
              "    .dataframe tbody tr th {\n",
              "        vertical-align: top;\n",
              "    }\n",
              "\n",
              "    .dataframe thead th {\n",
              "        text-align: right;\n",
              "    }\n",
              "</style>\n",
              "<table border=\"1\" class=\"dataframe\">\n",
              "  <thead>\n",
              "    <tr style=\"text-align: right;\">\n",
              "      <th></th>\n",
              "      <th>actor</th>\n",
              "      <th>total_gross</th>\n",
              "      <th>number_of_movies</th>\n",
              "      <th>average_per_movie</th>\n",
              "      <th>no1_movie</th>\n",
              "      <th>gross</th>\n",
              "    </tr>\n",
              "  </thead>\n",
              "  <tbody>\n",
              "    <tr>\n",
              "      <th>0</th>\n",
              "      <td>Anthony Daniels</td>\n",
              "      <td>3162.9</td>\n",
              "      <td>7</td>\n",
              "      <td>451.8</td>\n",
              "      <td>Star Wars: The Force Awakens</td>\n",
              "      <td>936.7</td>\n",
              "    </tr>\n",
              "  </tbody>\n",
              "</table>\n",
              "</div>\n",
              "      <button class=\"colab-df-convert\" onclick=\"convertToInteractive('df-af27b640-0b7e-4158-a59c-2bf3b8d54fe1')\"\n",
              "              title=\"Convert this dataframe to an interactive table.\"\n",
              "              style=\"display:none;\">\n",
              "        \n",
              "  <svg xmlns=\"http://www.w3.org/2000/svg\" height=\"24px\"viewBox=\"0 0 24 24\"\n",
              "       width=\"24px\">\n",
              "    <path d=\"M0 0h24v24H0V0z\" fill=\"none\"/>\n",
              "    <path d=\"M18.56 5.44l.94 2.06.94-2.06 2.06-.94-2.06-.94-.94-2.06-.94 2.06-2.06.94zm-11 1L8.5 8.5l.94-2.06 2.06-.94-2.06-.94L8.5 2.5l-.94 2.06-2.06.94zm10 10l.94 2.06.94-2.06 2.06-.94-2.06-.94-.94-2.06-.94 2.06-2.06.94z\"/><path d=\"M17.41 7.96l-1.37-1.37c-.4-.4-.92-.59-1.43-.59-.52 0-1.04.2-1.43.59L10.3 9.45l-7.72 7.72c-.78.78-.78 2.05 0 2.83L4 21.41c.39.39.9.59 1.41.59.51 0 1.02-.2 1.41-.59l7.78-7.78 2.81-2.81c.8-.78.8-2.07 0-2.86zM5.41 20L4 18.59l7.72-7.72 1.47 1.35L5.41 20z\"/>\n",
              "  </svg>\n",
              "      </button>\n",
              "      \n",
              "  <style>\n",
              "    .colab-df-container {\n",
              "      display:flex;\n",
              "      flex-wrap:wrap;\n",
              "      gap: 12px;\n",
              "    }\n",
              "\n",
              "    .colab-df-convert {\n",
              "      background-color: #E8F0FE;\n",
              "      border: none;\n",
              "      border-radius: 50%;\n",
              "      cursor: pointer;\n",
              "      display: none;\n",
              "      fill: #1967D2;\n",
              "      height: 32px;\n",
              "      padding: 0 0 0 0;\n",
              "      width: 32px;\n",
              "    }\n",
              "\n",
              "    .colab-df-convert:hover {\n",
              "      background-color: #E2EBFA;\n",
              "      box-shadow: 0px 1px 2px rgba(60, 64, 67, 0.3), 0px 1px 3px 1px rgba(60, 64, 67, 0.15);\n",
              "      fill: #174EA6;\n",
              "    }\n",
              "\n",
              "    [theme=dark] .colab-df-convert {\n",
              "      background-color: #3B4455;\n",
              "      fill: #D2E3FC;\n",
              "    }\n",
              "\n",
              "    [theme=dark] .colab-df-convert:hover {\n",
              "      background-color: #434B5C;\n",
              "      box-shadow: 0px 1px 3px 1px rgba(0, 0, 0, 0.15);\n",
              "      filter: drop-shadow(0px 1px 2px rgba(0, 0, 0, 0.3));\n",
              "      fill: #FFFFFF;\n",
              "    }\n",
              "  </style>\n",
              "\n",
              "      <script>\n",
              "        const buttonEl =\n",
              "          document.querySelector('#df-af27b640-0b7e-4158-a59c-2bf3b8d54fe1 button.colab-df-convert');\n",
              "        buttonEl.style.display =\n",
              "          google.colab.kernel.accessAllowed ? 'block' : 'none';\n",
              "\n",
              "        async function convertToInteractive(key) {\n",
              "          const element = document.querySelector('#df-af27b640-0b7e-4158-a59c-2bf3b8d54fe1');\n",
              "          const dataTable =\n",
              "            await google.colab.kernel.invokeFunction('convertToInteractive',\n",
              "                                                     [key], {});\n",
              "          if (!dataTable) return;\n",
              "\n",
              "          const docLinkHtml = 'Like what you see? Visit the ' +\n",
              "            '<a target=\"_blank\" href=https://colab.research.google.com/notebooks/data_table.ipynb>data table notebook</a>'\n",
              "            + ' to learn more about interactive tables.';\n",
              "          element.innerHTML = '';\n",
              "          dataTable['output_type'] = 'display_data';\n",
              "          await google.colab.output.renderOutput(dataTable, element);\n",
              "          const docLink = document.createElement('div');\n",
              "          docLink.innerHTML = docLinkHtml;\n",
              "          element.appendChild(docLink);\n",
              "        }\n",
              "      </script>\n",
              "    </div>\n",
              "  </div>\n",
              "  "
            ]
          },
          "metadata": {},
          "execution_count": 66
        }
      ],
      "source": [
        "#Find the outlier's information!\n",
        "sql_statement = \"\"\"SELECT *\n",
        "                   FROM actors\n",
        "                   WHERE number_of_movies < 10\n",
        "                   LIMIT 1\"\"\"\n",
        "\n",
        "actors_less_than_10_movies = pd.read_sql_query(sql_statement, conn)\n",
        "actors_less_than_10_movies"
      ]
    },
    {
      "cell_type": "markdown",
      "metadata": {
        "id": "1hQkm2vzCjnd"
      },
      "source": [
        "Who had the highest average per movie? Write your answer below."
      ]
    },
    {
      "cell_type": "markdown",
      "metadata": {
        "id": "lrIGl3kBCjnd"
      },
      "source": [
        "Anthony Daniels had the highest average per movie, with an average of 451.8."
      ]
    },
    {
      "cell_type": "markdown",
      "metadata": {
        "id": "xovtHqSyCjnd"
      },
      "source": [
        "# **- - - - - - - - - - - - - - - - - - - - - - - - - - -**"
      ]
    },
    {
      "cell_type": "markdown",
      "metadata": {
        "id": "6JI0yJH_Cjnd"
      },
      "source": [
        "Your answer should have been Anthony Daniels.  Anthony Daniels might not have the stature of Robert DeNiro, but his 7 movies had an astonishingly high average receipt of nearly $452$ million dollars per movie.\n",
        "\n",
        "What were these movies? You might know about the droid C-3PO in Star Wars:\n",
        "\n",
        "![C-3PO](https://raw.githubusercontent.com/kathleen-ryan-DeSales/CS250/main/pictures/C-3PO_droid.png)\n",
        "\n",
        "That's [Anthony Daniels](https://en.wikipedia.org/wiki/Anthony_Daniels) inside the metallic suit. He plays C-3PO.\n",
        "\n",
        "Mr. Daniels' entire filmography (apart from cameos) consists of movies in the high-grossing Star Wars franchise. That explains both his high average receipt and his low number of movies.\n",
        "\n",
        "Variables such as genre and production budget have an effect on the association between the number of movies and the average receipt per movie. This example is a reminder that studying the association between two variables often involves understanding other related variables as well."
      ]
    },
    {
      "cell_type": "markdown",
      "metadata": {
        "id": "MyS94QIfCjnd"
      },
      "source": [
        "---"
      ]
    },
    {
      "cell_type": "markdown",
      "metadata": {
        "id": "osodq-QUCjnd"
      },
      "source": [
        "Let's close the actors database connection as we are moving on to another  data set."
      ]
    },
    {
      "cell_type": "code",
      "execution_count": null,
      "metadata": {
        "id": "TXBgyep6Cjnd"
      },
      "outputs": [],
      "source": [
        "conn.close()"
      ]
    },
    {
      "cell_type": "markdown",
      "metadata": {
        "id": "piZSeIWeCjnd"
      },
      "source": [
        "---"
      ]
    },
    {
      "cell_type": "markdown",
      "metadata": {
        "id": "a5LNH35xCjne"
      },
      "source": [
        "###  Time to stop the games...\n",
        "\n",
        "Recall the GameStop example from last lab.  Let's read in the data again."
      ]
    },
    {
      "cell_type": "code",
      "execution_count": null,
      "metadata": {
        "id": "qCAeXswiCjne"
      },
      "outputs": [],
      "source": [
        "try:\n",
        "    #Read in the needed csvs and create the DB\n",
        "    conn = sql.connect('game_stop.db')\n",
        "except:\n",
        "    print(\"Issue during DB creation/connection\")"
      ]
    },
    {
      "cell_type": "code",
      "execution_count": null,
      "metadata": {
        "id": "sImKUrmSCjne",
        "colab": {
          "base_uri": "https://localhost:8080/",
          "height": 424
        },
        "outputId": "621f5433-e4ee-4038-ee4f-7d158105b62c"
      },
      "outputs": [
        {
          "output_type": "execute_result",
          "data": {
            "text/plain": [
              "      id        date        open        high         low       close  \\\n",
              "0      1  2020-09-29   10.000000   10.650000    9.930000   10.350000   \n",
              "1      2  2020-09-30   10.250000   10.760000   10.060000   10.200000   \n",
              "2      3  2020-10-01   10.090000   10.250000    9.690000    9.770000   \n",
              "3      4  2020-10-02    9.380000    9.780000    9.300000    9.390000   \n",
              "4      5  2020-10-05    9.440000    9.590000    9.250000    9.460000   \n",
              "..   ...         ...         ...         ...         ...         ...   \n",
              "248  249  2021-09-23  192.330002  195.750000  190.600006  191.240005   \n",
              "249  250  2021-09-24  191.000000  191.720001  184.110001  185.160004   \n",
              "250  251  2021-09-27  185.919998  192.050003  185.869995  189.479996   \n",
              "251  252  2021-09-28  188.000000  190.809998  178.000000  178.600006   \n",
              "252  253  2021-09-29  180.089996  184.479996  174.610001  175.919998   \n",
              "\n",
              "      adj_close     volume  \n",
              "0     10.350000  5237600.0  \n",
              "1     10.200000  6079000.0  \n",
              "2      9.770000  4554100.0  \n",
              "3      9.390000  4340500.0  \n",
              "4      9.460000  2805000.0  \n",
              "..          ...        ...  \n",
              "248  191.240005  1682300.0  \n",
              "249  185.160004  1679900.0  \n",
              "250  189.479996  1470100.0  \n",
              "251  178.600006  1770500.0  \n",
              "252  175.919998  1875468.0  \n",
              "\n",
              "[253 rows x 8 columns]"
            ],
            "text/html": [
              "\n",
              "  <div id=\"df-85d9ea80-37af-4cfa-8c32-e5c8bc338b88\">\n",
              "    <div class=\"colab-df-container\">\n",
              "      <div>\n",
              "<style scoped>\n",
              "    .dataframe tbody tr th:only-of-type {\n",
              "        vertical-align: middle;\n",
              "    }\n",
              "\n",
              "    .dataframe tbody tr th {\n",
              "        vertical-align: top;\n",
              "    }\n",
              "\n",
              "    .dataframe thead th {\n",
              "        text-align: right;\n",
              "    }\n",
              "</style>\n",
              "<table border=\"1\" class=\"dataframe\">\n",
              "  <thead>\n",
              "    <tr style=\"text-align: right;\">\n",
              "      <th></th>\n",
              "      <th>id</th>\n",
              "      <th>date</th>\n",
              "      <th>open</th>\n",
              "      <th>high</th>\n",
              "      <th>low</th>\n",
              "      <th>close</th>\n",
              "      <th>adj_close</th>\n",
              "      <th>volume</th>\n",
              "    </tr>\n",
              "  </thead>\n",
              "  <tbody>\n",
              "    <tr>\n",
              "      <th>0</th>\n",
              "      <td>1</td>\n",
              "      <td>2020-09-29</td>\n",
              "      <td>10.000000</td>\n",
              "      <td>10.650000</td>\n",
              "      <td>9.930000</td>\n",
              "      <td>10.350000</td>\n",
              "      <td>10.350000</td>\n",
              "      <td>5237600.0</td>\n",
              "    </tr>\n",
              "    <tr>\n",
              "      <th>1</th>\n",
              "      <td>2</td>\n",
              "      <td>2020-09-30</td>\n",
              "      <td>10.250000</td>\n",
              "      <td>10.760000</td>\n",
              "      <td>10.060000</td>\n",
              "      <td>10.200000</td>\n",
              "      <td>10.200000</td>\n",
              "      <td>6079000.0</td>\n",
              "    </tr>\n",
              "    <tr>\n",
              "      <th>2</th>\n",
              "      <td>3</td>\n",
              "      <td>2020-10-01</td>\n",
              "      <td>10.090000</td>\n",
              "      <td>10.250000</td>\n",
              "      <td>9.690000</td>\n",
              "      <td>9.770000</td>\n",
              "      <td>9.770000</td>\n",
              "      <td>4554100.0</td>\n",
              "    </tr>\n",
              "    <tr>\n",
              "      <th>3</th>\n",
              "      <td>4</td>\n",
              "      <td>2020-10-02</td>\n",
              "      <td>9.380000</td>\n",
              "      <td>9.780000</td>\n",
              "      <td>9.300000</td>\n",
              "      <td>9.390000</td>\n",
              "      <td>9.390000</td>\n",
              "      <td>4340500.0</td>\n",
              "    </tr>\n",
              "    <tr>\n",
              "      <th>4</th>\n",
              "      <td>5</td>\n",
              "      <td>2020-10-05</td>\n",
              "      <td>9.440000</td>\n",
              "      <td>9.590000</td>\n",
              "      <td>9.250000</td>\n",
              "      <td>9.460000</td>\n",
              "      <td>9.460000</td>\n",
              "      <td>2805000.0</td>\n",
              "    </tr>\n",
              "    <tr>\n",
              "      <th>...</th>\n",
              "      <td>...</td>\n",
              "      <td>...</td>\n",
              "      <td>...</td>\n",
              "      <td>...</td>\n",
              "      <td>...</td>\n",
              "      <td>...</td>\n",
              "      <td>...</td>\n",
              "      <td>...</td>\n",
              "    </tr>\n",
              "    <tr>\n",
              "      <th>248</th>\n",
              "      <td>249</td>\n",
              "      <td>2021-09-23</td>\n",
              "      <td>192.330002</td>\n",
              "      <td>195.750000</td>\n",
              "      <td>190.600006</td>\n",
              "      <td>191.240005</td>\n",
              "      <td>191.240005</td>\n",
              "      <td>1682300.0</td>\n",
              "    </tr>\n",
              "    <tr>\n",
              "      <th>249</th>\n",
              "      <td>250</td>\n",
              "      <td>2021-09-24</td>\n",
              "      <td>191.000000</td>\n",
              "      <td>191.720001</td>\n",
              "      <td>184.110001</td>\n",
              "      <td>185.160004</td>\n",
              "      <td>185.160004</td>\n",
              "      <td>1679900.0</td>\n",
              "    </tr>\n",
              "    <tr>\n",
              "      <th>250</th>\n",
              "      <td>251</td>\n",
              "      <td>2021-09-27</td>\n",
              "      <td>185.919998</td>\n",
              "      <td>192.050003</td>\n",
              "      <td>185.869995</td>\n",
              "      <td>189.479996</td>\n",
              "      <td>189.479996</td>\n",
              "      <td>1470100.0</td>\n",
              "    </tr>\n",
              "    <tr>\n",
              "      <th>251</th>\n",
              "      <td>252</td>\n",
              "      <td>2021-09-28</td>\n",
              "      <td>188.000000</td>\n",
              "      <td>190.809998</td>\n",
              "      <td>178.000000</td>\n",
              "      <td>178.600006</td>\n",
              "      <td>178.600006</td>\n",
              "      <td>1770500.0</td>\n",
              "    </tr>\n",
              "    <tr>\n",
              "      <th>252</th>\n",
              "      <td>253</td>\n",
              "      <td>2021-09-29</td>\n",
              "      <td>180.089996</td>\n",
              "      <td>184.479996</td>\n",
              "      <td>174.610001</td>\n",
              "      <td>175.919998</td>\n",
              "      <td>175.919998</td>\n",
              "      <td>1875468.0</td>\n",
              "    </tr>\n",
              "  </tbody>\n",
              "</table>\n",
              "<p>253 rows × 8 columns</p>\n",
              "</div>\n",
              "      <button class=\"colab-df-convert\" onclick=\"convertToInteractive('df-85d9ea80-37af-4cfa-8c32-e5c8bc338b88')\"\n",
              "              title=\"Convert this dataframe to an interactive table.\"\n",
              "              style=\"display:none;\">\n",
              "        \n",
              "  <svg xmlns=\"http://www.w3.org/2000/svg\" height=\"24px\"viewBox=\"0 0 24 24\"\n",
              "       width=\"24px\">\n",
              "    <path d=\"M0 0h24v24H0V0z\" fill=\"none\"/>\n",
              "    <path d=\"M18.56 5.44l.94 2.06.94-2.06 2.06-.94-2.06-.94-.94-2.06-.94 2.06-2.06.94zm-11 1L8.5 8.5l.94-2.06 2.06-.94-2.06-.94L8.5 2.5l-.94 2.06-2.06.94zm10 10l.94 2.06.94-2.06 2.06-.94-2.06-.94-.94-2.06-.94 2.06-2.06.94z\"/><path d=\"M17.41 7.96l-1.37-1.37c-.4-.4-.92-.59-1.43-.59-.52 0-1.04.2-1.43.59L10.3 9.45l-7.72 7.72c-.78.78-.78 2.05 0 2.83L4 21.41c.39.39.9.59 1.41.59.51 0 1.02-.2 1.41-.59l7.78-7.78 2.81-2.81c.8-.78.8-2.07 0-2.86zM5.41 20L4 18.59l7.72-7.72 1.47 1.35L5.41 20z\"/>\n",
              "  </svg>\n",
              "      </button>\n",
              "      \n",
              "  <style>\n",
              "    .colab-df-container {\n",
              "      display:flex;\n",
              "      flex-wrap:wrap;\n",
              "      gap: 12px;\n",
              "    }\n",
              "\n",
              "    .colab-df-convert {\n",
              "      background-color: #E8F0FE;\n",
              "      border: none;\n",
              "      border-radius: 50%;\n",
              "      cursor: pointer;\n",
              "      display: none;\n",
              "      fill: #1967D2;\n",
              "      height: 32px;\n",
              "      padding: 0 0 0 0;\n",
              "      width: 32px;\n",
              "    }\n",
              "\n",
              "    .colab-df-convert:hover {\n",
              "      background-color: #E2EBFA;\n",
              "      box-shadow: 0px 1px 2px rgba(60, 64, 67, 0.3), 0px 1px 3px 1px rgba(60, 64, 67, 0.15);\n",
              "      fill: #174EA6;\n",
              "    }\n",
              "\n",
              "    [theme=dark] .colab-df-convert {\n",
              "      background-color: #3B4455;\n",
              "      fill: #D2E3FC;\n",
              "    }\n",
              "\n",
              "    [theme=dark] .colab-df-convert:hover {\n",
              "      background-color: #434B5C;\n",
              "      box-shadow: 0px 1px 3px 1px rgba(0, 0, 0, 0.15);\n",
              "      filter: drop-shadow(0px 1px 2px rgba(0, 0, 0, 0.3));\n",
              "      fill: #FFFFFF;\n",
              "    }\n",
              "  </style>\n",
              "\n",
              "      <script>\n",
              "        const buttonEl =\n",
              "          document.querySelector('#df-85d9ea80-37af-4cfa-8c32-e5c8bc338b88 button.colab-df-convert');\n",
              "        buttonEl.style.display =\n",
              "          google.colab.kernel.accessAllowed ? 'block' : 'none';\n",
              "\n",
              "        async function convertToInteractive(key) {\n",
              "          const element = document.querySelector('#df-85d9ea80-37af-4cfa-8c32-e5c8bc338b88');\n",
              "          const dataTable =\n",
              "            await google.colab.kernel.invokeFunction('convertToInteractive',\n",
              "                                                     [key], {});\n",
              "          if (!dataTable) return;\n",
              "\n",
              "          const docLinkHtml = 'Like what you see? Visit the ' +\n",
              "            '<a target=\"_blank\" href=https://colab.research.google.com/notebooks/data_table.ipynb>data table notebook</a>'\n",
              "            + ' to learn more about interactive tables.';\n",
              "          element.innerHTML = '';\n",
              "          dataTable['output_type'] = 'display_data';\n",
              "          await google.colab.output.renderOutput(dataTable, element);\n",
              "          const docLink = document.createElement('div');\n",
              "          docLink.innerHTML = docLinkHtml;\n",
              "          element.appendChild(docLink);\n",
              "        }\n",
              "      </script>\n",
              "    </div>\n",
              "  </div>\n",
              "  "
            ]
          },
          "metadata": {},
          "execution_count": 69
        }
      ],
      "source": [
        "sql_statement = \"\"\"SELECT * FROM game_stop \"\"\"\n",
        "\n",
        "game_stop = pd.read_sql_query(sql_statement, conn)  #Call the results game_stop\n",
        "game_stop"
      ]
    },
    {
      "cell_type": "markdown",
      "metadata": {
        "id": "mBX1CXaiCjne"
      },
      "source": [
        "---\n",
        "\n",
        "# **Question 4**\n",
        "\n",
        "A) Create a scatter plot for the Closing Values vs. Opening Values of each day in our data set.  \n",
        "\n",
        "Be sure, as always, to ive a tile and label your x axis and y axis."
      ]
    },
    {
      "cell_type": "code",
      "execution_count": null,
      "metadata": {
        "id": "dqdNDyJQCjne",
        "colab": {
          "base_uri": "https://localhost:8080/",
          "height": 325
        },
        "outputId": "dd1ebf33-d0d9-4a82-9f5c-ceb483a259dc"
      },
      "outputs": [
        {
          "output_type": "display_data",
          "data": {
            "text/plain": [
              "<Figure size 432x288 with 1 Axes>"
            ],
            "image/png": "[encoded data removed]"
          },
          "metadata": {}
        }
      ],
      "source": [
        "plt.scatter(game_stop[\"close\"], game_stop[\"open\"])\n",
        "plt.title(\"Closing Values vs. Opening Values\")\n",
        "plt.xlabel(\"Closing Value\")\n",
        "plt.ylabel(\"Opening Value\");"
      ]
    },
    {
      "cell_type": "markdown",
      "metadata": {
        "id": "_OJaj4YgCjne"
      },
      "source": [
        "B) Now without hardcoding. find the correlation coefficient of the closing versus opening prices."
      ]
    },
    {
      "cell_type": "code",
      "execution_count": null,
      "metadata": {
        "id": "VDCPWR5UCjne",
        "colab": {
          "base_uri": "https://localhost:8080/"
        },
        "outputId": "a8ddd332-5cf1-421c-d02f-a02995a69bb2"
      },
      "outputs": [
        {
          "output_type": "execute_result",
          "data": {
            "text/plain": [
              "0.9842078904745033"
            ]
          },
          "metadata": {},
          "execution_count": 71
        }
      ],
      "source": [
        "#may need code here\n",
        "\n",
        "corr_close_vs_open = game_stop.corr()[\"close\"][\"open\"]\n",
        "corr_close_vs_open"
      ]
    },
    {
      "cell_type": "markdown",
      "metadata": {
        "id": "Z8EKBWAqCjne"
      },
      "source": [
        "C)  The scatter plot and correlation coefficient suggest a very strong correlation.  Why does that make sense, given the context of this data?"
      ]
    },
    {
      "cell_type": "markdown",
      "metadata": {
        "id": "TaTSe1-oCjne"
      },
      "source": [
        "This makes sense for this data as it is for stock data on game stop. Typically, for stock prices, if the opening price for a company's stock is high, the closing price will follow that same trend, often increasing slightly during the day. With strong performing companies, we expect that they will have positve stock performance, resulting in this positive relationship. In addition, during the time frame the data is from, there was a rally amongst individual investors buying Game Stop stock, which resulted in the stock price being driven higher and higher each day. Demand each day for the Game Stop stock was consistently high, resulting in the price of the stock increasing rather than decreasing, despite the companies poor performance financially for years."
      ]
    },
    {
      "cell_type": "markdown",
      "metadata": {
        "id": "djVmBLnxCjnf"
      },
      "source": [
        "---\n",
        "\n",
        "### Using scatter plots to plot special points."
      ]
    },
    {
      "cell_type": "markdown",
      "metadata": {
        "id": "ig2EZzk_Cjnf"
      },
      "source": [
        "Scatter plots draw dots.  This means we can use the ``plt.scatter`` function to draw dots on other graphs.\n",
        "\n",
        "So we'll use ``plt.scatter(x, y, color = \"red\")`` to highlight points on other graphs.  In specific, this code would draw an orange dot at the point $(x,y)$.  Let's get practice with this now by putting a red dot on a line graph.\n",
        "\n",
        "To get us started, recall our line graph of the GameStop data. Run the cell below. Notice how ugly it is."
      ]
    },
    {
      "cell_type": "code",
      "execution_count": null,
      "metadata": {
        "id": "tNFzM1cPCjnf",
        "colab": {
          "base_uri": "https://localhost:8080/",
          "height": 378
        },
        "outputId": "5eaf4520-03de-4ab8-a5b9-e462ef15ffb4"
      },
      "outputs": [
        {
          "output_type": "display_data",
          "data": {
            "text/plain": [
              "<Figure size 432x288 with 1 Axes>"
            ],
            "image/png": "[encoded data removed]"
          },
          "metadata": {}
        }
      ],
      "source": [
        "plt.plot(game_stop[\"date\"], game_stop['close'])\n",
        "plt.title('Number of Movies Created 2000-2020')\n",
        "plt.xlabel(\"Date\")\n",
        "plt.ylabel(\"Closing Price\")\n",
        "plt.title(\"Game Stop Closing Prices\")\n",
        "plt.xticks(rotation=45);"
      ]
    },
    {
      "cell_type": "markdown",
      "metadata": {
        "id": "I1pC25D0Cjnf"
      },
      "source": [
        "Essentially, python is trying to label every single x tick, so we're going to change the frequency of the x ticks so that one tick every 30 days (so about once a month) is shown.\n",
        "\n",
        "We discussed how to create ranges in class.\n",
        "\n",
        "Recall that ``np.arange(0, 210, 30)`` will generate the list 0, 30, 60, 90, 120, 150, 180.  The value 210 is not included because the second number is the \"almost end\", ie, we never reach it.  \n",
        "\n",
        "We will generate a list starting at 0, ending at, and skipping by 30 by using this line.  Add it where indicated below.\n",
        "\n",
        "* ```np.arange(0, len(game_stop), 30)  #The len of the game_stop table is always 1 past the last row index.```\n",
        "\n",
        "    \n",
        "    "
      ]
    },
    {
      "cell_type": "code",
      "execution_count": null,
      "metadata": {
        "id": "3V_I4ewmCjnf",
        "colab": {
          "base_uri": "https://localhost:8080/",
          "height": 378
        },
        "outputId": "6504685a-47ec-4f03-e007-b5bd76323a65"
      },
      "outputs": [
        {
          "output_type": "display_data",
          "data": {
            "text/plain": [
              "<Figure size 432x288 with 1 Axes>"
            ],
            "image/png": "[encoded data removed]"
          },
          "metadata": {}
        }
      ],
      "source": [
        "plt.plot(game_stop[\"date\"], game_stop['close'])\n",
        "plt.title('Number of Movies Created 2000-2020')\n",
        "plt.xlabel(\"Date\")\n",
        "plt.ylabel(\"Closing Price\")\n",
        "plt.title(\"Game Stop Closing Prices\")\n",
        "plt.xticks(np.arange(0, len(game_stop), 30), rotation=45);"
      ]
    },
    {
      "cell_type": "markdown",
      "metadata": {
        "id": "FdixU7KrCjnf"
      },
      "source": [
        "How pretty! Don't you agree?  Okay, let's plot a red point on this graph and make it even better."
      ]
    },
    {
      "cell_type": "markdown",
      "metadata": {
        "id": "QCZ05j87Cjnf"
      },
      "source": [
        "---\n",
        "\n",
        "# **Question 7**\n",
        "\n",
        "We'll label the date of the highest closing price of the GameStop stock with a red dot on our line graph.\n",
        "\n",
        "\n",
        "A) Write a SQL Query to retrieve exactly one row - The row that corresponds to the peak/highest closing price.     "
      ]
    },
    {
      "cell_type": "code",
      "execution_count": null,
      "metadata": {
        "id": "Xykgf-6jCjnf",
        "colab": {
          "base_uri": "https://localhost:8080/",
          "height": 81
        },
        "outputId": "4f3bbd0a-39c3-4636-87c5-461f75d046e5"
      },
      "outputs": [
        {
          "output_type": "execute_result",
          "data": {
            "text/plain": [
              "   id        date        open   high    low      close  adj_close      volume\n",
              "0  83  2021-01-27  354.829987  380.0  249.0  347.51001  347.51001  93396700.0"
            ],
            "text/html": [
              "\n",
              "  <div id=\"df-32fd66fa-c4d3-4b81-84ba-337a7d2bda9d\">\n",
              "    <div class=\"colab-df-container\">\n",
              "      <div>\n",
              "<style scoped>\n",
              "    .dataframe tbody tr th:only-of-type {\n",
              "        vertical-align: middle;\n",
              "    }\n",
              "\n",
              "    .dataframe tbody tr th {\n",
              "        vertical-align: top;\n",
              "    }\n",
              "\n",
              "    .dataframe thead th {\n",
              "        text-align: right;\n",
              "    }\n",
              "</style>\n",
              "<table border=\"1\" class=\"dataframe\">\n",
              "  <thead>\n",
              "    <tr style=\"text-align: right;\">\n",
              "      <th></th>\n",
              "      <th>id</th>\n",
              "      <th>date</th>\n",
              "      <th>open</th>\n",
              "      <th>high</th>\n",
              "      <th>low</th>\n",
              "      <th>close</th>\n",
              "      <th>adj_close</th>\n",
              "      <th>volume</th>\n",
              "    </tr>\n",
              "  </thead>\n",
              "  <tbody>\n",
              "    <tr>\n",
              "      <th>0</th>\n",
              "      <td>83</td>\n",
              "      <td>2021-01-27</td>\n",
              "      <td>354.829987</td>\n",
              "      <td>380.0</td>\n",
              "      <td>249.0</td>\n",
              "      <td>347.51001</td>\n",
              "      <td>347.51001</td>\n",
              "      <td>93396700.0</td>\n",
              "    </tr>\n",
              "  </tbody>\n",
              "</table>\n",
              "</div>\n",
              "      <button class=\"colab-df-convert\" onclick=\"convertToInteractive('df-32fd66fa-c4d3-4b81-84ba-337a7d2bda9d')\"\n",
              "              title=\"Convert this dataframe to an interactive table.\"\n",
              "              style=\"display:none;\">\n",
              "        \n",
              "  <svg xmlns=\"http://www.w3.org/2000/svg\" height=\"24px\"viewBox=\"0 0 24 24\"\n",
              "       width=\"24px\">\n",
              "    <path d=\"M0 0h24v24H0V0z\" fill=\"none\"/>\n",
              "    <path d=\"M18.56 5.44l.94 2.06.94-2.06 2.06-.94-2.06-.94-.94-2.06-.94 2.06-2.06.94zm-11 1L8.5 8.5l.94-2.06 2.06-.94-2.06-.94L8.5 2.5l-.94 2.06-2.06.94zm10 10l.94 2.06.94-2.06 2.06-.94-2.06-.94-.94-2.06-.94 2.06-2.06.94z\"/><path d=\"M17.41 7.96l-1.37-1.37c-.4-.4-.92-.59-1.43-.59-.52 0-1.04.2-1.43.59L10.3 9.45l-7.72 7.72c-.78.78-.78 2.05 0 2.83L4 21.41c.39.39.9.59 1.41.59.51 0 1.02-.2 1.41-.59l7.78-7.78 2.81-2.81c.8-.78.8-2.07 0-2.86zM5.41 20L4 18.59l7.72-7.72 1.47 1.35L5.41 20z\"/>\n",
              "  </svg>\n",
              "      </button>\n",
              "      \n",
              "  <style>\n",
              "    .colab-df-container {\n",
              "      display:flex;\n",
              "      flex-wrap:wrap;\n",
              "      gap: 12px;\n",
              "    }\n",
              "\n",
              "    .colab-df-convert {\n",
              "      background-color: #E8F0FE;\n",
              "      border: none;\n",
              "      border-radius: 50%;\n",
              "      cursor: pointer;\n",
              "      display: none;\n",
              "      fill: #1967D2;\n",
              "      height: 32px;\n",
              "      padding: 0 0 0 0;\n",
              "      width: 32px;\n",
              "    }\n",
              "\n",
              "    .colab-df-convert:hover {\n",
              "      background-color: #E2EBFA;\n",
              "      box-shadow: 0px 1px 2px rgba(60, 64, 67, 0.3), 0px 1px 3px 1px rgba(60, 64, 67, 0.15);\n",
              "      fill: #174EA6;\n",
              "    }\n",
              "\n",
              "    [theme=dark] .colab-df-convert {\n",
              "      background-color: #3B4455;\n",
              "      fill: #D2E3FC;\n",
              "    }\n",
              "\n",
              "    [theme=dark] .colab-df-convert:hover {\n",
              "      background-color: #434B5C;\n",
              "      box-shadow: 0px 1px 3px 1px rgba(0, 0, 0, 0.15);\n",
              "      filter: drop-shadow(0px 1px 2px rgba(0, 0, 0, 0.3));\n",
              "      fill: #FFFFFF;\n",
              "    }\n",
              "  </style>\n",
              "\n",
              "      <script>\n",
              "        const buttonEl =\n",
              "          document.querySelector('#df-32fd66fa-c4d3-4b81-84ba-337a7d2bda9d button.colab-df-convert');\n",
              "        buttonEl.style.display =\n",
              "          google.colab.kernel.accessAllowed ? 'block' : 'none';\n",
              "\n",
              "        async function convertToInteractive(key) {\n",
              "          const element = document.querySelector('#df-32fd66fa-c4d3-4b81-84ba-337a7d2bda9d');\n",
              "          const dataTable =\n",
              "            await google.colab.kernel.invokeFunction('convertToInteractive',\n",
              "                                                     [key], {});\n",
              "          if (!dataTable) return;\n",
              "\n",
              "          const docLinkHtml = 'Like what you see? Visit the ' +\n",
              "            '<a target=\"_blank\" href=https://colab.research.google.com/notebooks/data_table.ipynb>data table notebook</a>'\n",
              "            + ' to learn more about interactive tables.';\n",
              "          element.innerHTML = '';\n",
              "          dataTable['output_type'] = 'display_data';\n",
              "          await google.colab.output.renderOutput(dataTable, element);\n",
              "          const docLink = document.createElement('div');\n",
              "          docLink.innerHTML = docLinkHtml;\n",
              "          element.appendChild(docLink);\n",
              "        }\n",
              "      </script>\n",
              "    </div>\n",
              "  </div>\n",
              "  "
            ]
          },
          "metadata": {},
          "execution_count": 74
        }
      ],
      "source": [
        "sql_statement = \"\"\"SELECT *\n",
        "                   FROM game_stop\n",
        "                   ORDER BY close DESC\n",
        "                   LIMIT 1;\"\"\"\n",
        "\n",
        "game_stop_peak = pd.read_sql_query(sql_statement, conn)  #Call the results game_stop\n",
        "game_stop_peak"
      ]
    },
    {
      "cell_type": "markdown",
      "metadata": {
        "id": "1hHfajdjCjnf"
      },
      "source": [
        "B) Now use Python and the double bracket notation to set the peak date/closing price variables below."
      ]
    },
    {
      "cell_type": "code",
      "execution_count": null,
      "metadata": {
        "id": "2wOcIG34Cjnf",
        "colab": {
          "base_uri": "https://localhost:8080/"
        },
        "outputId": "f49deee3-c76c-4db3-d774-59e82bc75a9d"
      },
      "outputs": [
        {
          "output_type": "execute_result",
          "data": {
            "text/plain": [
              "(0    2021-01-27\n",
              " Name: date, dtype: object, 0    347.51001\n",
              " Name: close, dtype: float64)"
            ]
          },
          "metadata": {},
          "execution_count": 75
        }
      ],
      "source": [
        "peak_date = game_stop_peak[\"date\"][0]\n",
        "peak_closing_price = game_stop_peak[\"close\"][0]\n",
        "peak_date, peak_closing_price"
      ]
    },
    {
      "cell_type": "markdown",
      "metadata": {
        "id": "jVpR3Mj_Cjng"
      },
      "source": [
        "C) Now we will plot a red dot for the peak closing price.!\n",
        "\n",
        "Use the ``peak_date``, ``peak_closing_price`` variables within the ``plt.scatter(..., ..., color = \"red\")`` function to plot a red point for this peak.\n",
        "\n",
        "Likely, your red dot will appear BEHIND the blue curve, so use the ``zorder`` parameter to correct this.  This parameter defines the order of which graphs should be drawn first:\n",
        "\n",
        "* add a parameter ``zorder=1`` to the ``plt.plot(...)`` line of code\n",
        "* and a parameter ``zorder=2`` to the ``plt.scatter(...)`` line of code\n",
        "\n",
        "Thus, the red dot is drawn 2nd and thus appears on top of the blue line graph."
      ]
    },
    {
      "cell_type": "code",
      "execution_count": null,
      "metadata": {
        "id": "zHclxz6hCjng",
        "colab": {
          "base_uri": "https://localhost:8080/",
          "height": 378
        },
        "outputId": "fdad5452-302b-4ce8-847e-2897690a7752"
      },
      "outputs": [
        {
          "output_type": "display_data",
          "data": {
            "text/plain": [
              "<Figure size 432x288 with 1 Axes>"
            ],
            "image/png": "[encoded data removed]"
          },
          "metadata": {}
        }
      ],
      "source": [
        "\n",
        "#The code to create the line graph\n",
        "plt.plot(game_stop[\"date\"], game_stop['close'], zorder = 1)\n",
        "\n",
        "#Add code to plot the peak date/closing price here\n",
        "plt.scatter(peak_date,peak_closing_price, color = \"red\", zorder=2)\n",
        "\n",
        "plt.xlabel(\"Date\")\n",
        "plt.ylabel(\"Closing Price\")\n",
        "plt.title(\"Game Stop Closing Prices\")\n",
        "plt.xticks(np.arange(0, len(game_stop), 30))  #To change the frequency of the tick marks\n",
        "plt.xticks(rotation=45);"
      ]
    },
    {
      "cell_type": "markdown",
      "metadata": {
        "id": "iDtw47PICjng"
      },
      "source": [
        "---"
      ]
    },
    {
      "cell_type": "markdown",
      "metadata": {
        "id": "ICIsfTmPCjng"
      },
      "source": [
        "Let's close the actors  game stop connection as we are moving on to another  data set."
      ]
    },
    {
      "cell_type": "code",
      "execution_count": null,
      "metadata": {
        "id": "uOHgsAVMCjng"
      },
      "outputs": [],
      "source": [
        "conn.close()"
      ]
    },
    {
      "cell_type": "markdown",
      "metadata": {
        "id": "gfwMyZ0qCjng"
      },
      "source": [
        "---"
      ]
    },
    {
      "cell_type": "markdown",
      "metadata": {
        "id": "uZ83vC5fCjng"
      },
      "source": [
        "###  Transforming logarithmic or exponential data\n",
        "\n",
        "In 2007, a university study was published investigating the crash risk of alcohol impaired driving. Data from 2,871 crashes were used to measure the association of a person’s blood alcohol level (BAC) with the risk of being in an accident. The alcohol data frame below shows results from the [study](https://opentextbc.ca/algebratrigonometryopenstax/chapter/fitting-exponential-models-to-data/#return-footnote-74-1).\n",
        "\n",
        "The relative risk is a measure of how many times more likely a person is to crash. So, for example, a person with a BAC of 0.09 is 3.54 times as likely to crash as a person who has not been drinking alcohol."
      ]
    },
    {
      "cell_type": "code",
      "execution_count": null,
      "metadata": {
        "id": "JXqKWT6TCjng",
        "colab": {
          "base_uri": "https://localhost:8080/",
          "height": 426
        },
        "outputId": "b2688b61-b00c-4be2-d6a9-bc2dc7866060"
      },
      "outputs": [
        {
          "output_type": "execute_result",
          "data": {
            "text/plain": [
              "     BAC   risk\n",
              "0   0.00   1.00\n",
              "1   0.01   1.03\n",
              "2   0.03   1.06\n",
              "3   0.05   1.38\n",
              "4   0.07   2.09\n",
              "5   0.09   3.54\n",
              "6   0.11   6.41\n",
              "7   0.13  12.60\n",
              "8   0.15  22.10\n",
              "9   0.17  39.05\n",
              "10  0.19  65.32\n",
              "11  0.21  99.78"
            ],
            "text/html": [
              "\n",
              "  <div id=\"df-2867037f-3005-46b0-a1d6-c547b83637d6\">\n",
              "    <div class=\"colab-df-container\">\n",
              "      <div>\n",
              "<style scoped>\n",
              "    .dataframe tbody tr th:only-of-type {\n",
              "        vertical-align: middle;\n",
              "    }\n",
              "\n",
              "    .dataframe tbody tr th {\n",
              "        vertical-align: top;\n",
              "    }\n",
              "\n",
              "    .dataframe thead th {\n",
              "        text-align: right;\n",
              "    }\n",
              "</style>\n",
              "<table border=\"1\" class=\"dataframe\">\n",
              "  <thead>\n",
              "    <tr style=\"text-align: right;\">\n",
              "      <th></th>\n",
              "      <th>BAC</th>\n",
              "      <th>risk</th>\n",
              "    </tr>\n",
              "  </thead>\n",
              "  <tbody>\n",
              "    <tr>\n",
              "      <th>0</th>\n",
              "      <td>0.00</td>\n",
              "      <td>1.00</td>\n",
              "    </tr>\n",
              "    <tr>\n",
              "      <th>1</th>\n",
              "      <td>0.01</td>\n",
              "      <td>1.03</td>\n",
              "    </tr>\n",
              "    <tr>\n",
              "      <th>2</th>\n",
              "      <td>0.03</td>\n",
              "      <td>1.06</td>\n",
              "    </tr>\n",
              "    <tr>\n",
              "      <th>3</th>\n",
              "      <td>0.05</td>\n",
              "      <td>1.38</td>\n",
              "    </tr>\n",
              "    <tr>\n",
              "      <th>4</th>\n",
              "      <td>0.07</td>\n",
              "      <td>2.09</td>\n",
              "    </tr>\n",
              "    <tr>\n",
              "      <th>5</th>\n",
              "      <td>0.09</td>\n",
              "      <td>3.54</td>\n",
              "    </tr>\n",
              "    <tr>\n",
              "      <th>6</th>\n",
              "      <td>0.11</td>\n",
              "      <td>6.41</td>\n",
              "    </tr>\n",
              "    <tr>\n",
              "      <th>7</th>\n",
              "      <td>0.13</td>\n",
              "      <td>12.60</td>\n",
              "    </tr>\n",
              "    <tr>\n",
              "      <th>8</th>\n",
              "      <td>0.15</td>\n",
              "      <td>22.10</td>\n",
              "    </tr>\n",
              "    <tr>\n",
              "      <th>9</th>\n",
              "      <td>0.17</td>\n",
              "      <td>39.05</td>\n",
              "    </tr>\n",
              "    <tr>\n",
              "      <th>10</th>\n",
              "      <td>0.19</td>\n",
              "      <td>65.32</td>\n",
              "    </tr>\n",
              "    <tr>\n",
              "      <th>11</th>\n",
              "      <td>0.21</td>\n",
              "      <td>99.78</td>\n",
              "    </tr>\n",
              "  </tbody>\n",
              "</table>\n",
              "</div>\n",
              "      <button class=\"colab-df-convert\" onclick=\"convertToInteractive('df-2867037f-3005-46b0-a1d6-c547b83637d6')\"\n",
              "              title=\"Convert this dataframe to an interactive table.\"\n",
              "              style=\"display:none;\">\n",
              "        \n",
              "  <svg xmlns=\"http://www.w3.org/2000/svg\" height=\"24px\"viewBox=\"0 0 24 24\"\n",
              "       width=\"24px\">\n",
              "    <path d=\"M0 0h24v24H0V0z\" fill=\"none\"/>\n",
              "    <path d=\"M18.56 5.44l.94 2.06.94-2.06 2.06-.94-2.06-.94-.94-2.06-.94 2.06-2.06.94zm-11 1L8.5 8.5l.94-2.06 2.06-.94-2.06-.94L8.5 2.5l-.94 2.06-2.06.94zm10 10l.94 2.06.94-2.06 2.06-.94-2.06-.94-.94-2.06-.94 2.06-2.06.94z\"/><path d=\"M17.41 7.96l-1.37-1.37c-.4-.4-.92-.59-1.43-.59-.52 0-1.04.2-1.43.59L10.3 9.45l-7.72 7.72c-.78.78-.78 2.05 0 2.83L4 21.41c.39.39.9.59 1.41.59.51 0 1.02-.2 1.41-.59l7.78-7.78 2.81-2.81c.8-.78.8-2.07 0-2.86zM5.41 20L4 18.59l7.72-7.72 1.47 1.35L5.41 20z\"/>\n",
              "  </svg>\n",
              "      </button>\n",
              "      \n",
              "  <style>\n",
              "    .colab-df-container {\n",
              "      display:flex;\n",
              "      flex-wrap:wrap;\n",
              "      gap: 12px;\n",
              "    }\n",
              "\n",
              "    .colab-df-convert {\n",
              "      background-color: #E8F0FE;\n",
              "      border: none;\n",
              "      border-radius: 50%;\n",
              "      cursor: pointer;\n",
              "      display: none;\n",
              "      fill: #1967D2;\n",
              "      height: 32px;\n",
              "      padding: 0 0 0 0;\n",
              "      width: 32px;\n",
              "    }\n",
              "\n",
              "    .colab-df-convert:hover {\n",
              "      background-color: #E2EBFA;\n",
              "      box-shadow: 0px 1px 2px rgba(60, 64, 67, 0.3), 0px 1px 3px 1px rgba(60, 64, 67, 0.15);\n",
              "      fill: #174EA6;\n",
              "    }\n",
              "\n",
              "    [theme=dark] .colab-df-convert {\n",
              "      background-color: #3B4455;\n",
              "      fill: #D2E3FC;\n",
              "    }\n",
              "\n",
              "    [theme=dark] .colab-df-convert:hover {\n",
              "      background-color: #434B5C;\n",
              "      box-shadow: 0px 1px 3px 1px rgba(0, 0, 0, 0.15);\n",
              "      filter: drop-shadow(0px 1px 2px rgba(0, 0, 0, 0.3));\n",
              "      fill: #FFFFFF;\n",
              "    }\n",
              "  </style>\n",
              "\n",
              "      <script>\n",
              "        const buttonEl =\n",
              "          document.querySelector('#df-2867037f-3005-46b0-a1d6-c547b83637d6 button.colab-df-convert');\n",
              "        buttonEl.style.display =\n",
              "          google.colab.kernel.accessAllowed ? 'block' : 'none';\n",
              "\n",
              "        async function convertToInteractive(key) {\n",
              "          const element = document.querySelector('#df-2867037f-3005-46b0-a1d6-c547b83637d6');\n",
              "          const dataTable =\n",
              "            await google.colab.kernel.invokeFunction('convertToInteractive',\n",
              "                                                     [key], {});\n",
              "          if (!dataTable) return;\n",
              "\n",
              "          const docLinkHtml = 'Like what you see? Visit the ' +\n",
              "            '<a target=\"_blank\" href=https://colab.research.google.com/notebooks/data_table.ipynb>data table notebook</a>'\n",
              "            + ' to learn more about interactive tables.';\n",
              "          element.innerHTML = '';\n",
              "          dataTable['output_type'] = 'display_data';\n",
              "          await google.colab.output.renderOutput(dataTable, element);\n",
              "          const docLink = document.createElement('div');\n",
              "          docLink.innerHTML = docLinkHtml;\n",
              "          element.appendChild(docLink);\n",
              "        }\n",
              "      </script>\n",
              "    </div>\n",
              "  </div>\n",
              "  "
            ]
          },
          "metadata": {},
          "execution_count": 88
        }
      ],
      "source": [
        "#Don't let this code bother you.  Instead of using a csv, I'm hard coding data cause it was simpler for this little example.\n",
        "alcohol = pd.DataFrame({\"BAC\" : [0,0.01,0.03,0.05,0.07,0.09,0.11,0.13,0.15,0.17,0.19,0.21],\n",
        "\"risk\": [1,1.03,1.06,1.38,2.09,3.54,6.41,12.6,22.1,39.05,65.32,99.78]})\n",
        "\n",
        "alcohol"
      ]
    },
    {
      "cell_type": "markdown",
      "metadata": {
        "id": "i-BQVhviCjng"
      },
      "source": [
        "---\n",
        "\n",
        "# **Question 5**\n",
        "\n",
        "Create a scatter plot of this data with the BAC on the x axis and the relative risk on the y axis.\n",
        "\n",
        "Of course, give an appropriate title and include labels."
      ]
    },
    {
      "cell_type": "code",
      "execution_count": null,
      "metadata": {
        "id": "v63kjeUPCjnh",
        "colab": {
          "base_uri": "https://localhost:8080/",
          "height": 342
        },
        "outputId": "256a4779-6d5a-4f9a-91a3-19fb0e187223"
      },
      "outputs": [
        {
          "output_type": "execute_result",
          "data": {
            "text/plain": [
              "Text(0, 0.5, 'Relative Risk')"
            ]
          },
          "metadata": {},
          "execution_count": 89
        },
        {
          "output_type": "display_data",
          "data": {
            "text/plain": [
              "<Figure size 432x288 with 1 Axes>"
            ],
            "image/png": "[encoded data removed]"
          },
          "metadata": {}
        }
      ],
      "source": [
        "plt.scatter(alcohol[\"BAC\"],alcohol[\"risk\"])\n",
        "plt.title(\"Blood Alcohol Content and Relative Risk of Crash\")\n",
        "plt.xlabel(\"Blood Alcohol Level\")\n",
        "plt.ylabel(\"Relative Risk\")"
      ]
    },
    {
      "cell_type": "markdown",
      "metadata": {
        "id": "P4qRVzEZCjnh"
      },
      "source": [
        "---\n",
        "\n",
        "You should should notice that the risk is rising exponentially, ie, risk appears to be rising like $$e ^ {BAC}$$.\n",
        "\n",
        "If you remember your logarithmic/exponential rules, another way to denote this same relationship is:\n",
        "\n",
        "$$risk \\approx e ^ {BAC}  \\,\\,\\,\\, \\implies \\,\\,\\,\\, BAC \\approx \\log risk$$\n",
        "\n",
        "This suggests that BAC should increase as log risk increases, and thus show a positive linear relationship.  Let's transform our data and see this.\n",
        "\n",
        "---\n",
        "\n",
        "# **Question 6**\n",
        "\n",
        "A) We can use ``np.log(array)`` to take the log of each value in an array in an elementwise fashion.  Essentially, we just need to pass a column in to ``np.log(XXX)``.\n",
        "\n",
        "Use this method to craete a column \"log_rish\" in the ``alchohol`` dataframe that contains the log of each Risk value."
      ]
    },
    {
      "cell_type": "code",
      "execution_count": null,
      "metadata": {
        "id": "3ArvzEJfCjnh"
      },
      "outputs": [],
      "source": [
        "alcohol[\"log_risk\"] = np.log(alcohol[\"risk\"])  #Adding a new table with log_risk values that are just the log of the risk values"
      ]
    },
    {
      "cell_type": "markdown",
      "metadata": {
        "id": "E1M0gcpoCjnh"
      },
      "source": [
        "B) Now create a scatter plot of the BAC versus \"Log Risk\" data.\n",
        "\n",
        "Make the title \"Risk from Blood Alchohol (BAC)\" with an x label of \"BAC\" and a y label of \"Risk (log)\""
      ]
    },
    {
      "cell_type": "code",
      "execution_count": null,
      "metadata": {
        "id": "wOBk72PQCjnh",
        "colab": {
          "base_uri": "https://localhost:8080/",
          "height": 325
        },
        "outputId": "a810a449-ef0f-4420-cd60-ed90686facbb"
      },
      "outputs": [
        {
          "output_type": "display_data",
          "data": {
            "text/plain": [
              "<Figure size 432x288 with 1 Axes>"
            ],
            "image/png": "[encoded data removed]"
          },
          "metadata": {}
        }
      ],
      "source": [
        "plt.scatter(alcohol[\"BAC\"],alcohol[\"log_risk\"])\n",
        "plt.title(\"Risk from Blood Alcohol (BAC)\")\n",
        "plt.xlabel(\"BAC\")\n",
        "plt.ylabel(\"Risk (log)\");"
      ]
    },
    {
      "cell_type": "markdown",
      "metadata": {
        "id": "Uj4-WICvCjnh"
      },
      "source": [
        "Since we deduced that $BAC \\approx \\log Risk$, the plot points should look more linear than the plot from Question 5.\n",
        "\n",
        "C) Find the table of correlation coefficients for the ``alchohol`` dataframe."
      ]
    },
    {
      "cell_type": "code",
      "execution_count": null,
      "metadata": {
        "id": "MS3lcOH3Cjnh",
        "colab": {
          "base_uri": "https://localhost:8080/",
          "height": 143
        },
        "outputId": "1db6a9a5-99cd-42fe-ffb5-c6426a83a427"
      },
      "outputs": [
        {
          "output_type": "execute_result",
          "data": {
            "text/plain": [
              "               BAC      risk  log_risk\n",
              "BAC       1.000000  0.831378  0.985505\n",
              "risk      0.831378  1.000000  0.870858\n",
              "log_risk  0.985505  0.870858  1.000000"
            ],
            "text/html": [
              "\n",
              "  <div id=\"df-338e6125-ef2b-4bb0-986c-ebb45d9f17e9\">\n",
              "    <div class=\"colab-df-container\">\n",
              "      <div>\n",
              "<style scoped>\n",
              "    .dataframe tbody tr th:only-of-type {\n",
              "        vertical-align: middle;\n",
              "    }\n",
              "\n",
              "    .dataframe tbody tr th {\n",
              "        vertical-align: top;\n",
              "    }\n",
              "\n",
              "    .dataframe thead th {\n",
              "        text-align: right;\n",
              "    }\n",
              "</style>\n",
              "<table border=\"1\" class=\"dataframe\">\n",
              "  <thead>\n",
              "    <tr style=\"text-align: right;\">\n",
              "      <th></th>\n",
              "      <th>BAC</th>\n",
              "      <th>risk</th>\n",
              "      <th>log_risk</th>\n",
              "    </tr>\n",
              "  </thead>\n",
              "  <tbody>\n",
              "    <tr>\n",
              "      <th>BAC</th>\n",
              "      <td>1.000000</td>\n",
              "      <td>0.831378</td>\n",
              "      <td>0.985505</td>\n",
              "    </tr>\n",
              "    <tr>\n",
              "      <th>risk</th>\n",
              "      <td>0.831378</td>\n",
              "      <td>1.000000</td>\n",
              "      <td>0.870858</td>\n",
              "    </tr>\n",
              "    <tr>\n",
              "      <th>log_risk</th>\n",
              "      <td>0.985505</td>\n",
              "      <td>0.870858</td>\n",
              "      <td>1.000000</td>\n",
              "    </tr>\n",
              "  </tbody>\n",
              "</table>\n",
              "</div>\n",
              "      <button class=\"colab-df-convert\" onclick=\"convertToInteractive('df-338e6125-ef2b-4bb0-986c-ebb45d9f17e9')\"\n",
              "              title=\"Convert this dataframe to an interactive table.\"\n",
              "              style=\"display:none;\">\n",
              "        \n",
              "  <svg xmlns=\"http://www.w3.org/2000/svg\" height=\"24px\"viewBox=\"0 0 24 24\"\n",
              "       width=\"24px\">\n",
              "    <path d=\"M0 0h24v24H0V0z\" fill=\"none\"/>\n",
              "    <path d=\"M18.56 5.44l.94 2.06.94-2.06 2.06-.94-2.06-.94-.94-2.06-.94 2.06-2.06.94zm-11 1L8.5 8.5l.94-2.06 2.06-.94-2.06-.94L8.5 2.5l-.94 2.06-2.06.94zm10 10l.94 2.06.94-2.06 2.06-.94-2.06-.94-.94-2.06-.94 2.06-2.06.94z\"/><path d=\"M17.41 7.96l-1.37-1.37c-.4-.4-.92-.59-1.43-.59-.52 0-1.04.2-1.43.59L10.3 9.45l-7.72 7.72c-.78.78-.78 2.05 0 2.83L4 21.41c.39.39.9.59 1.41.59.51 0 1.02-.2 1.41-.59l7.78-7.78 2.81-2.81c.8-.78.8-2.07 0-2.86zM5.41 20L4 18.59l7.72-7.72 1.47 1.35L5.41 20z\"/>\n",
              "  </svg>\n",
              "      </button>\n",
              "      \n",
              "  <style>\n",
              "    .colab-df-container {\n",
              "      display:flex;\n",
              "      flex-wrap:wrap;\n",
              "      gap: 12px;\n",
              "    }\n",
              "\n",
              "    .colab-df-convert {\n",
              "      background-color: #E8F0FE;\n",
              "      border: none;\n",
              "      border-radius: 50%;\n",
              "      cursor: pointer;\n",
              "      display: none;\n",
              "      fill: #1967D2;\n",
              "      height: 32px;\n",
              "      padding: 0 0 0 0;\n",
              "      width: 32px;\n",
              "    }\n",
              "\n",
              "    .colab-df-convert:hover {\n",
              "      background-color: #E2EBFA;\n",
              "      box-shadow: 0px 1px 2px rgba(60, 64, 67, 0.3), 0px 1px 3px 1px rgba(60, 64, 67, 0.15);\n",
              "      fill: #174EA6;\n",
              "    }\n",
              "\n",
              "    [theme=dark] .colab-df-convert {\n",
              "      background-color: #3B4455;\n",
              "      fill: #D2E3FC;\n",
              "    }\n",
              "\n",
              "    [theme=dark] .colab-df-convert:hover {\n",
              "      background-color: #434B5C;\n",
              "      box-shadow: 0px 1px 3px 1px rgba(0, 0, 0, 0.15);\n",
              "      filter: drop-shadow(0px 1px 2px rgba(0, 0, 0, 0.3));\n",
              "      fill: #FFFFFF;\n",
              "    }\n",
              "  </style>\n",
              "\n",
              "      <script>\n",
              "        const buttonEl =\n",
              "          document.querySelector('#df-338e6125-ef2b-4bb0-986c-ebb45d9f17e9 button.colab-df-convert');\n",
              "        buttonEl.style.display =\n",
              "          google.colab.kernel.accessAllowed ? 'block' : 'none';\n",
              "\n",
              "        async function convertToInteractive(key) {\n",
              "          const element = document.querySelector('#df-338e6125-ef2b-4bb0-986c-ebb45d9f17e9');\n",
              "          const dataTable =\n",
              "            await google.colab.kernel.invokeFunction('convertToInteractive',\n",
              "                                                     [key], {});\n",
              "          if (!dataTable) return;\n",
              "\n",
              "          const docLinkHtml = 'Like what you see? Visit the ' +\n",
              "            '<a target=\"_blank\" href=https://colab.research.google.com/notebooks/data_table.ipynb>data table notebook</a>'\n",
              "            + ' to learn more about interactive tables.';\n",
              "          element.innerHTML = '';\n",
              "          dataTable['output_type'] = 'display_data';\n",
              "          await google.colab.output.renderOutput(dataTable, element);\n",
              "          const docLink = document.createElement('div');\n",
              "          docLink.innerHTML = docLinkHtml;\n",
              "          element.appendChild(docLink);\n",
              "        }\n",
              "      </script>\n",
              "    </div>\n",
              "  </div>\n",
              "  "
            ]
          },
          "metadata": {},
          "execution_count": 97
        }
      ],
      "source": [
        "corr_df = alcohol.corr()\n",
        "corr_df"
      ]
    },
    {
      "cell_type": "markdown",
      "metadata": {
        "id": "Z6Z0C8vkCjnh"
      },
      "source": [
        "Take note of the correlation between BAC vs. Risk  (0.831378) and also Bac vs. Log Risk (0.985505).  Sinnce the latter is closer to 1, it does appear that the log of the risk has a high linear relationship with the BAC."
      ]
    },
    {
      "cell_type": "markdown",
      "metadata": {
        "id": "XOKy21kICjnh"
      },
      "source": [
        "---\n",
        "\n",
        "You're done! Yay!  Hopefully you now feel confident in creating scatter plots."
      ]
    }
  ],
  "metadata": {
    "anaconda-cloud": {},
    "kernelspec": {
      "display_name": "Python 3 (ipykernel)",
      "language": "python",
      "name": "python3"
    },
    "language_info": {
      "codemirror_mode": {
        "name": "ipython",
        "version": 3
      },
      "file_extension": ".py",
      "mimetype": "text/x-python",
      "name": "python",
      "nbconvert_exporter": "python",
      "pygments_lexer": "ipython3",
      "version": "3.9.12"
    },
    "colab": {
      "provenance": [],
      "collapsed_sections": [
        "P4qRVzEZCjnh"
      ]
    }
  },
  "nbformat": 4,
  "nbformat_minor": 0
}