{
  "cells": [
    {
      "cell_type": "markdown",
      "metadata": {
        "id": "Few1ur7o6mhi"
      },
      "source": [
        "### *“The travel industry is made up of a myriad supplier data feeds...*\n",
        "\n",
        "### *Python repeatedly has allowed us to access, build and test our in-house communications with hundreds of travel suppliers around the world in a matter of days rather then the months it would have taken using other languages.*\n",
        "\n",
        "### *Since adopting Python two years ago, Python has provided us with a measurable productivity gain that allows us to stay competitive in the online travel space.”*\n",
        "\n",
        "*–Michael Engelhart, CTO of EZTrip.com (2021)*\n",
        "\n",
        "Python is used in EVERY industry!  Even knowing a little can you learn A LOT!\n",
        "\n",
        "---"
      ]
    },
    {
      "cell_type": "markdown",
      "metadata": {
        "id": "uruLWB3h6mhl"
      },
      "source": [
        "# Your Name: Brandon Rank"
      ]
    },
    {
      "cell_type": "markdown",
      "metadata": {
        "id": "WcGdjgG26mhm"
      },
      "source": [
        "# Lab C: Arithmetic and Basic Math in Python\n"
      ]
    },
    {
      "cell_type": "markdown",
      "metadata": {
        "id": "YP0aXIX36mhm"
      },
      "source": [
        "The goal of this lab is to get you familiar with the performing basic math in Programming.  Read the lab very carefully, taking care to perform each task as indicated in the code blocks.\n",
        "\n",
        "Parts of this lab were adapted from an IBM course (\"Python for Data Science\") on the Cognitive Class website. Thank you to the original author <a href=\"https://www.linkedin.com/in/joseph-s-50398b136/\" target=\"_blank\">Joseph Santarcangelo</a> who is a Data Scientist at IBM for creating the initial lab."
      ]
    },
    {
      "cell_type": "markdown",
      "metadata": {
        "id": "uUl0lIEj6mhn"
      },
      "source": [
        "<hr>"
      ]
    },
    {
      "cell_type": "markdown",
      "metadata": {
        "id": "3SjsCNxf6mhn"
      },
      "source": [
        "## 1. Parentheses Matter!"
      ]
    },
    {
      "cell_type": "markdown",
      "metadata": {
        "id": "toVMbgqF6mho"
      },
      "source": [
        "Just like in math class, expressions enclosed in parentheses have priority.\n",
        "\n",
        "So the PEMDAS (\"Please excuse my dear Aunt Sally\") rules apply.</p>"
      ]
    },
    {
      "cell_type": "code",
      "execution_count": null,
      "metadata": {
        "colab": {
          "base_uri": "https://localhost:8080/"
        },
        "id": "JFDJB0Re6mho",
        "outputId": "3e3d9aa8-3522-4ef0-9df9-4f9ed244b005"
      },
      "outputs": [
        {
          "output_type": "stream",
          "name": "stdout",
          "text": [
            "42\n",
            "17\n"
          ]
        }
      ],
      "source": [
        "#Guess at the values of x and y below and then run the cell to checl (Shift+Enter)\n",
        "\n",
        "x = (5 + 2) * 6\n",
        "print(x)\n",
        "\n",
        "y = 5 + 2 * 6\n",
        "print(y)"
      ]
    },
    {
      "cell_type": "markdown",
      "metadata": {
        "id": "PwEB-HiA6mhp"
      },
      "source": [
        "<hr>"
      ]
    },
    {
      "cell_type": "markdown",
      "metadata": {
        "id": "EHKFd9bH6mhq"
      },
      "source": [
        "<h2 id=\"expressions\">2. Integer Division</h2>"
      ]
    },
    {
      "cell_type": "markdown",
      "metadata": {
        "id": "46wO7MPS6mhq"
      },
      "source": [
        "Remember that ONE SLASH means divide.\n",
        "\n"
      ]
    },
    {
      "cell_type": "code",
      "execution_count": null,
      "metadata": {
        "colab": {
          "base_uri": "https://localhost:8080/"
        },
        "id": "p0EBsVaR6mhr",
        "outputId": "6ee531e7-9c0e-4555-e869-a98dc4e2b73d"
      },
      "outputs": [
        {
          "output_type": "stream",
          "name": "stdout",
          "text": [
            "6.0\n",
            "4.166666666666667\n"
          ]
        }
      ],
      "source": [
        "# Division operation expression\n",
        "# Guess what the cell below will print out.  Then run it to check your guess. (Shift+Enter)\n",
        "\n",
        "print(18 / 3)\n",
        "print(25 / 6)"
      ]
    },
    {
      "cell_type": "markdown",
      "metadata": {
        "id": "KQ8vbrKZ6mhr"
      },
      "source": [
        "<p>We can use the double slash for integer division, where the result truncates/drops the decimal portion of the number, like in the examples below."
      ]
    },
    {
      "cell_type": "code",
      "execution_count": null,
      "metadata": {
        "colab": {
          "base_uri": "https://localhost:8080/"
        },
        "id": "Cg_tFTNY6mhr",
        "outputId": "02016c0c-930f-4ca7-94b7-a9056bb3eae7"
      },
      "outputs": [
        {
          "output_type": "execute_result",
          "data": {
            "text/plain": [
              "3"
            ]
          },
          "metadata": {},
          "execution_count": 3
        }
      ],
      "source": [
        "# Integer division operation expression:  Run this cell to see what is printed out!  Do you understand why?\n",
        "\n",
        "13 // 4    #This computes how many times 4 goes evenly into 13.  So the remainder is dropped!"
      ]
    },
    {
      "cell_type": "code",
      "execution_count": null,
      "metadata": {
        "colab": {
          "base_uri": "https://localhost:8080/"
        },
        "id": "fIyP0s0a6mhs",
        "outputId": "ce8bea3f-9c6b-4bb3-b3fd-6fbd991d3d56"
      },
      "outputs": [
        {
          "output_type": "execute_result",
          "data": {
            "text/plain": [
              "2"
            ]
          },
          "metadata": {},
          "execution_count": 4
        }
      ],
      "source": [
        "# Integer division operation expression:  Run this cell to see what is printed out!\n",
        "\n",
        "10 // 5    #This computes how many times 5 goes evenly into 10"
      ]
    },
    {
      "cell_type": "markdown",
      "metadata": {
        "id": "du6iRsCc6mhs"
      },
      "source": [
        "Let's get some practice.  Guess what will be printed below."
      ]
    },
    {
      "cell_type": "code",
      "execution_count": null,
      "metadata": {
        "colab": {
          "base_uri": "https://localhost:8080/"
        },
        "id": "ImjBU53L6mhs",
        "outputId": "d72b5a4e-2cfb-489e-9afa-3dc50a18f320"
      },
      "outputs": [
        {
          "output_type": "stream",
          "name": "stdout",
          "text": [
            "2\n",
            "2.5\n"
          ]
        }
      ],
      "source": [
        "#Guess at what is printed out!  Then run and check!\n",
        "x =  5 // 2\n",
        "y =  5 /  2\n",
        "print(x)\n",
        "print(y)"
      ]
    },
    {
      "cell_type": "code",
      "execution_count": null,
      "metadata": {
        "colab": {
          "base_uri": "https://localhost:8080/"
        },
        "id": "6PtOfGA06mhs",
        "outputId": "8bd259d0-d00a-454f-d20b-45785dc173ab"
      },
      "outputs": [
        {
          "output_type": "stream",
          "name": "stdout",
          "text": [
            "10\n",
            "10.0\n"
          ]
        }
      ],
      "source": [
        "#Guess at what is printed out!  Then run and check!\n",
        "x =  20 // 2\n",
        "y =  20 /  2\n",
        "print(x)  #Is x an integer or a float?\n",
        "print(y)  #Is y an integer or a float?\n"
      ]
    },
    {
      "cell_type": "code",
      "execution_count": null,
      "metadata": {
        "colab": {
          "base_uri": "https://localhost:8080/"
        },
        "id": "6lMi_DOL6mht",
        "outputId": "afb68051-0630-4a15-f3d6-812f669ac7be"
      },
      "outputs": [
        {
          "output_type": "stream",
          "name": "stdout",
          "text": [
            "0.2\n",
            "0\n"
          ]
        }
      ],
      "source": [
        "#Guess at what is printed out!  Then run and check!\n",
        "x =  2 / 10\n",
        "y =  2 //  10\n",
        "\n",
        "print(x)\n",
        "print(y)"
      ]
    },
    {
      "cell_type": "code",
      "execution_count": null,
      "metadata": {
        "colab": {
          "base_uri": "https://localhost:8080/"
        },
        "id": "qxySX7Re6mht",
        "outputId": "b56ee99a-44db-4a6a-fbd8-c6d17453832b"
      },
      "outputs": [
        {
          "output_type": "stream",
          "name": "stdout",
          "text": [
            "1.3333333333333333\n",
            "1\n"
          ]
        }
      ],
      "source": [
        "#Guess at what is printed out!  Then run and check!\n",
        "x =  4 / 3\n",
        "y =  4 //  3\n",
        "\n",
        "print(x)\n",
        "print(y)"
      ]
    },
    {
      "cell_type": "markdown",
      "metadata": {
        "id": "-x9j2ZSG6mht"
      },
      "source": [
        "---\n",
        "## **Question 2. (Regular Division vs. Integer Division.)!!!!!!!!!!!!!!!!!!!**\n",
        "\n"
      ]
    },
    {
      "cell_type": "markdown",
      "metadata": {
        "id": "6PURRa8F6mht"
      },
      "source": [
        "<p>Let's write an expression that calculates how many nickels we would need to make 38 cents.</p>"
      ]
    },
    {
      "cell_type": "code",
      "execution_count": null,
      "metadata": {
        "colab": {
          "base_uri": "https://localhost:8080/"
        },
        "id": "FX07DZlT6mht",
        "outputId": "acc59e55-d8a8-4f33-a949-66b5ce98633a"
      },
      "outputs": [
        {
          "output_type": "execute_result",
          "data": {
            "text/plain": [
              "7"
            ]
          },
          "metadata": {},
          "execution_count": 11
        }
      ],
      "source": [
        "# Write your code below. Don't forget to press Shift+Enter to execute the cell\n",
        "38//5"
      ]
    },
    {
      "cell_type": "markdown",
      "metadata": {
        "id": "GiX918P96mhu"
      },
      "source": [
        "Double-click __here__ for the solution.\n",
        "\n",
        "<!-- Your answer is below:\n",
        "38 // 5\n",
        "-->"
      ]
    },
    {
      "cell_type": "markdown",
      "metadata": {
        "id": "fE_Fvc9-6mhu"
      },
      "source": [
        "<p>John has 3 slices of a pizza pie that was cut into 8 equal slices. Print what percentage of the pie John has.</p>"
      ]
    },
    {
      "cell_type": "code",
      "execution_count": null,
      "metadata": {
        "colab": {
          "base_uri": "https://localhost:8080/"
        },
        "id": "4Oc6maDN6mhu",
        "outputId": "f4ce8cf9-0576-4922-f02b-d2bb5f969a6d"
      },
      "outputs": [
        {
          "output_type": "stream",
          "name": "stdout",
          "text": [
            "37.5%\n"
          ]
        }
      ],
      "source": [
        "# Write your code below. Don't forget to press Shift+Enter to execute the cell\n",
        "slices = 3\n",
        "percentage = (3/8)*100\n",
        "#Print the percentage here.\n",
        "print(str(percentage) + \"%\")"
      ]
    },
    {
      "cell_type": "markdown",
      "metadata": {
        "id": "nhmmlo-f6mhu"
      },
      "source": [
        "Double-click __here__ for the solution.\n",
        "\n",
        "<!-- Your answer is below:\n",
        "percentage = (3 / 8) * 100\n",
        "\n",
        "print(str(percentage) + \"%\")\n",
        "-->"
      ]
    },
    {
      "cell_type": "markdown",
      "metadata": {
        "id": "EQ6jx3876mhu"
      },
      "source": [
        "<hr/>"
      ]
    },
    {
      "cell_type": "markdown",
      "metadata": {
        "id": "8kLsPdfE6mhu"
      },
      "source": [
        "## 3. Modulus\n",
        "\n",
        "When using integer division, we often want to know about remainders.\n",
        "\n",
        "So for example  ``17 // 4`` is 4 because 4 divides 17 with a remainder of 1.  So we say ``17 mod 4`` is 1.  \n",
        "\n",
        "Oftentimes programming languages use the percent sign for the modulus symbol (``%``).  \n",
        "\n",
        "Here are some examples:\n",
        "\n",
        "* ``28 % 5 = 3`` since 5 leaves a remainder of 3 when dividing 28\n",
        "* ``24 % 11 = 2`` since 11 leaves a remainder of 2 when dividing 24\n",
        "* ``18 % 6 = 0`` since 6 leaves no remainder when dividing 18"
      ]
    },
    {
      "cell_type": "code",
      "execution_count": null,
      "metadata": {
        "colab": {
          "base_uri": "https://localhost:8080/"
        },
        "id": "TBfOhrKM6mhv",
        "outputId": "0d99420e-8e91-4281-d83f-eb1e6d70aa54"
      },
      "outputs": [
        {
          "output_type": "execute_result",
          "data": {
            "text/plain": [
              "3"
            ]
          },
          "metadata": {},
          "execution_count": 14
        }
      ],
      "source": [
        "#Guess at what is printed out!  Then run and check!\n",
        "x = 28 % 5\n",
        "x"
      ]
    },
    {
      "cell_type": "code",
      "execution_count": null,
      "metadata": {
        "colab": {
          "base_uri": "https://localhost:8080/"
        },
        "id": "BMxyo3dO6mhv",
        "outputId": "649d3757-9467-40bd-b959-72f603252bad"
      },
      "outputs": [
        {
          "output_type": "execute_result",
          "data": {
            "text/plain": [
              "1"
            ]
          },
          "metadata": {},
          "execution_count": 15
        }
      ],
      "source": [
        "#Guess at what is printed out!  Then run and check!\n",
        "x = 36 % 5\n",
        "x"
      ]
    },
    {
      "cell_type": "markdown",
      "metadata": {
        "id": "AeTekH8d6mhv"
      },
      "source": [
        "---\n",
        "## **Question 3. (Getting Used to Modulus)!!!!!!!!!!!!!!!!!!!**\n",
        "\n"
      ]
    },
    {
      "cell_type": "markdown",
      "metadata": {
        "id": "x7RM1Iyg6mhv"
      },
      "source": [
        "You pay a bill of $4.93 using as many quarters as possibles.  Also, you only use quarters and pennies.  How many quarters and pennies do you use?\n",
        "\n",
        "Use the new things you learned in this lab to decide."
      ]
    },
    {
      "cell_type": "code",
      "execution_count": null,
      "metadata": {
        "colab": {
          "base_uri": "https://localhost:8080/"
        },
        "id": "vGuayo2k6mhv",
        "outputId": "56e26735-fa31-4e65-91e6-d3f2bd9157e3"
      },
      "outputs": [
        {
          "output_type": "execute_result",
          "data": {
            "text/plain": [
              "(19, 18)"
            ]
          },
          "metadata": {},
          "execution_count": 21
        }
      ],
      "source": [
        "# Write your code below. Don't forget to press Shift+Enter to execute the cell\n",
        "\n",
        "quarters = 493//25 #delete the periods and place your work\n",
        "pennies = 493 % 25\n",
        "quarters, pennies"
      ]
    },
    {
      "cell_type": "markdown",
      "metadata": {
        "id": "E5N2bRUU6mhv"
      },
      "source": [
        "Double-click __here__ for the solution.\n",
        "\n",
        "<!-- Your answer is below:\n",
        "\n",
        "quarters = 493 // 25\n",
        "pennies = 493 % 25  #We essentially want the remainder of 493 cents when dividing by 25.\n",
        "\n",
        "-->"
      ]
    },
    {
      "cell_type": "markdown",
      "metadata": {
        "id": "XyUwATDQ6mhv"
      },
      "source": [
        "---\n",
        "\n",
        "## 4. Exponents\n",
        "\n",
        "How do we take exponents in Python?  For example, you know that the volume of a cube with a side length of $s$ is $ V = s^3 $. Let's look at the following example."
      ]
    },
    {
      "cell_type": "code",
      "execution_count": null,
      "metadata": {
        "colab": {
          "base_uri": "https://localhost:8080/"
        },
        "id": "WQMTx6VU6mhw",
        "outputId": "727a8096-9706-4975-abd3-ab3a75d0fddd"
      },
      "outputs": [
        {
          "output_type": "stream",
          "name": "stdout",
          "text": [
            "125\n"
          ]
        }
      ],
      "source": [
        "#Say the side length is 5\n",
        "s = 5\n",
        "\n",
        "#Then the volume is:\n",
        "volume = s * s * s\n",
        "print(volume)"
      ]
    },
    {
      "cell_type": "markdown",
      "metadata": {
        "id": "0IzMVq-c6mhw"
      },
      "source": [
        "Another way to raise values to a power is to use ```**```.  In other words:\n",
        "\n",
        "$$x**y\\,\\,\\, = \\,\\,\\, x^y$$  \n",
        "\n",
        "Here are some examples."
      ]
    },
    {
      "cell_type": "code",
      "execution_count": null,
      "metadata": {
        "colab": {
          "base_uri": "https://localhost:8080/"
        },
        "id": "IFXvJzLu6mhw",
        "outputId": "6bc937f8-f10a-4dfa-9c18-a89e98ce23b2"
      },
      "outputs": [
        {
          "output_type": "execute_result",
          "data": {
            "text/plain": [
              "8"
            ]
          },
          "metadata": {},
          "execution_count": 23
        }
      ],
      "source": [
        "#Take a guess at the value below and then run the cell to check!\n",
        "\n",
        "2**3  #Raises 2 to the 3rd power"
      ]
    },
    {
      "cell_type": "code",
      "execution_count": null,
      "metadata": {
        "colab": {
          "base_uri": "https://localhost:8080/"
        },
        "id": "jZZtDTl16mhw",
        "outputId": "2cb3e8bc-3e46-485e-d922-27d8d1cb8437"
      },
      "outputs": [
        {
          "output_type": "execute_result",
          "data": {
            "text/plain": [
              "9"
            ]
          },
          "metadata": {},
          "execution_count": 24
        }
      ],
      "source": [
        "#Take a guess at the value below and then run the cell to check!\n",
        "3**2"
      ]
    },
    {
      "cell_type": "code",
      "execution_count": null,
      "metadata": {
        "colab": {
          "base_uri": "https://localhost:8080/"
        },
        "id": "6dgkmSxE6mhw",
        "outputId": "6ab74356-e9a4-49be-8583-c55f840cfef6"
      },
      "outputs": [
        {
          "output_type": "execute_result",
          "data": {
            "text/plain": [
              "64"
            ]
          },
          "metadata": {},
          "execution_count": 25
        }
      ],
      "source": [
        "#Take a guess at the value below and then run the cell to check!\n",
        "4**3"
      ]
    },
    {
      "cell_type": "code",
      "execution_count": null,
      "metadata": {
        "colab": {
          "base_uri": "https://localhost:8080/"
        },
        "id": "FUaH1Zbm6mhw",
        "outputId": "bdec420a-06f0-452f-f61a-5c8a732bde8e"
      },
      "outputs": [
        {
          "output_type": "execute_result",
          "data": {
            "text/plain": [
              "3.375"
            ]
          },
          "metadata": {},
          "execution_count": 26
        }
      ],
      "source": [
        "#Take a guess at the value below and then run the cell to check!\n",
        "1.5**3"
      ]
    },
    {
      "cell_type": "markdown",
      "metadata": {
        "id": "D3jBQ_rE6mhw"
      },
      "source": [
        "Remember that taking squareroot is the same thing as raising to the 1/2 power.\n",
        "\n",
        "So $\\sqrt{x}=x^{1/2}$.\n",
        "\n",
        "This means that we can use double asteriks to compute square roots.  Let's try it!"
      ]
    },
    {
      "cell_type": "code",
      "execution_count": null,
      "metadata": {
        "colab": {
          "base_uri": "https://localhost:8080/"
        },
        "id": "cIFLsiYf6mhx",
        "outputId": "ab3d480d-e2c6-4a94-f1b5-28416ac43819"
      },
      "outputs": [
        {
          "output_type": "execute_result",
          "data": {
            "text/plain": [
              "8.0"
            ]
          },
          "metadata": {},
          "execution_count": 27
        }
      ],
      "source": [
        "#Take a guess at the value below and then run the cell to check!\n",
        "64**0.5"
      ]
    },
    {
      "cell_type": "code",
      "execution_count": null,
      "metadata": {
        "colab": {
          "base_uri": "https://localhost:8080/"
        },
        "id": "pcpSUsUo6mhx",
        "outputId": "3f5d1477-1ca2-4890-8bce-b94b5bba7cf5"
      },
      "outputs": [
        {
          "output_type": "execute_result",
          "data": {
            "text/plain": [
              "5.0"
            ]
          },
          "metadata": {},
          "execution_count": 28
        }
      ],
      "source": [
        "#Take a guess at the value below and then run the cell to check!\n",
        "25**0.5"
      ]
    },
    {
      "cell_type": "markdown",
      "metadata": {
        "id": "NXXUSb4M6mhx"
      },
      "source": [
        "---\n",
        "\n",
        "## **Question 4A. (Exponents)!!!!!!!!!!!!!!!!!!!**\n",
        "\n",
        "Recall that below, we computed the volume of a cube.  \n",
        "\n",
        "Update this code so that it uses double asteriks to do the cubing."
      ]
    },
    {
      "cell_type": "code",
      "execution_count": null,
      "metadata": {
        "colab": {
          "base_uri": "https://localhost:8080/"
        },
        "id": "WC1HLV6x6mhx",
        "outputId": "51599700-4259-45ae-ced7-c9421acb8fb3"
      },
      "outputs": [
        {
          "output_type": "stream",
          "name": "stdout",
          "text": [
            "1000\n"
          ]
        }
      ],
      "source": [
        "#Say the side length is 5\n",
        "s = 10\n",
        "\n",
        "#Then the volume is:\n",
        "volume = s ** 3\n",
        "print(volume)"
      ]
    },
    {
      "cell_type": "markdown",
      "metadata": {
        "id": "FCn-xQbP6mhx"
      },
      "source": [
        "Double-click __here__ for the solution.\n",
        "\n",
        "<!--\n",
        "volume = s ** 3\n",
        "-->"
      ]
    },
    {
      "cell_type": "markdown",
      "metadata": {
        "id": "xpZSUFcI6mhx"
      },
      "source": [
        "---\n",
        "\n",
        "## **Question 4B. (Square Roots)!!!!!!!!!!!!!!!!!!!**\n",
        "\n",
        "You make remember the quadratic formula, which says that the equation $ax^2+bx+c=0$ has the following solution.  \n",
        "\n",
        "$$x=\\frac{-b\\pm\\sqrt{b^2-4ac}}{2a}$$\n",
        "\n",
        "Write code below so that you find the solution to the equation $2x^2-11x+5=0$.  \n",
        "\n",
        "So in this example, $a=2, b=-11$, and $c = 5$."
      ]
    },
    {
      "cell_type": "code",
      "execution_count": null,
      "metadata": {
        "colab": {
          "base_uri": "https://localhost:8080/"
        },
        "id": "Pgbq48c36mhx",
        "outputId": "53e78b81-f795-4da5-8ac1-c39fa4c1b3bc"
      },
      "outputs": [
        {
          "output_type": "stream",
          "name": "stdout",
          "text": [
            "5.0 0.5\n"
          ]
        }
      ],
      "source": [
        "#Set up our variables.\n",
        "a = 2\n",
        "b = -11\n",
        "c = 5\n",
        "\n",
        "#x1 and x2 are set to 0.  Instead, set x1 and x2 equal to the output of the quadratic equation.\n",
        "#Hint:  Let x1 be equal to the solution when you use the + in the quadratic formula\n",
        "#       Let x2 be equal to the solution when you use the - in the quadratic formula\n",
        "#       Know that to code up -b you need to do -1 * b\n",
        "\n",
        "x1 = ((-1*b) + ((b**2)-(4*a*c))**0.5)/(2*a)\n",
        "x2 = ((-1*b) - ((b**2)-(4*a*c))**0.5)/(2*a)\n",
        "\n",
        "#Print out the resutls\n",
        "print(x1, x2)"
      ]
    },
    {
      "cell_type": "markdown",
      "metadata": {
        "id": "rCZhO7dW6mhx"
      },
      "source": [
        "Double-click __here__ for the solution.\n",
        "\n",
        "<!--\n",
        "x1 = (-1 * b + (b**2 - 4*a*c) ** 0.5) / (2*a)\n",
        "x2 = ?????\n",
        "-->"
      ]
    },
    {
      "cell_type": "markdown",
      "metadata": {
        "id": "k-_IM0aS6mhy"
      },
      "source": [
        "<hr>"
      ]
    },
    {
      "cell_type": "markdown",
      "metadata": {
        "id": "jauDJPEN6mhy"
      },
      "source": [
        "Okay!  You're done Lab C!  Submit this!   Your file should be called LabC_PythonMath_YourInitials.ipynb"
      ]
    }
  ],
  "metadata": {
    "kernelspec": {
      "display_name": "Python 3",
      "language": "python",
      "name": "python3"
    },
    "language_info": {
      "codemirror_mode": {
        "name": "ipython",
        "version": 3
      },
      "file_extension": ".py",
      "mimetype": "text/x-python",
      "name": "python",
      "nbconvert_exporter": "python",
      "pygments_lexer": "ipython3",
      "version": "3.7.9"
    },
    "colab": {
      "provenance": []
    }
  },
  "nbformat": 4,
  "nbformat_minor": 0
}