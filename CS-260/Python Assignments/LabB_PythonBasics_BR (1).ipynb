{
  "cells": [
    {
      "cell_type": "markdown",
      "metadata": {
        "id": "BiyWRUXiDDE5"
      },
      "source": [
        "### *“Learning to write programs stretches your mind, and helps you think better, [it] creates a way of thinking about things that I think is helpful in all domains.”*\n",
        "\n",
        "*–Bill Gates, Co-Founder, Microsoft*\n",
        "\n",
        "I agree! It does not matter what your major is - Programming builds analytical skills tansferrable to any field.\"\n",
        "    \n",
        "---"
      ]
    },
    {
      "cell_type": "markdown",
      "metadata": {
        "id": "CmztZgGxDDE7"
      },
      "source": [
        "## <span style=\"color:red\">Your Name: Brandon Rank</red>"
      ]
    },
    {
      "cell_type": "markdown",
      "metadata": {
        "id": "ULoMo-VkDDE8"
      },
      "source": [
        "# Lab B: The Basics of Python - Types and Variables!\n",
        "\n",
        "---"
      ]
    },
    {
      "cell_type": "markdown",
      "metadata": {
        "id": "cGiGTRiMDDE8"
      },
      "source": [
        "This lab was adapted from an IBM course (\"Python for Data Science\") on the Cognitive Class website. Thank you to the original author <a href=\"https://www.linkedin.com/in/joseph-s-50398b136/\" target=\"_blank\">Joseph Santarcangelo</a> who is a Data Scientist at IBM for creating the initial lab."
      ]
    },
    {
      "cell_type": "markdown",
      "metadata": {
        "id": "ljFAhH8xDDE8"
      },
      "source": [
        "The goal of this lab is to get you familiar with the basics of Python programming.  Read the lab very carefully, taking care to perform each task as indicated in the code blocks.  There is some overlap with Lab A, but I'm just trying to ease you in.\n"
      ]
    },
    {
      "cell_type": "markdown",
      "metadata": {
        "id": "RbtZpfBbDDE9"
      },
      "source": [
        "## NOTE: If You Get Overhelmed  \n",
        "\n",
        "You will get better with Python as you go through the course.  Just ask a lot of questions from me and your lab partner. If you start this lab and get overwhelmed, put on your headphones, watch these videos, and then retry the lab.  \n",
        "\n",
        "* [Cognitive Class Video on Expressions in Python](https://youtu.be/K7-oodBQM2o)\n",
        "\n",
        "* [Cognitive Class Video on Strings](https://youtu.be/D9yUVAmjLuc)\n",
        "\n",
        "## NOTE: Don't Abuse the Answers\n",
        "\n",
        "The answers to the exercises are embedded in this lab.  It would be a TERRIBLE idea to just look at the answer right away.  Try the question several times first.  If you're in the lab ask questions of your neighbors and me.  Look at the answer only when you think you have it right and want to check yourself.\n",
        "\n",
        "---"
      ]
    },
    {
      "cell_type": "markdown",
      "metadata": {
        "id": "VLI_bYfEDDE9"
      },
      "source": [
        "## 1. Say \"Hello\" to the world in Python"
      ]
    },
    {
      "cell_type": "markdown",
      "metadata": {
        "id": "V8k_rVnpDDE-"
      },
      "source": [
        "The first thing we always learn when programming is how to print out information to the screen.  This one line of code will ensure that we know how to print a string in output and how to execute code within cells in a notebook."
      ]
    },
    {
      "cell_type": "markdown",
      "metadata": {
        "id": "jlKAE46nDDE-"
      },
      "source": [
        "---\n",
        "\n",
        "<div class=\"alert alert-success alertsuccess\" style=\"margin-top: 20px\">\n",
        "[Tip]: To execute the Python code in the code cell below, use the run button aboce or click on the cell to select it and press <kbd>Shift</kbd> + <kbd>Enter</kbd>.  \n",
        "   <br/>\n",
        "       <br/>\n",
        "(FYI: <kbd>Control</kbd> + <kbd>Enter</kbd> also works!)\n",
        "</div>\n",
        "\n",
        "---"
      ]
    },
    {
      "cell_type": "code",
      "execution_count": null,
      "metadata": {
        "colab": {
          "base_uri": "https://localhost:8080/"
        },
        "id": "d5XGPTkdDDE_",
        "outputId": "9990c4cb-9ed4-4bb8-f473-08adb6418722"
      },
      "outputs": [
        {
          "output_type": "stream",
          "name": "stdout",
          "text": [
            "Hello, Students!\n"
          ]
        }
      ],
      "source": [
        "# Try your first Python output (Shift+Enter executes the cell)\n",
        "\n",
        "print('Hello, Students!')"
      ]
    },
    {
      "cell_type": "markdown",
      "metadata": {
        "id": "Xbz3C-czDDFA"
      },
      "source": [
        "<hr/>\n",
        "<div class=\"alert alert-success alertsuccess\" style=\"margin-top: 20px\">\n",
        "    [Tip:] <code>print()</code> is a function. You passed the string <code>'Hello, Python!'</code> as an argument to instruct Python on what to print.\n",
        "</div>\n",
        "<hr/>"
      ]
    },
    {
      "cell_type": "markdown",
      "metadata": {
        "id": "iCE1ugdRDDFA"
      },
      "source": [
        "<h2 id=\"comments\">2. Writing comments in Python</h2>"
      ]
    },
    {
      "cell_type": "markdown",
      "metadata": {
        "id": "RKmyYMMHDDFA"
      },
      "source": [
        "We often want to write comments in our code cells, just to explain what the code is doing.\n",
        "\n",
        "To write comments in Python, use the hashtag symbol ``#`` before writing your comment. When you run your code, Python will ignore everything past the ``#`` on a given line.\n"
      ]
    },
    {
      "cell_type": "code",
      "execution_count": null,
      "metadata": {
        "colab": {
          "base_uri": "https://localhost:8080/"
        },
        "id": "1bs6sKNmDDFA",
        "outputId": "aa889b00-f762-4ce8-e185-5cf5220613a3"
      },
      "outputs": [
        {
          "output_type": "stream",
          "name": "stdout",
          "text": [
            "Hello, Python!\n"
          ]
        }
      ],
      "source": [
        "# Run this cell (Remember: Shift+Enter executes the cell)\n",
        "\n",
        "print('Hello, Python!') # This line prints a string\n",
        "# print('Hi')  -  Do you see this printed out?"
      ]
    },
    {
      "cell_type": "markdown",
      "metadata": {
        "id": "Qx7BsO-zDDFB"
      },
      "source": [
        "<hr/>\n",
        "<h2 id=\"errors\">3. Errors in Python</h2>"
      ]
    },
    {
      "cell_type": "markdown",
      "metadata": {
        "id": "pCfafUP_DDFB"
      },
      "source": [
        "<p>Python let's you know when you make certain types of mistake.  You should read the error message you are given to determine WHERE the mistake is and how you may correct it.</p>"
      ]
    },
    {
      "cell_type": "code",
      "execution_count": null,
      "metadata": {
        "colab": {
          "base_uri": "https://localhost:8080/"
        },
        "id": "qbx9Lty0DDFB",
        "outputId": "cf116843-09df-4d0d-fee3-c31234e6d076"
      },
      "outputs": [
        {
          "output_type": "stream",
          "name": "stdout",
          "text": [
            "Hello, Python!\n"
          ]
        }
      ],
      "source": [
        "# Run this cell to see the error. (Shift+Enter executes the cell.)\n",
        "\n",
        "#Print is not spelled correctly: uh-oh!\n",
        "print(\"Hello, Python!\")"
      ]
    },
    {
      "cell_type": "markdown",
      "metadata": {
        "id": "v8vjR9vwDDFB"
      },
      "source": [
        "Syntax is incredibly important in Python and any coding language.  For example, whenever you want to print TEXT from a code cell, the TEXT must START AND END in with a quote.  Note that the computer science word for TEXT is **STRING**."
      ]
    },
    {
      "cell_type": "code",
      "execution_count": null,
      "metadata": {
        "colab": {
          "base_uri": "https://localhost:8080/"
        },
        "id": "Hd3im772DDFB",
        "outputId": "f945c049-01d5-451b-e15d-e5626e23745d"
      },
      "outputs": [
        {
          "output_type": "stream",
          "name": "stdout",
          "text": [
            "Hello, Python!\n"
          ]
        }
      ],
      "source": [
        "# Run this cell to see the error. (Remember: Shift+Enter executes the cell)\n",
        "\n",
        "print(\"Hello, Python!\")"
      ]
    },
    {
      "cell_type": "markdown",
      "metadata": {
        "id": "nF-iUyvADDFB"
      },
      "source": [
        "To help you, the notebook shows all strings in red.    \n",
        "\n",
        "In the code block above, the coder forgot the second quote, so the notebook thinks the second parenthesis is considered part of the text and is thus is colored RED.  \n",
        "\n",
        "If you add the ending quote, the second parenthesis will turn back to black.  This means that the parenthesis is now recognized as code to end the print function."
      ]
    },
    {
      "cell_type": "markdown",
      "metadata": {
        "id": "rCLVetQADDFC"
      },
      "source": [
        "### Watch this video to listen to me explain the red error output above.\n",
        "\n",
        "[Video Explaining these errors - Click here.](https://desales.hosted.panopto.com/Panopto/Pages/Viewer.aspx?id=505351e2-52bf-4c35-89df-acc600e3534b)"
      ]
    },
    {
      "cell_type": "markdown",
      "metadata": {
        "id": "NWeWGzL3DDFC"
      },
      "source": [
        "---\n",
        "## **Question 3A!!!!!!!!!!!!!!!!!!!**\n",
        "\n",
        "Fix the errors in the above 2 code cells so that they run without errors.\n",
        "\n",
        "---"
      ]
    },
    {
      "cell_type": "markdown",
      "metadata": {
        "id": "m5KLeMFiDDFC"
      },
      "source": [
        "### Does Python know about your error before it runs your code?"
      ]
    },
    {
      "cell_type": "markdown",
      "metadata": {
        "id": "aXvMdopfDDFC"
      },
      "source": [
        "Python is what is called an <em>interpreted language</em> which means Python interprets your script line by line as it executes it.  So Python will stop executing the entire program once it encounters an error.  \n",
        "\n",
        "As a comparison, there are languages called <em> compiled languages</em> which examine your entire program at compile time, and are able to warn you about a whole class of errors prior to execution."
      ]
    },
    {
      "cell_type": "code",
      "execution_count": null,
      "metadata": {
        "colab": {
          "base_uri": "https://localhost:8080/"
        },
        "id": "8YAEBkPmDDFC",
        "outputId": "40b03b64-298a-4ccf-ae92-cd2ab05d0948"
      },
      "outputs": [
        {
          "output_type": "stream",
          "name": "stdout",
          "text": [
            "This will be printed\n",
            "This will cause an error\n",
            "This will NOT be printed\n"
          ]
        }
      ],
      "source": [
        "# Print string and error to see the running order.  Notice which\n",
        "#statements are printed and which are not.\n",
        "\n",
        "print(\"This will be printed\")\n",
        "print(\"This will cause an error\")  #Error here: pint instead of print - This line will therefore not print.\n",
        "print(\"This will NOT be printed\") #Do you see this printed out?"
      ]
    },
    {
      "cell_type": "markdown",
      "metadata": {
        "id": "Fruh-Sp4DDFC"
      },
      "source": [
        "You should have noticed that only the first line is printed out above.  Because the second has an error, neither the second nor third line completes its print."
      ]
    },
    {
      "cell_type": "markdown",
      "metadata": {
        "id": "zASt-sIYDDFC"
      },
      "source": [
        "---\n",
        "## **Question 3B!!!!!!!!!!!!!!!!!!!**"
      ]
    },
    {
      "cell_type": "markdown",
      "metadata": {
        "id": "Ljv0mIQmDDFD"
      },
      "source": [
        "<p>In the code cell below, use the <code>print()</code> function 3 times to print out your name, major, and hometown.  For example, Joe Biden would print out the following.</p>\n",
        "<code>Joe Biden\n",
        "History and Political Science\n",
        "Scranton, PA</code>"
      ]
    },
    {
      "cell_type": "code",
      "execution_count": null,
      "metadata": {
        "colab": {
          "base_uri": "https://localhost:8080/"
        },
        "id": "C7c8paXfDDFD",
        "outputId": "ae4a0211-d12f-473b-a74a-9ebc07decdbf"
      },
      "outputs": [
        {
          "output_type": "stream",
          "name": "stdout",
          "text": [
            "Brandon Rank\n",
            "Accounting\n",
            "Center Valley, PA\n"
          ]
        }
      ],
      "source": [
        "# Write your code below and press Shift+Enter to execute\n",
        "print(\"Brandon Rank\")\n",
        "print(\"Accounting\")\n",
        "print(\"Center Valley, PA\")"
      ]
    },
    {
      "cell_type": "markdown",
      "metadata": {
        "id": "MFZzBXiGDDFD"
      },
      "source": [
        "Double-click __here__ for the solution.\n",
        "\n",
        "<!-- Joe Biden would have typed the following code:\n",
        "\n",
        "print(\"Joe Biden\")\n",
        "print(\"History and Political Science\")\n",
        "print(\"Scranton, PA\")\n",
        "\n",
        "-->\n",
        "<hr/>"
      ]
    },
    {
      "cell_type": "markdown",
      "metadata": {
        "id": "vylQJvoyDDFD"
      },
      "source": [
        "<h2 id=\"python_error\">4. New Line Characters:  Using one print statement to write on multiple lines</h2>"
      ]
    },
    {
      "cell_type": "markdown",
      "metadata": {
        "id": "TKgzjVH7DDFD"
      },
      "source": [
        "You may think you have to write 3 print statements to print the statement below.  \n",
        "\n",
        "<code>\n",
        "A\n",
        "B\n",
        "C\n",
        "</code>"
      ]
    },
    {
      "cell_type": "markdown",
      "metadata": {
        "id": "LwcnnGZXDDFD"
      },
      "source": [
        "<br/>\n",
        "\n",
        "However, we can instead use \\\\n within a STRING to print a line break.  Using \\\\n within a string means \\\"please insert a newline here\\\"."
      ]
    },
    {
      "cell_type": "code",
      "execution_count": null,
      "metadata": {
        "colab": {
          "base_uri": "https://localhost:8080/"
        },
        "id": "ea1gpGYwDDFD",
        "outputId": "897eaa81-ebdd-4c9d-9d81-6b22a7ea20a3"
      },
      "outputs": [
        {
          "output_type": "stream",
          "name": "stdout",
          "text": [
            "A\n",
            "B\n",
            "C\n"
          ]
        }
      ],
      "source": [
        "#The following prints the characters A, B, and C on its own line.  Try it! (Remember: Shift+Enter executes the cell)\n",
        "\n",
        "print(\"A\\nB\\nC\")"
      ]
    },
    {
      "cell_type": "markdown",
      "metadata": {
        "id": "MhKZEjcsDDFD"
      },
      "source": [
        "---\n",
        "## **Question 4!!!!!!!!!!!!!!!!!!!**\n",
        "    "
      ]
    },
    {
      "cell_type": "markdown",
      "metadata": {
        "id": "wfaUX4LbDDFE"
      },
      "source": [
        "<p>Print the following using ONE print statement with NEWLINE characters.</p>\n",
        "<code>Joe Biden\n",
        "History and Political Science\n",
        "Scranton, PA</code>"
      ]
    },
    {
      "cell_type": "code",
      "execution_count": null,
      "metadata": {
        "colab": {
          "base_uri": "https://localhost:8080/"
        },
        "id": "Y45RpNa_DDFE",
        "outputId": "871e4eed-6dd2-4846-8c34-c8e9af812f30"
      },
      "outputs": [
        {
          "output_type": "stream",
          "name": "stdout",
          "text": [
            "Joe Biden\n",
            "History and Political Science\n",
            "Scranton, PA\n"
          ]
        }
      ],
      "source": [
        "#Write your code here and run the cell to test it.  (Remember: Shift+Enter executes the cell)\n",
        "print(\"Joe Biden\\nHistory and Political Science\\nScranton, PA\")"
      ]
    },
    {
      "cell_type": "markdown",
      "metadata": {
        "id": "F24-pMahDDFE"
      },
      "source": [
        "Double-click __here__ for the solution.\n",
        "\n",
        "<!-- Joe Biden would have typed the following code:\n",
        "\n",
        "print(\"Joe Biden\\nHistory and Political Science\\nScranton, PA\")\n",
        "\n",
        "-->"
      ]
    },
    {
      "cell_type": "markdown",
      "metadata": {
        "id": "nQ-11xgNDDFE"
      },
      "source": [
        "<hr>"
      ]
    },
    {
      "cell_type": "markdown",
      "metadata": {
        "id": "ky1spEUODDFE"
      },
      "source": [
        "<h2 id=\"types_objects\">5. Numbers</h2>"
      ]
    },
    {
      "cell_type": "markdown",
      "metadata": {
        "id": "Yo4Q_85TDDFE"
      },
      "source": [
        "Quantitative information arises everywhere in data science. In addition to representing commands to print out lines, expressions can represent numbers and methods of combining numbers. The expression `3.2500` evaluates to the number 3.25. (Run the cell and see.)"
      ]
    },
    {
      "cell_type": "code",
      "execution_count": null,
      "metadata": {
        "jupyter": {
          "outputs_hidden": false
        },
        "colab": {
          "base_uri": "https://localhost:8080/"
        },
        "id": "X5WZKtOhDDFE",
        "outputId": "46a5bf54-e99b-4360-d9c3-f29d017bf6b0"
      },
      "outputs": [
        {
          "output_type": "execute_result",
          "data": {
            "text/plain": [
              "3.25"
            ]
          },
          "metadata": {},
          "execution_count": 13
        }
      ],
      "source": [
        "3.2500"
      ]
    },
    {
      "cell_type": "markdown",
      "metadata": {
        "id": "Tct7AipDDDFE"
      },
      "source": [
        "Notice that we didn't have to use the `print` function to print anything to the screen.  When you run a notebook cell, if the last line has a value, then the Jupyter notebook automatically prints out that value for you. However, it won't print out prior lines automatically."
      ]
    },
    {
      "cell_type": "code",
      "execution_count": null,
      "metadata": {
        "jupyter": {
          "outputs_hidden": false
        },
        "scrolled": true,
        "colab": {
          "base_uri": "https://localhost:8080/"
        },
        "id": "rmqFew3JDDFE",
        "outputId": "8520b1eb-7dd2-4377-8298-d5293a0954e7"
      },
      "outputs": [
        {
          "output_type": "stream",
          "name": "stdout",
          "text": [
            "2\n"
          ]
        },
        {
          "output_type": "execute_result",
          "data": {
            "text/plain": [
              "4"
            ]
          },
          "metadata": {},
          "execution_count": 3
        }
      ],
      "source": [
        "#Run this cell and see what does and does not print\n",
        "print(2)\n",
        "3\n",
        "4"
      ]
    },
    {
      "cell_type": "markdown",
      "metadata": {
        "id": "6LXb5kjiDDFF"
      },
      "source": [
        "Above, you should have noticed that:\n",
        "\n",
        "* 4 is the value of the last expression and is thus printed\n",
        "* 2 is printed because you specified this with the \"print\" command,\n",
        "* but 3 is lost forever because it did not appear in a ``print`` statement nor was it the last value in the cell.\n",
        "\n"
      ]
    },
    {
      "cell_type": "markdown",
      "metadata": {
        "id": "1jdft7caDDFF"
      },
      "source": [
        "---\n",
        "## **Question 5!!!!!!!!!!!!!!!!!!!**\n",
        "    \n",
        "Run the code below and verify that only the 9 will print out. Update the code so that the number on each of the lines is printed."
      ]
    },
    {
      "cell_type": "code",
      "execution_count": null,
      "metadata": {
        "colab": {
          "base_uri": "https://localhost:8080/"
        },
        "id": "G8Ni9LhCDDFF",
        "outputId": "5eb5e5c9-9732-482a-c501-fbe3b49a5354"
      },
      "outputs": [
        {
          "output_type": "stream",
          "name": "stdout",
          "text": [
            "7\n",
            "8\n"
          ]
        },
        {
          "output_type": "execute_result",
          "data": {
            "text/plain": [
              "9"
            ]
          },
          "metadata": {},
          "execution_count": 17
        }
      ],
      "source": [
        "print(\"7\")\n",
        "print(\"8\")\n",
        "9"
      ]
    },
    {
      "cell_type": "markdown",
      "metadata": {
        "id": "z-t2YQogDDFF"
      },
      "source": [
        "Double-click __here__ for the solution.\n",
        "\n",
        "<!--\n",
        "\n",
        "print(\"7\")\n",
        "print(\"8\")\n",
        "9\n",
        "\n",
        "OR YOU COULD DO:\n",
        "\n",
        "print(\"7\\n8\")\n",
        "9\n",
        "\n",
        "OR\n",
        "\n",
        "print(\"7\\n8\\n9\")\n",
        "\n",
        "-->\n",
        "<hr/>"
      ]
    },
    {
      "cell_type": "markdown",
      "metadata": {
        "id": "p71iqYo2DDFF"
      },
      "source": [
        "## 6. Names\n",
        "In natural language, we have terminology that lets us quickly reference very complicated concepts.  We don't say, \"That's a large mammal with brown fur and sharp teeth!\"  Instead, we just say, \"Bear!\"\n",
        "\n",
        "Similarly, an effective strategy for writing code is to define names for data as we compute it, like a lawyer would define terms for complex ideas at the start of a legal document.\n",
        "\n",
        "In Python, we do this with *assignment statements*. An assignment statement has a name on the left side of an `=` sign and an expression to be evaluated on the right."
      ]
    },
    {
      "cell_type": "code",
      "execution_count": null,
      "metadata": {
        "jupyter": {
          "outputs_hidden": false
        },
        "id": "Ux9kpUL4DDFF"
      },
      "outputs": [],
      "source": [
        "#Run this cell\n",
        "ten = 3 * 2 + 4"
      ]
    },
    {
      "cell_type": "markdown",
      "metadata": {
        "id": "NS-7SLJZDDFF"
      },
      "source": [
        "When you run that cell, Python first evaluates the first line.  It computes the value of the expression `3 * 2 + 4`, which is the number 10.  Then it gives that value the name `ten`.  At that point, the code in the cell is done running.\n",
        "\n",
        "After you run that cell, the value 10 is bound to the name `ten`:"
      ]
    },
    {
      "cell_type": "code",
      "execution_count": null,
      "metadata": {
        "jupyter": {
          "outputs_hidden": false
        },
        "colab": {
          "base_uri": "https://localhost:8080/"
        },
        "id": "b46eoGkbDDFF",
        "outputId": "b0c39155-1379-4644-af8f-5afb6615c0e0"
      },
      "outputs": [
        {
          "output_type": "execute_result",
          "data": {
            "text/plain": [
              "10"
            ]
          },
          "metadata": {},
          "execution_count": 19
        }
      ],
      "source": [
        "#Run this cell now and see what happens\n",
        "ten"
      ]
    },
    {
      "cell_type": "markdown",
      "metadata": {
        "id": "EB1Ir-DFDDFG"
      },
      "source": [
        "The statement `ten = 3 * 2 + 4` is not asserting that `ten` is already equal to `3 * 2 + 4`, as we might expect by analogy with math notation.  Rather, that line of code changes what `ten` means; it now refers to the value 10, whereas before it meant nothing at all.\n",
        "\n",
        "If the designers of Python had been ruthlessly pedantic, they might have made us write:\n",
        "\n",
        "    define the name ten to hereafter have the value of 3 * 2 + 4\n",
        "\n",
        "instead to accomplish the same thing.  You will probably appreciate the brevity of \"`=`\"!  But keep in mind that this is the real meaning.\n",
        "\n",
        "---\n",
        "## **Question 6A!!!!!!!!!!!!!!!!!!!**\n",
        "    \n",
        "Try writing code in the cell below that uses a name (like `foo` or `eleven`) that hasn't been assigned to anything.  You'll see an error!"
      ]
    },
    {
      "cell_type": "code",
      "execution_count": null,
      "metadata": {
        "colab": {
          "base_uri": "https://localhost:8080/",
          "height": 183
        },
        "id": "Fz4tHg6lDDFG",
        "outputId": "98312410-4e6c-4e05-d532-dcc96731a872"
      },
      "outputs": [
        {
          "output_type": "error",
          "ename": "NameError",
          "evalue": "ignored",
          "traceback": [
            "\u001b[0;31m---------------------------------------------------------------------------\u001b[0m",
            "\u001b[0;31mNameError\u001b[0m                                 Traceback (most recent call last)",
            "\u001b[0;32m<ipython-input-20-416cb72fe09a>\u001b[0m in \u001b[0;36m<module>\u001b[0;34m\u001b[0m\n\u001b[1;32m      1\u001b[0m \u001b[0;31m#Write your code here\u001b[0m\u001b[0;34m\u001b[0m\u001b[0;34m\u001b[0m\u001b[0;34m\u001b[0m\u001b[0m\n\u001b[0;32m----> 2\u001b[0;31m \u001b[0meleven\u001b[0m\u001b[0;34m\u001b[0m\u001b[0;34m\u001b[0m\u001b[0m\n\u001b[0m",
            "\u001b[0;31mNameError\u001b[0m: name 'eleven' is not defined"
          ]
        }
      ],
      "source": [
        "#Write your code here\n",
        "eleven"
      ]
    },
    {
      "cell_type": "markdown",
      "metadata": {
        "id": "3ZrSkyLyDDFG"
      },
      "source": [
        "<hr>\n",
        "\n",
        "A common pattern in Jupyter notebooks is to assign a value to a name and then immediately evaluate the name in the last line in the cell so that the value is displayed as output."
      ]
    },
    {
      "cell_type": "code",
      "execution_count": null,
      "metadata": {
        "jupyter": {
          "outputs_hidden": false
        },
        "colab": {
          "base_uri": "https://localhost:8080/"
        },
        "id": "D3_G6D97DDFG",
        "outputId": "4308ff97-92a2-4b80-8d3e-61219a880a91"
      },
      "outputs": [
        {
          "output_type": "execute_result",
          "data": {
            "text/plain": [
              "3.1415929203539825"
            ]
          },
          "metadata": {},
          "execution_count": 4
        }
      ],
      "source": [
        "#Run this cell and see what happens!\n",
        "\n",
        "close_to_pi = 355/113\n",
        "close_to_pi"
      ]
    },
    {
      "cell_type": "markdown",
      "metadata": {
        "id": "Diit5PSVDDFG"
      },
      "source": [
        "FYI:  We often refer to close_to_pi as a variable.  It is a variable that stores the value ``3.1415929203539825...``.\n",
        "\n",
        "Another common pattern is that a series of lines in a single cell will build up a complex computation in stages, naming the intermediate results."
      ]
    },
    {
      "cell_type": "code",
      "execution_count": null,
      "metadata": {
        "jupyter": {
          "outputs_hidden": false
        },
        "colab": {
          "base_uri": "https://localhost:8080/"
        },
        "id": "TbYO9Ir4DDFG",
        "outputId": "b4f9169e-b6c5-4f42-a742-57a3d8767e70"
      },
      "outputs": [
        {
          "output_type": "execute_result",
          "data": {
            "text/plain": [
              "20160"
            ]
          },
          "metadata": {},
          "execution_count": 5
        }
      ],
      "source": [
        "#Run this cell and see what happens!\n",
        "\n",
        "bimonthly_salary = 840\n",
        "\n",
        "monthly_salary = 2 * bimonthly_salary   #monthly_salary is a variable name that holds an intermediate results\n",
        "\n",
        "number_of_months_in_a_year = 12\n",
        "\n",
        "yearly_salary = number_of_months_in_a_year * monthly_salary\n",
        "\n",
        "yearly_salary        #yearly_salary is a variable name that holds the final result of interest"
      ]
    },
    {
      "cell_type": "markdown",
      "metadata": {
        "id": "n-pDdMArDDFG"
      },
      "source": [
        "Variable names in Python can have letters (upper- and lower-case letters are both okay and count as different letters), underscores, and numbers.  The first character can't be a number (otherwise a name might look like a number).\n",
        "\n",
        "Other than those rules, what you name something doesn't matter *to Python*.  For example, this cell does the same thing as the above cell, except everything has a different name:"
      ]
    },
    {
      "cell_type": "code",
      "execution_count": null,
      "metadata": {
        "jupyter": {
          "outputs_hidden": false
        },
        "colab": {
          "base_uri": "https://localhost:8080/"
        },
        "id": "O4RlKIvZDDFG",
        "outputId": "1ff429ac-0cdd-4a51-96d5-b24a57aa90d6"
      },
      "outputs": [
        {
          "output_type": "execute_result",
          "data": {
            "text/plain": [
              "20160"
            ]
          },
          "metadata": {},
          "execution_count": 23
        }
      ],
      "source": [
        "a = 840\n",
        "b = 2 * a\n",
        "c = 12\n",
        "d = c * b\n",
        "d"
      ]
    },
    {
      "cell_type": "markdown",
      "metadata": {
        "id": "yXKcOw51DDFH"
      },
      "source": [
        "**HOWEVER**, names are very important for making your code *readable* to yourself and others.  The cell above is shorter, but it's totally useless without an explanation of what it does.\n",
        "\n",
        "According to a famous joke among computer scientists, naming things is one of the two hardest problems in computer science.  \n",
        "\n",
        "(The other two are cache invalidation and \"off-by-one\" errors.  And people say computer scientists have an odd sense of humor...)"
      ]
    },
    {
      "cell_type": "markdown",
      "metadata": {
        "id": "R_pmJmCIDDFH"
      },
      "source": [
        "---\n",
        "\n",
        "## **Question 6B!!!!!!!!!!!!!!!!!!!**\n",
        "\n",
        "Assign the name `seconds_in_a_decade` to the number of seconds between midnight January 1, 2010 and midnight January 1, 2020."
      ]
    },
    {
      "cell_type": "markdown",
      "metadata": {
        "id": "2BOr9werDDFH"
      },
      "source": [
        "<span style=\"color:red\">DO THIS WITHOUT USING ANY TYPE OF CALCULATOR/GOOGLE.</span> The point is for you to start using Jupyter Notebooks and Python as a calculator.  "
      ]
    },
    {
      "cell_type": "code",
      "execution_count": null,
      "metadata": {
        "jupyter": {
          "outputs_hidden": false
        },
        "colab": {
          "base_uri": "https://localhost:8080/"
        },
        "id": "Ge7f3nkbDDFH",
        "outputId": "9fda87a9-d94d-4551-f2c2-cfd14eda3f1c"
      },
      "outputs": [
        {
          "output_type": "execute_result",
          "data": {
            "text/plain": [
              "315360000"
            ]
          },
          "metadata": {},
          "execution_count": 24
        }
      ],
      "source": [
        "# Change the next line so that it computes the number of\n",
        "# seconds in a decade and assigns that number the name\n",
        "# seconds_in_a_decade.\n",
        "seconds_in_a_decade = (2020-2010) * 365 * 24 * 60 * 60\n",
        "\n",
        "# We've put this line in this cell so that it will print\n",
        "# the value you've given to seconds_in_a_decade when you\n",
        "# run it.  You don't need to change this.\n",
        "seconds_in_a_decade"
      ]
    },
    {
      "cell_type": "markdown",
      "metadata": {
        "id": "w2WUyqlODDFH"
      },
      "source": [
        "<hr>\n",
        "\n",
        "<h2 id=\"types_objects\">7. Variables and Their Types</h2>\n",
        "\n",
        "We used the word \"names\" above to describe english words that refer to values.  However, as mentioned beforehand, just like you did in math class, we use the term \"variables\" to refer to \"names\".\n",
        "\n",
        "Variables can have many different types.  Often we are working with INTEGERS, FLOATS, or STRINGS.\n",
        "<ul>\n",
        "<li>Whole numbers are refered to as INTEGERS: 10, 15, 318.</li>\n",
        "<li>Numbers with decimals are referred to as FLOATS: 3.1415926, 2.58, 101.3.</li>\n",
        "<li>Another important type is STRING.  A string is just a word or a series of letters, like \"HOWDY\" or \"Python\" or \"What?!!\".</li>\n",
        "</ul>"
      ]
    },
    {
      "cell_type": "markdown",
      "metadata": {
        "id": "avjqpAljDDFH"
      },
      "source": [
        "**Directions:**  Execute the cells below (shift + enter) to see what is printed out.  "
      ]
    },
    {
      "cell_type": "code",
      "execution_count": null,
      "metadata": {
        "colab": {
          "base_uri": "https://localhost:8080/"
        },
        "id": "kxAKm-8aDDFH",
        "outputId": "ce60d5f5-a2f8-42b8-b9e6-8316d7262218"
      },
      "outputs": [
        {
          "output_type": "stream",
          "name": "stdout",
          "text": [
            "7\n",
            "<class 'int'>\n"
          ]
        }
      ],
      "source": [
        "#Here we create an integer variable/name\n",
        "x = 7\n",
        "print(x)\n",
        "\n",
        " #The type function tells us the type of variable that x is.\n",
        "print(type(x))"
      ]
    },
    {
      "cell_type": "markdown",
      "metadata": {
        "id": "oQFxeo4cDDFH"
      },
      "source": [
        "You should have seen ``<class 'int'>`` print out as part of the output.  That tells us that the variable ``x`` is seen as an integer."
      ]
    },
    {
      "cell_type": "code",
      "execution_count": null,
      "metadata": {
        "colab": {
          "base_uri": "https://localhost:8080/"
        },
        "id": "3ggog1rSDDFH",
        "outputId": "7c155470-0762-4e65-8135-311e8147216a"
      },
      "outputs": [
        {
          "output_type": "stream",
          "name": "stdout",
          "text": [
            "3.14\n",
            "<class 'float'>\n"
          ]
        }
      ],
      "source": [
        "#Here we create a float variable and print its type.\n",
        "y = 3.14\n",
        "print(y)\n",
        "print(type(y))\n"
      ]
    },
    {
      "cell_type": "markdown",
      "metadata": {
        "id": "5eYfmog0DDFI"
      },
      "source": [
        "You should have seen ``<class 'float'>`` print out as part of the output above.  That tells us that the variable ``y`` is seen as number with decimal values."
      ]
    },
    {
      "cell_type": "code",
      "execution_count": null,
      "metadata": {
        "colab": {
          "base_uri": "https://localhost:8080/"
        },
        "id": "V_DBtQnuDDFI",
        "outputId": "c3739176-d3bd-46a3-f2f4-4d8ed7855d5b"
      },
      "outputs": [
        {
          "output_type": "stream",
          "name": "stdout",
          "text": [
            "DeSales MACS department rocks!\n",
            "<class 'str'>\n"
          ]
        }
      ],
      "source": [
        "#Here we create a string variable and print its type\n",
        "sentence = \"DeSales MACS department rocks!\"\n",
        "print(sentence)\n",
        "print(type(sentence))"
      ]
    },
    {
      "cell_type": "markdown",
      "metadata": {
        "id": "8486GkClDDFI"
      },
      "source": [
        "You should have seen ``<class 'str'>`` print out as part of the output above.  That tells us that the variable ``sentence`` is seen as a string or text."
      ]
    },
    {
      "cell_type": "markdown",
      "metadata": {
        "id": "0tA7hvN9DDFI"
      },
      "source": [
        "## One note on strings:  \n",
        "\n",
        "* In Python, it does not matter whether you use single quotes or double quotes to create strings."
      ]
    },
    {
      "cell_type": "code",
      "execution_count": null,
      "metadata": {
        "colab": {
          "base_uri": "https://localhost:8080/"
        },
        "id": "7Qaaz-08DDFI",
        "outputId": "02944029-36ec-4b75-8ae4-4cb4c198b63d"
      },
      "outputs": [
        {
          "output_type": "stream",
          "name": "stdout",
          "text": [
            "<class 'str'>\n",
            "<class 'str'>\n"
          ]
        }
      ],
      "source": [
        "language1 = \"Spanish\"\n",
        "print(type(language1))   #language1 is a string\n",
        "\n",
        "language2 = 'Spanish'\n",
        "print(type(language2)) #Is language2 a string too?"
      ]
    },
    {
      "cell_type": "code",
      "execution_count": null,
      "metadata": {
        "colab": {
          "base_uri": "https://localhost:8080/"
        },
        "id": "osAVAimuDDFI",
        "outputId": "9b06a8b7-2005-41f5-f0e4-2e32bb15a8bf"
      },
      "outputs": [
        {
          "output_type": "stream",
          "name": "stdout",
          "text": [
            "Hello my friend!\n",
            "Hello my friend!\n"
          ]
        }
      ],
      "source": [
        "#Do these print statementes cause anything different to happen?\n",
        "print(\"Hello my friend!\")\n",
        "print('Hello my friend!')"
      ]
    },
    {
      "cell_type": "markdown",
      "metadata": {
        "id": "T6L6KJT_DDFI"
      },
      "source": [
        "So remember:  Whether you use single or double quotes to designate a string does not matter."
      ]
    },
    {
      "cell_type": "markdown",
      "metadata": {
        "id": "QGMKdiR3DDFI"
      },
      "source": [
        "\n",
        "<div class=\"alert alert-success alertsuccess\" style=\"margin-top: 20px\">\n",
        "    [Tip:] Note that strings can be represented with single quotes (<code>'cat'</code>) or double quotes (<code>\"cat\"</code>), but you can't mix both (e.g., <code>\"cat'</code>).\n",
        "</div>\n"
      ]
    },
    {
      "cell_type": "markdown",
      "metadata": {
        "id": "JJqTNHfIDDFJ"
      },
      "source": [
        "<hr/>\n",
        "<h2>8. Manipulating Variables</h2>\n",
        "\n",
        "<p>We can manipulate variables by adding/subtracting/multiplying/dividing them.</p>  "
      ]
    },
    {
      "cell_type": "markdown",
      "metadata": {
        "id": "EAQKELbmDDFJ"
      },
      "source": [
        "**Directions:** Guess what is printed out below. Then execute the cells to check your guess. (Remember: shift+enter executes the cell)"
      ]
    },
    {
      "cell_type": "code",
      "execution_count": null,
      "metadata": {
        "id": "eYbuzkKwDDFJ",
        "colab": {
          "base_uri": "https://localhost:8080/"
        },
        "outputId": "af1099dd-ee07-4609-a900-417a14839613"
      },
      "outputs": [
        {
          "output_type": "stream",
          "name": "stdout",
          "text": [
            "12\n"
          ]
        }
      ],
      "source": [
        "#Here are the length of 3 sides of a triangle\n",
        "triangle_side1 = 3;\n",
        "triangle_side2 = 4;\n",
        "triangle_side3 = 5;\n",
        "\n",
        "#computer the perimeter - add the sides!\n",
        "perimeter = triangle_side1 + triangle_side2 + triangle_side3\n",
        "\n",
        "#Print out the perimeter. Guess what is printed.\n",
        "print(perimeter)"
      ]
    },
    {
      "cell_type": "code",
      "execution_count": null,
      "metadata": {
        "id": "mYNLvH54DDFJ",
        "colab": {
          "base_uri": "https://localhost:8080/"
        },
        "outputId": "5e0a1041-7d6a-4d68-9b72-a187b880054d"
      },
      "outputs": [
        {
          "output_type": "stream",
          "name": "stdout",
          "text": [
            "30\n"
          ]
        }
      ],
      "source": [
        "#To multiply, we use the \"*\" symbol\n",
        "\n",
        "a = 3\n",
        "b =  10\n",
        "print(a * b)  #what is printed out?"
      ]
    },
    {
      "cell_type": "code",
      "execution_count": null,
      "metadata": {
        "id": "hfMtL8kaDDFJ",
        "colab": {
          "base_uri": "https://localhost:8080/"
        },
        "outputId": "c58143a4-3673-4ecf-d7a1-3959771c1564"
      },
      "outputs": [
        {
          "output_type": "stream",
          "name": "stdout",
          "text": [
            "30\n",
            "0.5\n"
          ]
        }
      ],
      "source": [
        "#Here's another example of manipulating variables.\n",
        "time_in_seconds = 30\n",
        "time_in_minutes = time_in_seconds / 60  #Divide seconds by 360 to convert to minutes.\n",
        "\n",
        "print(time_in_seconds)  #prints 30\n",
        "print(time_in_minutes)  #what should this print?   Run this code to see!\n"
      ]
    },
    {
      "cell_type": "markdown",
      "metadata": {
        "id": "Taf7WAexDDFJ"
      },
      "source": [
        "You can change the value of variables within your code.  In the example below, x starts at the value of 5 and then we change the value of x."
      ]
    },
    {
      "cell_type": "code",
      "execution_count": null,
      "metadata": {
        "id": "h_FMphvcDDFJ",
        "colab": {
          "base_uri": "https://localhost:8080/"
        },
        "outputId": "0725df4d-a9c2-42b2-c914-3cc07f4b70ad"
      },
      "outputs": [
        {
          "output_type": "stream",
          "name": "stdout",
          "text": [
            "5\n",
            "7\n"
          ]
        },
        {
          "output_type": "execute_result",
          "data": {
            "text/plain": [
              "11"
            ]
          },
          "metadata": {},
          "execution_count": 14
        }
      ],
      "source": [
        "#Here x is 5\n",
        "x = 5\n",
        "print(x)\n",
        "\n",
        "#Change the value of x and reprint.\n",
        "x = 7\n",
        "print(x)\n",
        "\n",
        "#What do you think the new value of x is with the code below?  Guess and run to find out!\n",
        "x = x + 4\n",
        "x"
      ]
    },
    {
      "cell_type": "markdown",
      "metadata": {
        "id": "yX-cD4L1DDFJ"
      },
      "source": [
        "\n",
        "We can also \"add\" strings!\n",
        "\n",
        "Doing so just combines the 2 strings into 1 longer string and this is called __STRING CONCATENATION__."
      ]
    },
    {
      "cell_type": "code",
      "execution_count": null,
      "metadata": {
        "id": "mNtslwhnDDFJ",
        "colab": {
          "base_uri": "https://localhost:8080/",
          "height": 35
        },
        "outputId": "b68c692d-7ea2-4184-8492-6e01a09eda3a"
      },
      "outputs": [
        {
          "output_type": "execute_result",
          "data": {
            "text/plain": [
              "'DeSalesUniversity'"
            ],
            "application/vnd.google.colaboratory.intrinsic+json": {
              "type": "string"
            }
          },
          "metadata": {},
          "execution_count": 15
        }
      ],
      "source": [
        "#Let's create 2 stings.\n",
        "word1 = \"DeSales\"\n",
        "word2 = \"University\"\n",
        "\n",
        "#And now we concatenate them by adding them - What will be printed?  Run the cell to see!\n",
        "bigger_word = word1 + word2\n",
        "bigger_word"
      ]
    },
    {
      "cell_type": "markdown",
      "metadata": {
        "id": "EMxD4zlrDDFK"
      },
      "source": [
        "Notice that no space was added between word1 and word2 above.  Let's fix that."
      ]
    },
    {
      "cell_type": "code",
      "execution_count": null,
      "metadata": {
        "id": "o6X8CcBBDDFK",
        "colab": {
          "base_uri": "https://localhost:8080/"
        },
        "outputId": "6102d3cc-1679-43f6-9832-75a88fd5c22b"
      },
      "outputs": [
        {
          "output_type": "stream",
          "name": "stdout",
          "text": [
            "DeSales University\n"
          ]
        }
      ],
      "source": [
        "#Now we concatenate the strings with a space in the middle.\n",
        "print(word1 + \" \" + word2)"
      ]
    },
    {
      "cell_type": "markdown",
      "metadata": {
        "id": "1Gjq2kWADDFK"
      },
      "source": [
        "So recapping:  String concatenation is the processing of just taking one string on to the end of another and is done by use a PLUS sign between strings."
      ]
    },
    {
      "cell_type": "markdown",
      "metadata": {
        "id": "MCHxehr_DDFK"
      },
      "source": [
        "---\n",
        "\n",
        "## **Question 8A!!!!!!!!!!!!!!!!!!!**\n"
      ]
    },
    {
      "cell_type": "markdown",
      "metadata": {
        "id": "jVwl5tnhDDFK"
      },
      "source": [
        "In the code block below, create a variable called yards which is equal to the value of the feet variable when it is converted to yards.  Then print the value of the yards variable."
      ]
    },
    {
      "cell_type": "code",
      "execution_count": null,
      "metadata": {
        "id": "Ze_nRnfXDDFK",
        "colab": {
          "base_uri": "https://localhost:8080/"
        },
        "outputId": "554b6adb-c6a8-403c-946c-97d8c0d941be"
      },
      "outputs": [
        {
          "output_type": "stream",
          "name": "stdout",
          "text": [
            "3.3333333333333335\n"
          ]
        }
      ],
      "source": [
        "feet = 10\n",
        "yards = feet / 3\n",
        "print(yards)\n",
        "\n",
        "\n",
        "#Create a variable called yards here\n",
        "\n",
        "#Print out the value of the yards variable here"
      ]
    },
    {
      "cell_type": "markdown",
      "metadata": {
        "id": "tx5RGApfDDFK"
      },
      "source": [
        "Double-click __here__ for the solution.\n",
        "\n",
        "<!--\n",
        "yards = feet / 3  #There are 3 feet in every yard\n",
        "print(yards)\n",
        "-->"
      ]
    },
    {
      "cell_type": "markdown",
      "metadata": {
        "id": "iFQG_jPEDDFK"
      },
      "source": [
        "---\n",
        "\n",
        "## **Question 8B!!!!!!!!!!!!!!!!!!!**\n",
        "\n",
        "The code cell below has two variables.  Use string concatenation to print out\n",
        "\"Philadelphia, PA\" (with the comma and spaces just like this) to the screen"
      ]
    },
    {
      "cell_type": "code",
      "execution_count": null,
      "metadata": {
        "id": "_3t9uSNaDDFK",
        "colab": {
          "base_uri": "https://localhost:8080/"
        },
        "outputId": "5e1016c3-7101-4f9b-d57d-f81919f6b68a"
      },
      "outputs": [
        {
          "output_type": "stream",
          "name": "stdout",
          "text": [
            "Philadelphia, PA\n"
          ]
        }
      ],
      "source": [
        "city = \"Philadelphia\"\n",
        "state = \"PA\"\n",
        "new_phrase = city + \", \" + state\n",
        "print(new_phrase)"
      ]
    },
    {
      "cell_type": "markdown",
      "metadata": {
        "id": "4evh-To0DDFK"
      },
      "source": [
        "Double-click __here__ for the solution.\n",
        "\n",
        "<!--\n",
        "new_phrase = city + \", \" + state\n",
        "print(new_phrase)\n",
        "-->"
      ]
    },
    {
      "cell_type": "markdown",
      "metadata": {
        "id": "tI7yuKGqDDFL"
      },
      "source": [
        " <hr/> <h2>9. Converting ints/floats to strings.</h2>\n",
        "    <p> Many times we have to convert one variable type to another. Here's one example to see why.</p>\n",
        "    "
      ]
    },
    {
      "cell_type": "markdown",
      "metadata": {
        "id": "KhudG_n0DDFL"
      },
      "source": [
        "Lets say we want to print the phrase \"The length of the wall is 10ft.\" We might hope that we can do this by concatenating the variable\n",
        "<code>feet</code> with the string abbreviation \"ft\".  Let's see what happens when we do this."
      ]
    },
    {
      "cell_type": "code",
      "execution_count": null,
      "metadata": {
        "id": "iuYgUGdQDDFL",
        "colab": {
          "base_uri": "https://localhost:8080/",
          "height": 200
        },
        "outputId": "7ac6b24e-4d00-43da-acb7-f1177ecea9de"
      },
      "outputs": [
        {
          "output_type": "error",
          "ename": "TypeError",
          "evalue": "ignored",
          "traceback": [
            "\u001b[0;31m---------------------------------------------------------------------------\u001b[0m",
            "\u001b[0;31mTypeError\u001b[0m                                 Traceback (most recent call last)",
            "\u001b[0;32m<ipython-input-24-bb5a01d15833>\u001b[0m in \u001b[0;36m<module>\u001b[0;34m\u001b[0m\n\u001b[1;32m      1\u001b[0m \u001b[0;31m#Run this code. It causes an error.  What does the error say?\u001b[0m\u001b[0;34m\u001b[0m\u001b[0;34m\u001b[0m\u001b[0;34m\u001b[0m\u001b[0m\n\u001b[1;32m      2\u001b[0m \u001b[0mfeet\u001b[0m \u001b[0;34m=\u001b[0m \u001b[0;36m10\u001b[0m\u001b[0;34m\u001b[0m\u001b[0;34m\u001b[0m\u001b[0m\n\u001b[0;32m----> 3\u001b[0;31m \u001b[0mprint\u001b[0m\u001b[0;34m(\u001b[0m\u001b[0;34m\"The length of the wall is \"\u001b[0m \u001b[0;34m+\u001b[0m \u001b[0mfeet\u001b[0m \u001b[0;34m+\u001b[0m \u001b[0;34m\"ft.\"\u001b[0m\u001b[0;34m)\u001b[0m\u001b[0;34m\u001b[0m\u001b[0;34m\u001b[0m\u001b[0m\n\u001b[0m",
            "\u001b[0;31mTypeError\u001b[0m: can only concatenate str (not \"int\") to str"
          ]
        }
      ],
      "source": [
        " #Run this code. It causes an error.  What does the error say?\n",
        "feet = 10\n",
        "print(\"The length of the wall is \" + feet + \"ft.\")"
      ]
    },
    {
      "cell_type": "markdown",
      "metadata": {
        "id": "bYkzWAZ3DDFL"
      },
      "source": [
        "The issue in the above code is that we can add number types together and we can add string types together (remember this is called string concatenation) but Python doesn't understand how to add an integer with a string. So we must convert the number to a string by using the str method, as shown in the next example."
      ]
    },
    {
      "cell_type": "code",
      "execution_count": null,
      "metadata": {
        "id": "M1IEPQikDDFL",
        "colab": {
          "base_uri": "https://localhost:8080/"
        },
        "outputId": "edd1ec15-75d6-498e-e3c5-68a32df53d7c"
      },
      "outputs": [
        {
          "output_type": "stream",
          "name": "stdout",
          "text": [
            "The length of the wall is 10ft.\n"
          ]
        }
      ],
      "source": [
        "print (\"The length of the wall is \" + str(feet) + \"ft.\")  #str is a function that converts feet (which is an integer) to a string\n",
        "                                                          #so that we can concatenate it with the surrounding text."
      ]
    },
    {
      "cell_type": "markdown",
      "metadata": {
        "id": "HXbCd190DDFL"
      },
      "source": [
        "---\n",
        "\n",
        "## **Question 9!!!!!!!!!!!!!!!!!!!**"
      ]
    },
    {
      "cell_type": "markdown",
      "metadata": {
        "id": "0YUWI6ZYDDFL"
      },
      "source": [
        "The code below creates an error.  Fix it so that the phrase \"42 seconds equals 0.7 minutes\" is printed out."
      ]
    },
    {
      "cell_type": "code",
      "execution_count": null,
      "metadata": {
        "id": "Fwpi7-LzDDFL",
        "colab": {
          "base_uri": "https://localhost:8080/"
        },
        "outputId": "c35f7a79-19c5-43cd-8dd3-1aca71559df8"
      },
      "outputs": [
        {
          "output_type": "stream",
          "name": "stdout",
          "text": [
            "42 seconds equals 0.7 minutes\n"
          ]
        }
      ],
      "source": [
        "time_in_seconds = 42\n",
        "time_in_minutes = time_in_seconds / 60  #Divide seconds by 60 to convert to minutes.\n",
        "\n",
        "print(str(time_in_seconds) + \" seconds equals \" + str(time_in_minutes) + \" minutes\")  #what should this print?   Run this code to see!"
      ]
    },
    {
      "cell_type": "markdown",
      "metadata": {
        "id": "vxEzb67wDDFL"
      },
      "source": [
        "Double-click __here__ for the solution.\n",
        "\n",
        "<!-- Joe Biden would have typed the following code:\n",
        "    \n",
        "print(str(time_in_seconds) + \" seconds equals \" + str(time_in_minutes) + \" minutes\")\n",
        "-->"
      ]
    },
    {
      "cell_type": "markdown",
      "metadata": {
        "id": "CnPkW_BeDDFL"
      },
      "source": [
        "<hr/>\n",
        "<div class=\"alert alert-success alertsuccess\" style=\"margin-top: 20px\">\n",
        "    [SUMMARY:] The str function casts numbers to strings. Example:  str(3.5).\n",
        "</div>\n",
        "<hr/>"
      ]
    },
    {
      "cell_type": "markdown",
      "metadata": {
        "id": "uiMsTZIrDDFM"
      },
      "source": [
        "<hr/><h2 id=\"convert\">10. Converting strings to ints/float.</h2>"
      ]
    },
    {
      "cell_type": "markdown",
      "metadata": {
        "id": "8yD5h-_EDDFM"
      },
      "source": [
        "<p>Sometimes, we can have a string that contains a number within it. If this is the case, we can cast that string that represents a number into an integer using <code>int()</code>:</p>"
      ]
    },
    {
      "cell_type": "code",
      "execution_count": null,
      "metadata": {
        "id": "qzgOe4qZDDFM",
        "colab": {
          "base_uri": "https://localhost:8080/"
        },
        "outputId": "56bc3822-cab7-44e7-839f-c7fea7c412ba"
      },
      "outputs": [
        {
          "output_type": "stream",
          "name": "stdout",
          "text": [
            "1\n",
            "<class 'int'>\n"
          ]
        }
      ],
      "source": [
        "# Convert a string into an integer\n",
        "\n",
        "x = int('1')\n",
        "print(x)\n",
        "print(type(x))\n",
        ""
      ]
    },
    {
      "cell_type": "markdown",
      "metadata": {
        "id": "yLLoKFuZDDFM"
      },
      "source": [
        "<p>But if you try to do so with a string that is not a perfect match for a number, you'll get an error. Try the following:</p>"
      ]
    },
    {
      "cell_type": "code",
      "execution_count": null,
      "metadata": {
        "id": "h2uzMbehDDFM",
        "colab": {
          "base_uri": "https://localhost:8080/",
          "height": 200
        },
        "outputId": "9427f42c-866a-4706-f649-7733b754efbe"
      },
      "outputs": [
        {
          "output_type": "error",
          "ename": "ValueError",
          "evalue": "ignored",
          "traceback": [
            "\u001b[0;31m---------------------------------------------------------------------------\u001b[0m",
            "\u001b[0;31mValueError\u001b[0m                                Traceback (most recent call last)",
            "\u001b[0;32m<ipython-input-29-b78145d165c7>\u001b[0m in \u001b[0;36m<module>\u001b[0;34m\u001b[0m\n\u001b[1;32m      1\u001b[0m \u001b[0;31m# Convert a string into an integer with error\u001b[0m\u001b[0;34m\u001b[0m\u001b[0;34m\u001b[0m\u001b[0;34m\u001b[0m\u001b[0m\n\u001b[1;32m      2\u001b[0m \u001b[0;34m\u001b[0m\u001b[0m\n\u001b[0;32m----> 3\u001b[0;31m \u001b[0mint\u001b[0m\u001b[0;34m(\u001b[0m\u001b[0;34m'1 or 2 people'\u001b[0m\u001b[0;34m)\u001b[0m\u001b[0;34m\u001b[0m\u001b[0;34m\u001b[0m\u001b[0m\n\u001b[0m",
            "\u001b[0;31mValueError\u001b[0m: invalid literal for int() with base 10: '1 or 2 people'"
          ]
        }
      ],
      "source": [
        "# Convert a string into an integer with error\n",
        "\n",
        "int('1 or 2 people')"
      ]
    },
    {
      "cell_type": "markdown",
      "metadata": {
        "id": "xndEeYfjDDFM"
      },
      "source": [
        "<p>You can also convert strings containing floating point numbers into <i>float</i> objects:</p>"
      ]
    },
    {
      "cell_type": "code",
      "execution_count": null,
      "metadata": {
        "id": "idZk7XnhDDFM",
        "colab": {
          "base_uri": "https://localhost:8080/"
        },
        "outputId": "d015ec9d-10ec-4d98-f8af-48ec9529ffa5"
      },
      "outputs": [
        {
          "output_type": "stream",
          "name": "stdout",
          "text": [
            "<class 'float'>\n"
          ]
        }
      ],
      "source": [
        "# Convert the string \"1.2\" into a float\n",
        "\n",
        "x = float('1.2')\n",
        "print(type(x))"
      ]
    },
    {
      "cell_type": "markdown",
      "metadata": {
        "id": "AMchr8QgDDFM"
      },
      "source": [
        "<p>You can change the type of the object in Python; this is called typecasting. For example, you can convert an <i>integer</i> into a <i>float</i> (e.g. 2 to 2.0).</p>"
      ]
    },
    {
      "cell_type": "code",
      "execution_count": null,
      "metadata": {
        "id": "_l0AnvktDDFM",
        "colab": {
          "base_uri": "https://localhost:8080/"
        },
        "outputId": "e1b8a3c3-2dbb-41dc-8a88-804f47e37fa7"
      },
      "outputs": [
        {
          "output_type": "stream",
          "name": "stdout",
          "text": [
            "5\n",
            "5.0\n"
          ]
        }
      ],
      "source": [
        "#The variable x is an integer.\n",
        "x = 5\n",
        "\n",
        "#Cast it to a float.\n",
        "y = float(x)\n",
        "\n",
        "#What is different about the results of these 2 print statements?\n",
        "print(x)\n",
        "print(y)"
      ]
    },
    {
      "cell_type": "markdown",
      "metadata": {
        "id": "jXJz2RlnDDFM"
      },
      "source": [
        "<p>When we convert an integer into a float, we don't really change the value (i.e., the significand) of the number. However, if we cast a float into an integer, we could potentially lose some information. For example, if we cast the float 1.1 to integer we will get 1 and lose the decimal information (i.e., 0.1):</p>"
      ]
    },
    {
      "cell_type": "code",
      "execution_count": null,
      "metadata": {
        "id": "rGUYK7eRDDFM",
        "colab": {
          "base_uri": "https://localhost:8080/"
        },
        "outputId": "c14513e9-4ae6-4e21-e0fa-2f677b16cccd"
      },
      "outputs": [
        {
          "output_type": "stream",
          "name": "stdout",
          "text": [
            "1.1\n",
            "1\n"
          ]
        }
      ],
      "source": [
        "# Casting 1.1 to integer will result in loss of information\n",
        "\n",
        "x = 1.1\n",
        "y = int(x)\n",
        "\n",
        "#Guess what is printed below.\n",
        "print(x)\n",
        "print(y)"
      ]
    },
    {
      "cell_type": "markdown",
      "metadata": {
        "id": "wyL9ruNpDDFN"
      },
      "source": [
        "\n",
        "<div class=\"alert alert-success alertsuccess\" style=\"margin-top: 20px\">\n",
        "    [SUMMARY:] The int and float functions cast strings to numbers. Example:  int(\"10\") and float(\"10.5\").\n",
        "</div>\n"
      ]
    },
    {
      "cell_type": "markdown",
      "metadata": {
        "id": "6CoaSmeFDDFN"
      },
      "source": [
        "---\n",
        "\n",
        "## **Question 10!!!!!!!!!!!!!!!!!!!**  \n",
        "    "
      ]
    },
    {
      "cell_type": "markdown",
      "metadata": {
        "id": "K-d5PL6LDDFN"
      },
      "source": [
        "The code below relies on string concatenation and so prints \"3.14.8\".  Run the code to make sure you believe this.  Change the code so that the sum  of x and y (7.9) is printed out instead."
      ]
    },
    {
      "cell_type": "code",
      "execution_count": null,
      "metadata": {
        "id": "FdDl-L3JDDFN",
        "colab": {
          "base_uri": "https://localhost:8080/"
        },
        "outputId": "45eaacd4-454a-47c9-8f8b-fb48b515c36f"
      },
      "outputs": [
        {
          "output_type": "stream",
          "name": "stdout",
          "text": [
            "7.9\n"
          ]
        }
      ],
      "source": [
        "x = \"3.1\"\n",
        "y = \"4.8\"\n",
        "print(float(x)+float(y))"
      ]
    },
    {
      "cell_type": "markdown",
      "metadata": {
        "id": "cX_v0pEODDFN"
      },
      "source": [
        "Double-click __here__ for the solution.\n",
        "\n",
        "<!--\n",
        "x = \"3.1\"\n",
        "y = \"4.8\"\n",
        "print(float(x)+float(y))\n",
        "-->"
      ]
    },
    {
      "cell_type": "markdown",
      "metadata": {
        "id": "ox2o9BidDDFN"
      },
      "source": [
        "<hr/>\n",
        "<h2 id=\"bool\">11. Boolean data type</h2>"
      ]
    },
    {
      "cell_type": "markdown",
      "metadata": {
        "id": "bxIT12h3DDFN"
      },
      "source": [
        "<p><i>Boolean</i> is another important type in Python. An object of type <i>Boolean</i> can take on one of two values: <code>True</code> or <code>False</code>:</p>"
      ]
    },
    {
      "cell_type": "code",
      "execution_count": null,
      "metadata": {
        "id": "OPSaQbczDDFN",
        "colab": {
          "base_uri": "https://localhost:8080/"
        },
        "outputId": "63d6444e-088c-4da2-9fdf-1cd2a534ac2a"
      },
      "outputs": [
        {
          "output_type": "execute_result",
          "data": {
            "text/plain": [
              "True"
            ]
          },
          "metadata": {},
          "execution_count": 36
        }
      ],
      "source": [
        "# Value true\n",
        "\n",
        "True"
      ]
    },
    {
      "cell_type": "markdown",
      "metadata": {
        "id": "u1BOtvAqDDFN"
      },
      "source": [
        "<p>Notice that the value <code>True</code> has an uppercase \"T\". The same is true for <code>False</code> (i.e. you must use the uppercase \"F\").</p>"
      ]
    },
    {
      "cell_type": "code",
      "execution_count": null,
      "metadata": {
        "id": "VqxTroZxDDFN",
        "colab": {
          "base_uri": "https://localhost:8080/"
        },
        "outputId": "1ae800b4-fa05-40dd-9a24-90a09b6733ff"
      },
      "outputs": [
        {
          "output_type": "execute_result",
          "data": {
            "text/plain": [
              "False"
            ]
          },
          "metadata": {},
          "execution_count": 37
        }
      ],
      "source": [
        "# Value false\n",
        "\n",
        "False"
      ]
    },
    {
      "cell_type": "markdown",
      "metadata": {
        "id": "TEPl9qXSDDFO"
      },
      "source": [
        "<p>When you ask Python to display the type of a boolean object it will show <code>bool</code> which stands for <i>boolean</i>:</p>"
      ]
    },
    {
      "cell_type": "code",
      "execution_count": null,
      "metadata": {
        "id": "5d2b7qIvDDFO",
        "colab": {
          "base_uri": "https://localhost:8080/"
        },
        "outputId": "5a8e7c0e-41dc-41b5-e6ee-99b95a34c994"
      },
      "outputs": [
        {
          "output_type": "execute_result",
          "data": {
            "text/plain": [
              "bool"
            ]
          },
          "metadata": {},
          "execution_count": 38
        }
      ],
      "source": [
        "# Type of True\n",
        "\n",
        "type(True)"
      ]
    },
    {
      "cell_type": "code",
      "execution_count": null,
      "metadata": {
        "id": "D6c-2jo9DDFO",
        "colab": {
          "base_uri": "https://localhost:8080/"
        },
        "outputId": "1a8e24c0-b664-42d8-bf45-70e46c3e5086"
      },
      "outputs": [
        {
          "output_type": "execute_result",
          "data": {
            "text/plain": [
              "bool"
            ]
          },
          "metadata": {},
          "execution_count": 39
        }
      ],
      "source": [
        "# Type of False\n",
        "\n",
        "type(False)"
      ]
    },
    {
      "cell_type": "markdown",
      "metadata": {
        "id": "pfIKlmtXDDFO"
      },
      "source": [
        "<p>We can cast boolean objects to other data types. If we cast a boolean with a value of <code>True</code> to an integer or float we will get a one. If we cast a boolean with a value of <code>False</code> to an integer or float we will get a zero. Similarly, if we cast a 1 to a Boolean, you get a <code>True</code>. And if we cast a 0 to a Boolean we will get a <code>False</code>. Let's give it a try:</p>"
      ]
    },
    {
      "cell_type": "code",
      "execution_count": null,
      "metadata": {
        "id": "ntQ0luEZDDFO",
        "colab": {
          "base_uri": "https://localhost:8080/"
        },
        "outputId": "547c4d15-bdc8-4435-c9b6-e573999b671e"
      },
      "outputs": [
        {
          "output_type": "execute_result",
          "data": {
            "text/plain": [
              "1"
            ]
          },
          "metadata": {},
          "execution_count": 40
        }
      ],
      "source": [
        "# Convert True to int\n",
        "\n",
        "int(True)"
      ]
    },
    {
      "cell_type": "code",
      "execution_count": null,
      "metadata": {
        "id": "4UrVVrD4DDFO",
        "colab": {
          "base_uri": "https://localhost:8080/"
        },
        "outputId": "5f0130a0-cbc9-4521-e374-236488a2d942"
      },
      "outputs": [
        {
          "output_type": "execute_result",
          "data": {
            "text/plain": [
              "True"
            ]
          },
          "metadata": {},
          "execution_count": 41
        }
      ],
      "source": [
        "# Convert 1 to boolean\n",
        "\n",
        "bool(1)"
      ]
    },
    {
      "cell_type": "code",
      "execution_count": null,
      "metadata": {
        "id": "5SigaziCDDFO",
        "colab": {
          "base_uri": "https://localhost:8080/"
        },
        "outputId": "8e5bc381-30b6-4bd1-f3d6-3c424c9b23d0"
      },
      "outputs": [
        {
          "output_type": "execute_result",
          "data": {
            "text/plain": [
              "False"
            ]
          },
          "metadata": {},
          "execution_count": 42
        }
      ],
      "source": [
        "# Convert 0 to boolean\n",
        "\n",
        "bool(0)"
      ]
    },
    {
      "cell_type": "code",
      "execution_count": null,
      "metadata": {
        "id": "fyQWcYl5DDFO",
        "colab": {
          "base_uri": "https://localhost:8080/"
        },
        "outputId": "65b8dca6-e5ae-4d43-fa0d-0569f6444056"
      },
      "outputs": [
        {
          "output_type": "execute_result",
          "data": {
            "text/plain": [
              "1.0"
            ]
          },
          "metadata": {},
          "execution_count": 43
        }
      ],
      "source": [
        "# Convert True to float\n",
        "\n",
        "float(True)"
      ]
    },
    {
      "cell_type": "markdown",
      "metadata": {
        "id": "y1P5Vll-DDFO"
      },
      "source": [
        "The point of the previous few examples was just to introduce you to the BOOLEAN type (True/False)."
      ]
    },
    {
      "cell_type": "markdown",
      "metadata": {
        "id": "V8-0ra28DDFO"
      },
      "source": [
        "<hr>"
      ]
    },
    {
      "cell_type": "markdown",
      "metadata": {
        "id": "p13y-pL3DDFP"
      },
      "source": [
        "Okay!  You're done Lab B!  Submit this!   Your file should be called LabB_PythonBasics_YourInitials.ipynb"
      ]
    }
  ],
  "metadata": {
    "kernelspec": {
      "display_name": "Python 3 (ipykernel)",
      "language": "python",
      "name": "python3"
    },
    "language_info": {
      "codemirror_mode": {
        "name": "ipython",
        "version": 3
      },
      "file_extension": ".py",
      "mimetype": "text/x-python",
      "name": "python",
      "nbconvert_exporter": "python",
      "pygments_lexer": "ipython3",
      "version": "3.9.12"
    },
    "colab": {
      "provenance": []
    }
  },
  "nbformat": 4,
  "nbformat_minor": 0
}